{
 "cells": [
  {
   "cell_type": "markdown",
   "metadata": {},
   "source": [
    "## Подготовка данных"
   ]
  },
  {
   "cell_type": "code",
   "execution_count": 1,
   "metadata": {},
   "outputs": [],
   "source": [
    "# Импортируем необходимые библиотеки\n",
    "import pandas as pd\n",
    "\n",
    "from sklearn.preprocessing import StandardScaler, OneHotEncoder\n",
    "from sklearn.model_selection import train_test_split\n",
    "from sklearn.tree import DecisionTreeClassifier\n",
    "from sklearn.ensemble import RandomForestClassifier\n",
    "from sklearn.linear_model import LogisticRegression\n",
    "from sklearn.dummy import DummyClassifier\n",
    "from sklearn.metrics import f1_score, roc_auc_score\n",
    "from sklearn.utils import shuffle\n",
    "\n",
    "import numpy as np\n",
    "\n",
    "from tqdm import tqdm\n",
    "\n",
    "import warnings"
   ]
  },
  {
   "cell_type": "code",
   "execution_count": 2,
   "metadata": {},
   "outputs": [],
   "source": [
    "warnings.filterwarnings('ignore')"
   ]
  },
  {
   "cell_type": "code",
   "execution_count": 3,
   "metadata": {},
   "outputs": [],
   "source": [
    "# Задаём фиксированное значение гиперпараметра random_state\n",
    "RANDOM_STATE = 123"
   ]
  },
  {
   "cell_type": "code",
   "execution_count": 5,
   "metadata": {},
   "outputs": [
    {
     "name": "stdout",
     "output_type": "stream",
     "text": [
      "<class 'pandas.core.frame.DataFrame'>\n",
      "RangeIndex: 10000 entries, 0 to 9999\n",
      "Data columns (total 14 columns):\n",
      " #   Column           Non-Null Count  Dtype  \n",
      "---  ------           --------------  -----  \n",
      " 0   RowNumber        10000 non-null  int64  \n",
      " 1   CustomerId       10000 non-null  int64  \n",
      " 2   Surname          10000 non-null  object \n",
      " 3   CreditScore      10000 non-null  int64  \n",
      " 4   Geography        10000 non-null  object \n",
      " 5   Gender           10000 non-null  object \n",
      " 6   Age              10000 non-null  int64  \n",
      " 7   Tenure           9091 non-null   float64\n",
      " 8   Balance          10000 non-null  float64\n",
      " 9   NumOfProducts    10000 non-null  int64  \n",
      " 10  HasCrCard        10000 non-null  int64  \n",
      " 11  IsActiveMember   10000 non-null  int64  \n",
      " 12  EstimatedSalary  10000 non-null  float64\n",
      " 13  Exited           10000 non-null  int64  \n",
      "dtypes: float64(3), int64(8), object(3)\n",
      "memory usage: 1.1+ MB\n"
     ]
    }
   ],
   "source": [
    "data.info()"
   ]
  },
  {
   "cell_type": "code",
   "execution_count": 6,
   "metadata": {},
   "outputs": [
    {
     "data": {
      "text/html": [
       "<div>\n",
       "<style scoped>\n",
       "    .dataframe tbody tr th:only-of-type {\n",
       "        vertical-align: middle;\n",
       "    }\n",
       "\n",
       "    .dataframe tbody tr th {\n",
       "        vertical-align: top;\n",
       "    }\n",
       "\n",
       "    .dataframe thead th {\n",
       "        text-align: right;\n",
       "    }\n",
       "</style>\n",
       "<table border=\"1\" class=\"dataframe\">\n",
       "  <thead>\n",
       "    <tr style=\"text-align: right;\">\n",
       "      <th></th>\n",
       "      <th>RowNumber</th>\n",
       "      <th>CustomerId</th>\n",
       "      <th>Surname</th>\n",
       "      <th>CreditScore</th>\n",
       "      <th>Geography</th>\n",
       "      <th>Gender</th>\n",
       "      <th>Age</th>\n",
       "      <th>Tenure</th>\n",
       "      <th>Balance</th>\n",
       "      <th>NumOfProducts</th>\n",
       "      <th>HasCrCard</th>\n",
       "      <th>IsActiveMember</th>\n",
       "      <th>EstimatedSalary</th>\n",
       "      <th>Exited</th>\n",
       "    </tr>\n",
       "  </thead>\n",
       "  <tbody>\n",
       "    <tr>\n",
       "      <th>9995</th>\n",
       "      <td>9996</td>\n",
       "      <td>15606229</td>\n",
       "      <td>Obijiaku</td>\n",
       "      <td>771</td>\n",
       "      <td>France</td>\n",
       "      <td>Male</td>\n",
       "      <td>39</td>\n",
       "      <td>5.0</td>\n",
       "      <td>0.00</td>\n",
       "      <td>2</td>\n",
       "      <td>1</td>\n",
       "      <td>0</td>\n",
       "      <td>96270.64</td>\n",
       "      <td>0</td>\n",
       "    </tr>\n",
       "    <tr>\n",
       "      <th>9996</th>\n",
       "      <td>9997</td>\n",
       "      <td>15569892</td>\n",
       "      <td>Johnstone</td>\n",
       "      <td>516</td>\n",
       "      <td>France</td>\n",
       "      <td>Male</td>\n",
       "      <td>35</td>\n",
       "      <td>10.0</td>\n",
       "      <td>57369.61</td>\n",
       "      <td>1</td>\n",
       "      <td>1</td>\n",
       "      <td>1</td>\n",
       "      <td>101699.77</td>\n",
       "      <td>0</td>\n",
       "    </tr>\n",
       "    <tr>\n",
       "      <th>9997</th>\n",
       "      <td>9998</td>\n",
       "      <td>15584532</td>\n",
       "      <td>Liu</td>\n",
       "      <td>709</td>\n",
       "      <td>France</td>\n",
       "      <td>Female</td>\n",
       "      <td>36</td>\n",
       "      <td>7.0</td>\n",
       "      <td>0.00</td>\n",
       "      <td>1</td>\n",
       "      <td>0</td>\n",
       "      <td>1</td>\n",
       "      <td>42085.58</td>\n",
       "      <td>1</td>\n",
       "    </tr>\n",
       "    <tr>\n",
       "      <th>9998</th>\n",
       "      <td>9999</td>\n",
       "      <td>15682355</td>\n",
       "      <td>Sabbatini</td>\n",
       "      <td>772</td>\n",
       "      <td>Germany</td>\n",
       "      <td>Male</td>\n",
       "      <td>42</td>\n",
       "      <td>3.0</td>\n",
       "      <td>75075.31</td>\n",
       "      <td>2</td>\n",
       "      <td>1</td>\n",
       "      <td>0</td>\n",
       "      <td>92888.52</td>\n",
       "      <td>1</td>\n",
       "    </tr>\n",
       "    <tr>\n",
       "      <th>9999</th>\n",
       "      <td>10000</td>\n",
       "      <td>15628319</td>\n",
       "      <td>Walker</td>\n",
       "      <td>792</td>\n",
       "      <td>France</td>\n",
       "      <td>Female</td>\n",
       "      <td>28</td>\n",
       "      <td>NaN</td>\n",
       "      <td>130142.79</td>\n",
       "      <td>1</td>\n",
       "      <td>1</td>\n",
       "      <td>0</td>\n",
       "      <td>38190.78</td>\n",
       "      <td>0</td>\n",
       "    </tr>\n",
       "  </tbody>\n",
       "</table>\n",
       "</div>"
      ],
      "text/plain": [
       "      RowNumber  CustomerId    Surname  CreditScore Geography  Gender  Age  \\\n",
       "9995       9996    15606229   Obijiaku          771    France    Male   39   \n",
       "9996       9997    15569892  Johnstone          516    France    Male   35   \n",
       "9997       9998    15584532        Liu          709    France  Female   36   \n",
       "9998       9999    15682355  Sabbatini          772   Germany    Male   42   \n",
       "9999      10000    15628319     Walker          792    France  Female   28   \n",
       "\n",
       "      Tenure    Balance  NumOfProducts  HasCrCard  IsActiveMember  \\\n",
       "9995     5.0       0.00              2          1               0   \n",
       "9996    10.0   57369.61              1          1               1   \n",
       "9997     7.0       0.00              1          0               1   \n",
       "9998     3.0   75075.31              2          1               0   \n",
       "9999     NaN  130142.79              1          1               0   \n",
       "\n",
       "      EstimatedSalary  Exited  \n",
       "9995         96270.64       0  \n",
       "9996        101699.77       0  \n",
       "9997         42085.58       1  \n",
       "9998         92888.52       1  \n",
       "9999         38190.78       0  "
      ]
     },
     "execution_count": 6,
     "metadata": {},
     "output_type": "execute_result"
    }
   ],
   "source": [
    "data.tail()"
   ]
  },
  {
   "cell_type": "markdown",
   "metadata": {},
   "source": [
    "Исходный датасет состоит из 14 столбцов и 10000 строк.  \n",
    "Наблюдаются пропуски в столбце `Tenure` - количество лет, которых человек является клиентом банка.  \n",
    "Следующие столбцы содержат признаки: `CreditScore`, `Geography`, `Gender`, `Age`, `Tenure`, `Balance`, `NumOfProducts`, `HasCrCard`, `IsActiveMember`, `EstimatedSalary`.  \n",
    "Целевой признак: `Exited` - факт ухода клиента."
   ]
  },
  {
   "cell_type": "code",
   "execution_count": 7,
   "metadata": {},
   "outputs": [],
   "source": [
    "# Переименовываем столбцы\n",
    "data.columns = data.columns.str.lower()\n",
    "data.columns = data.rename({'rownumber': 'row_number', 'customerid': 'customer_id', 'creditscore': 'credit_score', \\\n",
    "                            'numofproducts': 'num_of_products', 'hascrcard': 'has_credit_card', \\\n",
    "                            'isactivemember': 'is_active_member', 'estimatedsalary': 'estimated_salary'}, axis=1).columns"
   ]
  },
  {
   "cell_type": "code",
   "execution_count": 8,
   "metadata": {},
   "outputs": [],
   "source": [
    "# Пропущенные значения в столбце 'tenure' запольним медианным значением\n",
    "data['tenure'] = data['tenure'].fillna(data['tenure'].median())"
   ]
  },
  {
   "cell_type": "markdown",
   "metadata": {},
   "source": [
    "Сохраним признаки в переменной `features` и целевой признак в переменной `train`."
   ]
  },
  {
   "cell_type": "code",
   "execution_count": 9,
   "metadata": {},
   "outputs": [],
   "source": [
    "features = data.drop(['row_number', 'customer_id', 'surname', 'exited'], axis=1)\n",
    "target = data['exited']"
   ]
  },
  {
   "cell_type": "markdown",
   "metadata": {},
   "source": [
    "Разделим выборки с признаками и целевым признаком на выборки обучающие и валидационные."
   ]
  },
  {
   "cell_type": "code",
   "execution_count": 10,
   "metadata": {
    "scrolled": false
   },
   "outputs": [
    {
     "name": "stdout",
     "output_type": "stream",
     "text": [
      "Количество строк в обучающей выборке по классам: [4778 1222]\n",
      "Количество строк в валидационной выборке по классам: [1592  408]\n",
      "Количество строк в тестовой выборке по классам: [1593  407]\n"
     ]
    }
   ],
   "source": [
    "features_train, features_valid, \\\n",
    "target_train, target_valid = train_test_split(features, target, train_size=.6, \\\n",
    "                                              random_state=RANDOM_STATE, \\\n",
    "                                              stratify=target)\n",
    "features_valid, features_test, \\\n",
    "target_valid, target_test = train_test_split(features_valid, target_valid, test_size=.5, \\\n",
    "                                             random_state=RANDOM_STATE, \\\n",
    "                                             stratify=target_valid)\n",
    "print(f\"Количество строк в обучающей выборке по классам: {np.bincount(target_train)}\")\n",
    "print(f\"Количество строк в валидационной выборке по классам: {np.bincount(target_valid)}\")\n",
    "print(f\"Количество строк в тестовой выборке по классам: {np.bincount(target_test)}\")"
   ]
  },
  {
   "cell_type": "markdown",
   "metadata": {},
   "source": [
    "Техникой OHE(прямое кодирование) категориальные признаки в столбцах `geography`, `gender` переведём в численные."
   ]
  },
  {
   "cell_type": "code",
   "execution_count": 11,
   "metadata": {},
   "outputs": [
    {
     "data": {
      "text/html": [
       "<style>#sk-container-id-1 {color: black;background-color: white;}#sk-container-id-1 pre{padding: 0;}#sk-container-id-1 div.sk-toggleable {background-color: white;}#sk-container-id-1 label.sk-toggleable__label {cursor: pointer;display: block;width: 100%;margin-bottom: 0;padding: 0.3em;box-sizing: border-box;text-align: center;}#sk-container-id-1 label.sk-toggleable__label-arrow:before {content: \"▸\";float: left;margin-right: 0.25em;color: #696969;}#sk-container-id-1 label.sk-toggleable__label-arrow:hover:before {color: black;}#sk-container-id-1 div.sk-estimator:hover label.sk-toggleable__label-arrow:before {color: black;}#sk-container-id-1 div.sk-toggleable__content {max-height: 0;max-width: 0;overflow: hidden;text-align: left;background-color: #f0f8ff;}#sk-container-id-1 div.sk-toggleable__content pre {margin: 0.2em;color: black;border-radius: 0.25em;background-color: #f0f8ff;}#sk-container-id-1 input.sk-toggleable__control:checked~div.sk-toggleable__content {max-height: 200px;max-width: 100%;overflow: auto;}#sk-container-id-1 input.sk-toggleable__control:checked~label.sk-toggleable__label-arrow:before {content: \"▾\";}#sk-container-id-1 div.sk-estimator input.sk-toggleable__control:checked~label.sk-toggleable__label {background-color: #d4ebff;}#sk-container-id-1 div.sk-label input.sk-toggleable__control:checked~label.sk-toggleable__label {background-color: #d4ebff;}#sk-container-id-1 input.sk-hidden--visually {border: 0;clip: rect(1px 1px 1px 1px);clip: rect(1px, 1px, 1px, 1px);height: 1px;margin: -1px;overflow: hidden;padding: 0;position: absolute;width: 1px;}#sk-container-id-1 div.sk-estimator {font-family: monospace;background-color: #f0f8ff;border: 1px dotted black;border-radius: 0.25em;box-sizing: border-box;margin-bottom: 0.5em;}#sk-container-id-1 div.sk-estimator:hover {background-color: #d4ebff;}#sk-container-id-1 div.sk-parallel-item::after {content: \"\";width: 100%;border-bottom: 1px solid gray;flex-grow: 1;}#sk-container-id-1 div.sk-label:hover label.sk-toggleable__label {background-color: #d4ebff;}#sk-container-id-1 div.sk-serial::before {content: \"\";position: absolute;border-left: 1px solid gray;box-sizing: border-box;top: 0;bottom: 0;left: 50%;z-index: 0;}#sk-container-id-1 div.sk-serial {display: flex;flex-direction: column;align-items: center;background-color: white;padding-right: 0.2em;padding-left: 0.2em;position: relative;}#sk-container-id-1 div.sk-item {position: relative;z-index: 1;}#sk-container-id-1 div.sk-parallel {display: flex;align-items: stretch;justify-content: center;background-color: white;position: relative;}#sk-container-id-1 div.sk-item::before, #sk-container-id-1 div.sk-parallel-item::before {content: \"\";position: absolute;border-left: 1px solid gray;box-sizing: border-box;top: 0;bottom: 0;left: 50%;z-index: -1;}#sk-container-id-1 div.sk-parallel-item {display: flex;flex-direction: column;z-index: 1;position: relative;background-color: white;}#sk-container-id-1 div.sk-parallel-item:first-child::after {align-self: flex-end;width: 50%;}#sk-container-id-1 div.sk-parallel-item:last-child::after {align-self: flex-start;width: 50%;}#sk-container-id-1 div.sk-parallel-item:only-child::after {width: 0;}#sk-container-id-1 div.sk-dashed-wrapped {border: 1px dashed gray;margin: 0 0.4em 0.5em 0.4em;box-sizing: border-box;padding-bottom: 0.4em;background-color: white;}#sk-container-id-1 div.sk-label label {font-family: monospace;font-weight: bold;display: inline-block;line-height: 1.2em;}#sk-container-id-1 div.sk-label-container {text-align: center;}#sk-container-id-1 div.sk-container {/* jupyter's `normalize.less` sets `[hidden] { display: none; }` but bootstrap.min.css set `[hidden] { display: none !important; }` so we also need the `!important` here to be able to override the default hidden behavior on the sphinx rendered scikit-learn.org. See: https://github.com/scikit-learn/scikit-learn/issues/21755 */display: inline-block !important;position: relative;}#sk-container-id-1 div.sk-text-repr-fallback {display: none;}</style><div id=\"sk-container-id-1\" class=\"sk-top-container\"><div class=\"sk-text-repr-fallback\"><pre>OneHotEncoder(drop=&#x27;first&#x27;, handle_unknown=&#x27;ignore&#x27;, sparse=False)</pre><b>In a Jupyter environment, please rerun this cell to show the HTML representation or trust the notebook. <br />On GitHub, the HTML representation is unable to render, please try loading this page with nbviewer.org.</b></div><div class=\"sk-container\" hidden><div class=\"sk-item\"><div class=\"sk-estimator sk-toggleable\"><input class=\"sk-toggleable__control sk-hidden--visually\" id=\"sk-estimator-id-1\" type=\"checkbox\" checked><label for=\"sk-estimator-id-1\" class=\"sk-toggleable__label sk-toggleable__label-arrow\">OneHotEncoder</label><div class=\"sk-toggleable__content\"><pre>OneHotEncoder(drop=&#x27;first&#x27;, handle_unknown=&#x27;ignore&#x27;, sparse=False)</pre></div></div></div></div></div>"
      ],
      "text/plain": [
       "OneHotEncoder(drop='first', handle_unknown='ignore', sparse=False)"
      ]
     },
     "execution_count": 11,
     "metadata": {},
     "output_type": "execute_result"
    }
   ],
   "source": [
    "encoder_ohe = OneHotEncoder(drop='first', handle_unknown='ignore', sparse=False)\n",
    "encoder_ohe.fit(features_train[['geography', 'gender']])"
   ]
  },
  {
   "cell_type": "code",
   "execution_count": 12,
   "metadata": {},
   "outputs": [],
   "source": [
    "features_train[encoder_ohe.get_feature_names_out()] = encoder_ohe.transform(features_train[['geography', 'gender']])\n",
    "features_train = features_train.drop(['geography', 'gender'], axis=1)"
   ]
  },
  {
   "cell_type": "code",
   "execution_count": 13,
   "metadata": {
    "scrolled": true
   },
   "outputs": [],
   "source": [
    "features_valid[encoder_ohe.get_feature_names_out()] = encoder_ohe.transform(features_valid[['geography', 'gender']])\n",
    "features_valid = features_valid.drop(['geography', 'gender'], axis=1)"
   ]
  },
  {
   "cell_type": "code",
   "execution_count": 14,
   "metadata": {
    "scrolled": true
   },
   "outputs": [],
   "source": [
    "features_test[encoder_ohe.get_feature_names_out()] = encoder_ohe.transform(features_test[['geography', 'gender']])\n",
    "features_test = features_test.drop(['geography', 'gender'], axis=1)"
   ]
  },
  {
   "cell_type": "markdown",
   "metadata": {},
   "source": [
    "Далее стандартизируем данные в трёх выборках с признаками."
   ]
  },
  {
   "cell_type": "code",
   "execution_count": 15,
   "metadata": {},
   "outputs": [
    {
     "data": {
      "text/html": [
       "<style>#sk-container-id-2 {color: black;background-color: white;}#sk-container-id-2 pre{padding: 0;}#sk-container-id-2 div.sk-toggleable {background-color: white;}#sk-container-id-2 label.sk-toggleable__label {cursor: pointer;display: block;width: 100%;margin-bottom: 0;padding: 0.3em;box-sizing: border-box;text-align: center;}#sk-container-id-2 label.sk-toggleable__label-arrow:before {content: \"▸\";float: left;margin-right: 0.25em;color: #696969;}#sk-container-id-2 label.sk-toggleable__label-arrow:hover:before {color: black;}#sk-container-id-2 div.sk-estimator:hover label.sk-toggleable__label-arrow:before {color: black;}#sk-container-id-2 div.sk-toggleable__content {max-height: 0;max-width: 0;overflow: hidden;text-align: left;background-color: #f0f8ff;}#sk-container-id-2 div.sk-toggleable__content pre {margin: 0.2em;color: black;border-radius: 0.25em;background-color: #f0f8ff;}#sk-container-id-2 input.sk-toggleable__control:checked~div.sk-toggleable__content {max-height: 200px;max-width: 100%;overflow: auto;}#sk-container-id-2 input.sk-toggleable__control:checked~label.sk-toggleable__label-arrow:before {content: \"▾\";}#sk-container-id-2 div.sk-estimator input.sk-toggleable__control:checked~label.sk-toggleable__label {background-color: #d4ebff;}#sk-container-id-2 div.sk-label input.sk-toggleable__control:checked~label.sk-toggleable__label {background-color: #d4ebff;}#sk-container-id-2 input.sk-hidden--visually {border: 0;clip: rect(1px 1px 1px 1px);clip: rect(1px, 1px, 1px, 1px);height: 1px;margin: -1px;overflow: hidden;padding: 0;position: absolute;width: 1px;}#sk-container-id-2 div.sk-estimator {font-family: monospace;background-color: #f0f8ff;border: 1px dotted black;border-radius: 0.25em;box-sizing: border-box;margin-bottom: 0.5em;}#sk-container-id-2 div.sk-estimator:hover {background-color: #d4ebff;}#sk-container-id-2 div.sk-parallel-item::after {content: \"\";width: 100%;border-bottom: 1px solid gray;flex-grow: 1;}#sk-container-id-2 div.sk-label:hover label.sk-toggleable__label {background-color: #d4ebff;}#sk-container-id-2 div.sk-serial::before {content: \"\";position: absolute;border-left: 1px solid gray;box-sizing: border-box;top: 0;bottom: 0;left: 50%;z-index: 0;}#sk-container-id-2 div.sk-serial {display: flex;flex-direction: column;align-items: center;background-color: white;padding-right: 0.2em;padding-left: 0.2em;position: relative;}#sk-container-id-2 div.sk-item {position: relative;z-index: 1;}#sk-container-id-2 div.sk-parallel {display: flex;align-items: stretch;justify-content: center;background-color: white;position: relative;}#sk-container-id-2 div.sk-item::before, #sk-container-id-2 div.sk-parallel-item::before {content: \"\";position: absolute;border-left: 1px solid gray;box-sizing: border-box;top: 0;bottom: 0;left: 50%;z-index: -1;}#sk-container-id-2 div.sk-parallel-item {display: flex;flex-direction: column;z-index: 1;position: relative;background-color: white;}#sk-container-id-2 div.sk-parallel-item:first-child::after {align-self: flex-end;width: 50%;}#sk-container-id-2 div.sk-parallel-item:last-child::after {align-self: flex-start;width: 50%;}#sk-container-id-2 div.sk-parallel-item:only-child::after {width: 0;}#sk-container-id-2 div.sk-dashed-wrapped {border: 1px dashed gray;margin: 0 0.4em 0.5em 0.4em;box-sizing: border-box;padding-bottom: 0.4em;background-color: white;}#sk-container-id-2 div.sk-label label {font-family: monospace;font-weight: bold;display: inline-block;line-height: 1.2em;}#sk-container-id-2 div.sk-label-container {text-align: center;}#sk-container-id-2 div.sk-container {/* jupyter's `normalize.less` sets `[hidden] { display: none; }` but bootstrap.min.css set `[hidden] { display: none !important; }` so we also need the `!important` here to be able to override the default hidden behavior on the sphinx rendered scikit-learn.org. See: https://github.com/scikit-learn/scikit-learn/issues/21755 */display: inline-block !important;position: relative;}#sk-container-id-2 div.sk-text-repr-fallback {display: none;}</style><div id=\"sk-container-id-2\" class=\"sk-top-container\"><div class=\"sk-text-repr-fallback\"><pre>StandardScaler()</pre><b>In a Jupyter environment, please rerun this cell to show the HTML representation or trust the notebook. <br />On GitHub, the HTML representation is unable to render, please try loading this page with nbviewer.org.</b></div><div class=\"sk-container\" hidden><div class=\"sk-item\"><div class=\"sk-estimator sk-toggleable\"><input class=\"sk-toggleable__control sk-hidden--visually\" id=\"sk-estimator-id-2\" type=\"checkbox\" checked><label for=\"sk-estimator-id-2\" class=\"sk-toggleable__label sk-toggleable__label-arrow\">StandardScaler</label><div class=\"sk-toggleable__content\"><pre>StandardScaler()</pre></div></div></div></div></div>"
      ],
      "text/plain": [
       "StandardScaler()"
      ]
     },
     "execution_count": 15,
     "metadata": {},
     "output_type": "execute_result"
    }
   ],
   "source": [
    "scaler = StandardScaler()\n",
    "columns = ['credit_score', 'age', \\\n",
    "           'tenure', 'balance', \\\n",
    "           'num_of_products', \\\n",
    "           'estimated_salary']\n",
    "scaler.fit(features_train[columns])"
   ]
  },
  {
   "cell_type": "code",
   "execution_count": 16,
   "metadata": {},
   "outputs": [],
   "source": [
    "features_train[columns] = scaler.transform(features_train[columns])"
   ]
  },
  {
   "cell_type": "code",
   "execution_count": 17,
   "metadata": {},
   "outputs": [],
   "source": [
    "features_valid[columns] = scaler.transform(features_valid[columns])"
   ]
  },
  {
   "cell_type": "code",
   "execution_count": 18,
   "metadata": {},
   "outputs": [],
   "source": [
    "features_test[columns] = scaler.transform(features_test[columns])"
   ]
  },
  {
   "cell_type": "markdown",
   "metadata": {},
   "source": [
    "**Вывод:** пропущенные значения заменены медианным; выделены выборки, содержащие признаки и целевой признок; выборки разделены на обучающую, валидационную и тестовую; техникой OHE категориальные признаки переведены в численные; произведено масштабирование данных."
   ]
  },
  {
   "cell_type": "markdown",
   "metadata": {},
   "source": [
    "## Исследование задачи"
   ]
  },
  {
   "cell_type": "code",
   "execution_count": 19,
   "metadata": {},
   "outputs": [
    {
     "data": {
      "text/plain": [
       "exited\n",
       "0    7963\n",
       "1    2037\n",
       "Name: exited, dtype: int64"
      ]
     },
     "execution_count": 19,
     "metadata": {},
     "output_type": "execute_result"
    }
   ],
   "source": [
    "data.groupby('exited')['exited'].count()"
   ]
  },
  {
   "cell_type": "markdown",
   "metadata": {},
   "source": [
    "Соотношение ушедших клиентов к оставшимся примерно 1/4, либо 20 и 80 в процентном соотношении.  \n",
    "Создадим функции, которые обучают модели, после чего обучим модели."
   ]
  },
  {
   "cell_type": "code",
   "execution_count": 20,
   "metadata": {},
   "outputs": [],
   "source": [
    "# Модель классификации деревом решений\n",
    "def model_dt_classifier(features, target, \\\n",
    "                        depth_range=range(1, 31), \\\n",
    "                        class_weight=None, \\\n",
    "                        random_state=RANDOM_STATE):\n",
    "    f1_valid_best = 0\n",
    "    for depth in tqdm(depth_range):\n",
    "        model_dt= DecisionTreeClassifier(max_depth=depth, random_state=random_state, class_weight=class_weight)\n",
    "        model_dt.fit(features, target)\n",
    "        predictions_valid = model_dt.predict(features_valid)\n",
    "        f1_valid = f1_score(target_valid, predictions_valid)\n",
    "        probabilities_one_valid = model_dt.predict_proba(features_valid)[:, 1]\n",
    "        if f1_valid > f1_valid_best:\n",
    "            f1_valid_best = f1_valid\n",
    "            best_max_depth = depth\n",
    "            best_model_dt = model_dt\n",
    "            auc_roc = roc_auc_score(target_valid, probabilities_one_valid)\n",
    "    print(f'Высший показатель f1 меры на валидационной выборке равен {f1_valid_best} при глубине дерева - {best_max_depth}.')\n",
    "    print(f'Значение roc-auc равно {auc_roc}.')\n",
    "    return(best_model_dt)"
   ]
  },
  {
   "cell_type": "code",
   "execution_count": 21,
   "metadata": {},
   "outputs": [],
   "source": [
    "# Модель классификации случайный лес\n",
    "def model_rf_classifier(features, target, \\\n",
    "                        estimators_range=range(1, 51), \\\n",
    "                        depth_range=range(1, 31), \\\n",
    "                        class_weight=None, \\\n",
    "                        random_state=RANDOM_STATE):\n",
    "    f1_valid_best = 0\n",
    "    for estimators in tqdm(estimators_range):\n",
    "        for depth in depth_range:\n",
    "            model_rf = RandomForestClassifier(n_estimators=estimators, max_depth=depth, random_state=random_state)\n",
    "            model_rf.fit(features, target)\n",
    "            predictions_valid = model_rf.predict(features_valid)\n",
    "            f1_valid = f1_score(target_valid, predictions_valid)\n",
    "            probabilities_one_valid = model_rf.predict_proba(features_valid)[:, 1]\n",
    "            if f1_valid > f1_valid_best:\n",
    "                f1_valid_best = f1_valid\n",
    "                best_max_depth = depth\n",
    "                best_model_rf = model_rf\n",
    "                auc_roc = roc_auc_score(target_valid, probabilities_one_valid)\n",
    "                best_n_estimators = estimators\n",
    "    print(f'Высший показатель f1 меры на валидационной выборке равен {f1_valid_best} при глубине дерева - {best_max_depth} и количестве деревьев - {best_n_estimators}.')\n",
    "    print(f'Значение roc-auc равно {auc_roc}.')\n",
    "    return(best_model_rf)"
   ]
  },
  {
   "cell_type": "code",
   "execution_count": 22,
   "metadata": {},
   "outputs": [],
   "source": [
    "# Модель логистической регрессии\n",
    "def model_lr(features, target, \\\n",
    "             solver='lbfgs', \\\n",
    "             class_weight=None, \\\n",
    "             random_state=RANDOM_STATE):\n",
    "    model_lr = LogisticRegression(solver=solver, class_weight=class_weight, random_state=random_state)\n",
    "    model_lr.fit(features, target)\n",
    "    predictions_valid = model_lr.predict(features_valid)\n",
    "    f1_valid = f1_score(target_valid, predictions_valid)\n",
    "    probabilities_one_valid = model_lr.predict_proba(features_valid)[:, 1]\n",
    "    auc_roc = roc_auc_score(target_valid, probabilities_one_valid)\n",
    "    print(f'Показатель f1 меры на валидационной выборке равен {f1_valid}.')\n",
    "    print(f'Значение roc-auc равно {auc_roc}.')\n",
    "    return(model_lr)"
   ]
  },
  {
   "cell_type": "code",
   "execution_count": 23,
   "metadata": {},
   "outputs": [
    {
     "name": "stderr",
     "output_type": "stream",
     "text": [
      "100%|██████████████████████████████████████████████████████████████████████████████████| 30/30 [00:00<00:00, 56.51it/s]"
     ]
    },
    {
     "name": "stdout",
     "output_type": "stream",
     "text": [
      "Высший показатель f1 меры на валидационной выборке равен 0.5664739884393063 при глубине дерева - 7.\n",
      "Значение roc-auc равно 0.8198360060104445.\n",
      "CPU times: total: 562 ms\n",
      "Wall time: 534 ms\n"
     ]
    },
    {
     "name": "stderr",
     "output_type": "stream",
     "text": [
      "\n"
     ]
    }
   ],
   "source": [
    "%%time\n",
    "# Модель классификации деревом решений без учёта дисбаланса\n",
    "model_dt_unbalanced = model_dt_classifier(features_train, target_train)"
   ]
  },
  {
   "cell_type": "code",
   "execution_count": 24,
   "metadata": {},
   "outputs": [
    {
     "name": "stderr",
     "output_type": "stream",
     "text": [
      "100%|████████████████████████████████████████████████████████████████████████████████████| 6/6 [00:04<00:00,  1.39it/s]"
     ]
    },
    {
     "name": "stdout",
     "output_type": "stream",
     "text": [
      "Высший показатель f1 меры на валидационной выборке равен 0.5748502994011976 при глубине дерева - 20 и количестве деревьев - 29.\n",
      "Значение roc-auc равно 0.8358928527441126.\n",
      "CPU times: total: 4.33 s\n",
      "Wall time: 4.33 s\n"
     ]
    },
    {
     "name": "stderr",
     "output_type": "stream",
     "text": [
      "\n"
     ]
    }
   ],
   "source": [
    "%%time\n",
    "# Модель классификации случайный лес без учёта дисбаланса\n",
    "model_rf_unbalanced = model_rf_classifier(features_train, target_train, \\\n",
    "                                          estimators_range=range(25, 31), \\\n",
    "                                          depth_range=range(18, 23))"
   ]
  },
  {
   "cell_type": "code",
   "execution_count": 25,
   "metadata": {},
   "outputs": [
    {
     "name": "stdout",
     "output_type": "stream",
     "text": [
      "Показатель f1 меры на валидационной выборке равен 0.29840142095914746.\n",
      "Значение roc-auc равно 0.731508338259927.\n"
     ]
    }
   ],
   "source": [
    "# Модель логистической регрессии без учёта дисбаланса\n",
    "model_lr_unbalanced = model_lr(features_train, target_train, \\\n",
    "                               solver='liblinear')"
   ]
  },
  {
   "cell_type": "markdown",
   "metadata": {},
   "source": [
    "При обучении моделей без учёта дисбаланса классов наибольшие значения f1 меры и auc-roc у модели случайного леса. На втором месте модель дерева решений, затем модель логистической регрессии."
   ]
  },
  {
   "cell_type": "markdown",
   "metadata": {},
   "source": [
    "## Борьба с дисбалансом"
   ]
  },
  {
   "cell_type": "markdown",
   "metadata": {},
   "source": [
    "Напишем функции:  \n",
    "1) уменьшающую выборку с целевым признаком 0;  \n",
    "2) увеличивающую выборку с целевым признаком 1."
   ]
  },
  {
   "cell_type": "code",
   "execution_count": 26,
   "metadata": {},
   "outputs": [],
   "source": [
    "def downsample(fraction, features=features_train, target=target_train, random_state=RANDOM_STATE):\n",
    "    features_zeros = features[target == 0]\n",
    "    features_ones = features[target == 1]\n",
    "    target_zeros = target[target == 0]\n",
    "    target_ones = target[target == 1]\n",
    "    features_downsampled = pd.concat([features_zeros.sample(frac=fraction, random_state=random_state)] + [features_ones])\n",
    "    target_downsampled = pd.concat([target_zeros.sample(frac=fraction, random_state=random_state)] + [target_ones])\n",
    "    features_downsampled, target_downsampled = shuffle(features_downsampled, target_downsampled, random_state=random_state)\n",
    "    return features_downsampled, target_downsampled"
   ]
  },
  {
   "cell_type": "code",
   "execution_count": 27,
   "metadata": {},
   "outputs": [],
   "source": [
    "def upsample(repeat, features=features_train, target=target_train, random_state=RANDOM_STATE):\n",
    "    features_zeros = features[target == 0]\n",
    "    features_ones = features[target == 1]\n",
    "    target_zeros = target[target == 0]\n",
    "    target_ones = target[target == 1]\n",
    "    features_upsampled = pd.concat([features_zeros] + [features_ones] * repeat)\n",
    "    target_upsampled = pd.concat([target_zeros] + [target_ones] * repeat)\n",
    "    features_upsampled, target_upsampled = shuffle(features_upsampled, target_upsampled, random_state=random_state)\n",
    "    return features_upsampled, target_upsampled"
   ]
  },
  {
   "cell_type": "markdown",
   "metadata": {},
   "source": [
    "Отношение целевых признаков 1/4, поэтому рассмотрим несколько вариантов балансирования классов:  \n",
    "- увеличение выборки с целевым признаком 1 в четыре раза;\n",
    "- уменьшение выборки с целевым признаком 0 в четыре раза;\n",
    "- увеличение выборки с целевым признаком 1 в два раза и уменьшение выборки с целевым признаком 0 в два раза."
   ]
  },
  {
   "cell_type": "code",
   "execution_count": 28,
   "metadata": {},
   "outputs": [
    {
     "data": {
      "text/plain": [
       "1    4888\n",
       "0    4778\n",
       "Name: exited, dtype: int64"
      ]
     },
     "execution_count": 28,
     "metadata": {},
     "output_type": "execute_result"
    }
   ],
   "source": [
    "# Первый вариант (увеличение выборки с ушедшими клиентами в четыре раза)\n",
    "features_train_balanced, target_train_balanced = upsample(4)\n",
    "target_train_balanced.value_counts()"
   ]
  },
  {
   "cell_type": "code",
   "execution_count": 29,
   "metadata": {},
   "outputs": [
    {
     "name": "stderr",
     "output_type": "stream",
     "text": [
      "100%|██████████████████████████████████████████████████████████████████████████████████| 30/30 [00:00<00:00, 44.84it/s]"
     ]
    },
    {
     "name": "stdout",
     "output_type": "stream",
     "text": [
      "Высший показатель f1 меры на валидационной выборке равен 0.5577981651376147 при глубине дерева - 6.\n",
      "Значение roc-auc равно 0.8253414745295103.\n",
      "CPU times: total: 672 ms\n",
      "Wall time: 671 ms\n"
     ]
    },
    {
     "name": "stderr",
     "output_type": "stream",
     "text": [
      "\n"
     ]
    }
   ],
   "source": [
    "%%time\n",
    "# Модель классификации деревом решений\n",
    "model_dt_balanced_first = model_dt_classifier(features_train_balanced, target_train_balanced)"
   ]
  },
  {
   "cell_type": "code",
   "execution_count": 30,
   "metadata": {},
   "outputs": [
    {
     "name": "stderr",
     "output_type": "stream",
     "text": [
      "100%|████████████████████████████████████████████████████████████████████████████████████| 4/4 [00:03<00:00,  1.03it/s]"
     ]
    },
    {
     "name": "stdout",
     "output_type": "stream",
     "text": [
      "Высший показатель f1 меры на валидационной выборке равен 0.6002522068095838 при глубине дерева - 15 и количестве деревьев - 35.\n",
      "Значение roc-auc равно 0.8409287552960883.\n",
      "CPU times: total: 3.92 s\n",
      "Wall time: 3.9 s\n"
     ]
    },
    {
     "name": "stderr",
     "output_type": "stream",
     "text": [
      "\n"
     ]
    }
   ],
   "source": [
    "%%time\n",
    "# Модель классификации случайный лес\n",
    "model_rf_balanced_first = model_rf_classifier(features_train_balanced, target_train_balanced, \\\n",
    "                                            estimators_range=range(33, 37), \\\n",
    "                                            depth_range=range(13, 17))"
   ]
  },
  {
   "cell_type": "code",
   "execution_count": 31,
   "metadata": {},
   "outputs": [
    {
     "name": "stdout",
     "output_type": "stream",
     "text": [
      "Показатель f1 меры на валидационной выборке равен 0.4575389948006932.\n",
      "Значение roc-auc равно 0.7344011725293133.\n"
     ]
    }
   ],
   "source": [
    "# Модель логистической регрессии\n",
    "model_lr_balanced_first = model_lr(features_train_balanced, target_train_balanced, \\\n",
    "                                 solver='liblinear')"
   ]
  },
  {
   "cell_type": "markdown",
   "metadata": {},
   "source": [
    "В первом варианте наивысшее качество у модели случайный лес. \n",
    "\n",
    "Значение f1 меры относительно варианта без учёта дисбаланса у модели:\n",
    "- классификации деревом решений уменьшилось;\n",
    "- случайный лес увеличилось;\n",
    "- логистической регрессии увеличилось.  \n",
    "\n",
    "Значение roc-auc относительно варианта без учёта дисбаланса у модели:\n",
    "- классификации деревом решений увеличилось;\n",
    "- случайный лес увеличилось;\n",
    "- логистической регрессии увеличилось."
   ]
  },
  {
   "cell_type": "code",
   "execution_count": 32,
   "metadata": {},
   "outputs": [
    {
     "data": {
      "text/plain": [
       "1    1222\n",
       "0    1194\n",
       "Name: exited, dtype: int64"
      ]
     },
     "execution_count": 32,
     "metadata": {},
     "output_type": "execute_result"
    }
   ],
   "source": [
    "# Второй вариант (уменьшение выборки с оставшимися клиентами в четыре раза)\n",
    "features_train_balanced, target_train_balanced = downsample(.25)\n",
    "target_train_balanced.value_counts()"
   ]
  },
  {
   "cell_type": "code",
   "execution_count": 33,
   "metadata": {},
   "outputs": [
    {
     "name": "stderr",
     "output_type": "stream",
     "text": [
      "100%|██████████████████████████████████████████████████████████████████████████████████| 30/30 [00:00<00:00, 98.01it/s]"
     ]
    },
    {
     "name": "stdout",
     "output_type": "stream",
     "text": [
      "Высший показатель f1 меры на валидационной выборке равен 0.5457979225684608 при глубине дерева - 6.\n",
      "Значение roc-auc равно 0.8125269423095871.\n",
      "CPU times: total: 312 ms\n",
      "Wall time: 309 ms\n"
     ]
    },
    {
     "name": "stderr",
     "output_type": "stream",
     "text": [
      "\n"
     ]
    }
   ],
   "source": [
    "%%time\n",
    "# Модель классификации деревом решений\n",
    "model_dt_balanced_second = model_dt_classifier(features_train_balanced, target_train_balanced)"
   ]
  },
  {
   "cell_type": "code",
   "execution_count": 34,
   "metadata": {},
   "outputs": [
    {
     "name": "stderr",
     "output_type": "stream",
     "text": [
      "100%|████████████████████████████████████████████████████████████████████████████████████| 5/5 [00:01<00:00,  4.04it/s]"
     ]
    },
    {
     "name": "stdout",
     "output_type": "stream",
     "text": [
      "Высший показатель f1 меры на валидационной выборке равен 0.5749761222540593 при глубине дерева - 8 и количестве деревьев - 13.\n",
      "Значение roc-auc равно 0.8335142316977042.\n",
      "CPU times: total: 1.23 s\n",
      "Wall time: 1.24 s\n"
     ]
    },
    {
     "name": "stderr",
     "output_type": "stream",
     "text": [
      "\n"
     ]
    }
   ],
   "source": [
    "%%time\n",
    "# Модель классификации случайный лес\n",
    "model_rf_balanced_second = model_rf_classifier(features_train_balanced, target_train_balanced, \\\n",
    "                                            estimators_range=range(10, 15), \\\n",
    "                                            depth_range=range(1, 10))"
   ]
  },
  {
   "cell_type": "code",
   "execution_count": 35,
   "metadata": {},
   "outputs": [
    {
     "name": "stdout",
     "output_type": "stream",
     "text": [
      "Показатель f1 меры на валидационной выборке равен 0.457482993197279.\n",
      "Значение roc-auc равно 0.7329832372647552.\n"
     ]
    }
   ],
   "source": [
    "# Модель логистической регрессии\n",
    "model_lr_balanced_second = model_lr(features_train_balanced, target_train_balanced, \\\n",
    "                                 solver='lbfgs')"
   ]
  },
  {
   "cell_type": "markdown",
   "metadata": {},
   "source": [
    "Во втором варианте наивысшее качество у модели случайный лес. \n",
    "\n",
    "Значение f1 меры относительно варианта без учёта дисбаланса у модели:\n",
    "- классификации деревом решений уменьшилось;\n",
    "- случайный лес увеличилось;\n",
    "- логистической регрессии увеличилось.  \n",
    "\n",
    "Значение roc-auc относительно варианта без учёта дисбаланса у модели:\n",
    "- классификации деревом решений уменьшилось;\n",
    "- случайный лес уменьшилось;\n",
    "- логистической регрессии увеличилось."
   ]
  },
  {
   "cell_type": "code",
   "execution_count": 36,
   "metadata": {},
   "outputs": [
    {
     "data": {
      "text/plain": [
       "1    2444\n",
       "0    2389\n",
       "Name: exited, dtype: int64"
      ]
     },
     "execution_count": 36,
     "metadata": {},
     "output_type": "execute_result"
    }
   ],
   "source": [
    "# Третий вариант (уменьшение выборки с оставшимися клиентами в два раза и увеличение выборки ушедших клиентов в два раза)\n",
    "features_train_balanced, target_train_balanced = downsample(.5)\n",
    "features_train_balanced, target_train_balanced = upsample(2, features_train_balanced, target_train_balanced)\n",
    "target_train_balanced.value_counts()"
   ]
  },
  {
   "cell_type": "code",
   "execution_count": 37,
   "metadata": {},
   "outputs": [
    {
     "name": "stderr",
     "output_type": "stream",
     "text": [
      "100%|██████████████████████████████████████████████████████████████████████████████████| 30/30 [00:00<00:00, 61.76it/s]"
     ]
    },
    {
     "name": "stdout",
     "output_type": "stream",
     "text": [
      "Высший показатель f1 меры на валидационной выборке равен 0.5581874356333676 при глубине дерева - 6.\n",
      "Значение roc-auc равно 0.8189653845206424.\n",
      "CPU times: total: 1.69 s\n",
      "Wall time: 488 ms\n"
     ]
    },
    {
     "name": "stderr",
     "output_type": "stream",
     "text": [
      "\n"
     ]
    }
   ],
   "source": [
    "%%time\n",
    "# Модель классификации деревом решений\n",
    "model_dt_balanced_third = model_dt_classifier(features_train_balanced, target_train_balanced)"
   ]
  },
  {
   "cell_type": "code",
   "execution_count": 38,
   "metadata": {},
   "outputs": [
    {
     "name": "stderr",
     "output_type": "stream",
     "text": [
      "100%|████████████████████████████████████████████████████████████████████████████████████| 5/5 [00:02<00:00,  2.43it/s]"
     ]
    },
    {
     "name": "stdout",
     "output_type": "stream",
     "text": [
      "Высший показатель f1 меры на валидационной выборке равен 0.5894962486602358 при глубине дерева - 15 и количестве деревьев - 24.\n",
      "Значение roc-auc равно 0.8381028919105331.\n",
      "CPU times: total: 2.06 s\n",
      "Wall time: 2.06 s\n"
     ]
    },
    {
     "name": "stderr",
     "output_type": "stream",
     "text": [
      "\n"
     ]
    }
   ],
   "source": [
    "%%time\n",
    "# Модель классификации случайный лес\n",
    "model_rf_balanced_third = model_rf_classifier(features_train_balanced, target_train_balanced, \\\n",
    "                                            estimators_range=range(21, 26), \\\n",
    "                                            depth_range=range(13, 17))"
   ]
  },
  {
   "cell_type": "code",
   "execution_count": 39,
   "metadata": {},
   "outputs": [
    {
     "name": "stdout",
     "output_type": "stream",
     "text": [
      "Показатель f1 меры на валидационной выборке равен 0.457092819614711.\n",
      "Значение roc-auc равно 0.7341363681150852.\n"
     ]
    }
   ],
   "source": [
    "# Модель логистической регрессии\n",
    "model_lr_balanced_third = model_lr(features_train_balanced, target_train_balanced, \\\n",
    "                                 solver='lbfgs')"
   ]
  },
  {
   "cell_type": "markdown",
   "metadata": {},
   "source": [
    "В третьем варианте наивысшее качество у модели случайный лес. \n",
    "\n",
    "Значение f1 меры относительно варианта без учёта дисбаланса у модели:\n",
    "- классификации деревом решений уменьшилось;\n",
    "- случайный лес увеличилось;\n",
    "- логистической регрессии увеличилось.  \n",
    "\n",
    "Значение roc-auc относительно варианта без учёта дисбаланса у модели:\n",
    "- классификации деревом решений уменьшилось;\n",
    "- случайный лес увеличилось;\n",
    "- логистической регрессии увеличилось."
   ]
  },
  {
   "cell_type": "markdown",
   "metadata": {},
   "source": [
    "**Гиперпараметр weight_class.**  \n",
    "Проверим вариант с изменением гиперпараметра weight_class, при этом в качестве обучающей выборки возьмём несбалансированную по классам."
   ]
  },
  {
   "cell_type": "code",
   "execution_count": 40,
   "metadata": {},
   "outputs": [
    {
     "name": "stderr",
     "output_type": "stream",
     "text": [
      "100%|██████████████████████████████████████████████████████████████████████████████████| 30/30 [00:00<00:00, 49.88it/s]"
     ]
    },
    {
     "name": "stdout",
     "output_type": "stream",
     "text": [
      "Высший показатель f1 меры на валидационной выборке равен 0.5591200733272228 при глубине дерева - 6.\n",
      "Значение roc-auc равно 0.8277531961276973.\n",
      "CPU times: total: 2.02 s\n",
      "Wall time: 603 ms\n"
     ]
    },
    {
     "name": "stderr",
     "output_type": "stream",
     "text": [
      "\n"
     ]
    }
   ],
   "source": [
    "%%time\n",
    "# Модель классификации деревом решений с гиперпараметром class_weight='balanced'\n",
    "model_dt_balanced_fourth = model_dt_classifier(features_train, target_train, \\\n",
    "                                               class_weight='balanced')"
   ]
  },
  {
   "cell_type": "code",
   "execution_count": 41,
   "metadata": {},
   "outputs": [
    {
     "name": "stderr",
     "output_type": "stream",
     "text": [
      "100%|████████████████████████████████████████████████████████████████████████████████████| 4/4 [00:02<00:00,  1.63it/s]"
     ]
    },
    {
     "name": "stdout",
     "output_type": "stream",
     "text": [
      "Высший показатель f1 меры на валидационной выборке равен 0.5757575757575757 при глубине дерева - 14 и количестве деревьев - 33.\n",
      "Значение roc-auc равно 0.8396632365257661.\n",
      "CPU times: total: 2.47 s\n",
      "Wall time: 2.46 s\n"
     ]
    },
    {
     "name": "stderr",
     "output_type": "stream",
     "text": [
      "\n"
     ]
    }
   ],
   "source": [
    "%%time\n",
    "# Модель классификации случайный лес c гиперпараметром class_weight='balanced'\n",
    "model_rf_balanced_fourth = model_rf_classifier(features_train, target_train, \\\n",
    "                                               estimators_range=range(31, 35), \\\n",
    "                                               depth_range=range(12, 16), \\\n",
    "                                               class_weight='balanced')"
   ]
  },
  {
   "cell_type": "code",
   "execution_count": 42,
   "metadata": {
    "scrolled": true
   },
   "outputs": [
    {
     "name": "stdout",
     "output_type": "stream",
     "text": [
      "Показатель f1 меры на валидационной выборке равен 0.46140350877192987.\n",
      "Значение roc-auc равно 0.7343519065917825.\n"
     ]
    }
   ],
   "source": [
    "# Модель логистической регрессии с гиперпараметром class_weight='balanced'\n",
    "model_lr_balanced_fourth = model_lr(features_train, target_train, \\\n",
    "                                    solver='liblinear', \\\n",
    "                                    class_weight='balanced')"
   ]
  },
  {
   "cell_type": "markdown",
   "metadata": {},
   "source": [
    "В четвёртом варианте наивысшее качество у модели случайный лес. \n",
    "\n",
    "Значение f1 меры относительно варианта без учёта дисбаланса у модели:\n",
    "- классификации деревом решений уменьшилось;\n",
    "- случайный лес увеличилось;\n",
    "- логистической регрессии увеличилось.  \n",
    "\n",
    "Значение roc-auc относительно варианта без учёта дисбаланса у модели:\n",
    "- классификации деревом решений увеличилось;\n",
    "- случайный лес увеличилось;\n",
    "- логистической регрессии увеличилось."
   ]
  },
  {
   "cell_type": "markdown",
   "metadata": {},
   "source": [
    "**Вывод:** проверив модели по четырём вариантам баланса классов, выделим модель с лучшими метриками качества. Это модель случайного леса в первом варианте (увеличение выборки ушедших клиентов в 4 раза)."
   ]
  },
  {
   "cell_type": "markdown",
   "metadata": {},
   "source": [
    "## Тестирование модели"
   ]
  },
  {
   "cell_type": "markdown",
   "metadata": {},
   "source": [
    "Проверим модель на тестовом наборе признаков."
   ]
  },
  {
   "cell_type": "code",
   "execution_count": 43,
   "metadata": {},
   "outputs": [
    {
     "name": "stdout",
     "output_type": "stream",
     "text": [
      "На тестовой выборке значение f1 меры равно 0.6357947434292867, значение roc-auc - 0.8569987553038401.\n"
     ]
    }
   ],
   "source": [
    "predictions_test = model_rf_balanced_first.predict(features_test)\n",
    "f1_test = f1_score(target_test, predictions_test)\n",
    "probabilities_one_test = model_rf_balanced_first.predict_proba(features_test)[:, 1]\n",
    "auc_roc = roc_auc_score(target_test, probabilities_one_test)\n",
    "print(f'На тестовой выборке значение f1 меры равно {f1_test}, значение roc-auc - {auc_roc}.')"
   ]
  },
  {
   "cell_type": "code",
   "execution_count": 44,
   "metadata": {},
   "outputs": [
    {
     "name": "stdout",
     "output_type": "stream",
     "text": [
      "значение roc-auc у случайной модели - 0.5.\n"
     ]
    }
   ],
   "source": [
    "dummy_clf = DummyClassifier()\n",
    "dummy_clf.fit(features_train, target_train)\n",
    "dummy_probabilities_one_test = dummy_clf.predict_proba(features_test)[:, 1]\n",
    "auc_roc = roc_auc_score(target_test, dummy_probabilities_one_test)\n",
    "print(f'значение roc-auc у случайной модели - {auc_roc}.')"
   ]
  },
  {
   "cell_type": "markdown",
   "metadata": {},
   "source": [
    "## **Общий вывод:**"
   ]
  },
  {
   "cell_type": "markdown",
   "metadata": {},
   "source": [
    "**Подготовка данных.**  \n",
    "Суть подготовки заключается в приведении данных к формату для дальнейшего обучения моделей. В процессе подготовки исходный датасет был разделён на выборки с признаками и целевыми признаками, затем на тренировочную, валидационную и тестовую выборки. Техникой OHE категориальные признаки переведены в численные. Произведено масштабирование данных.  \n",
    "**Исследование задачи.**  \n",
    "Изучен дисбаланс классов. отношение доли ушедших клиентов к оставшимся составляет примерно 1/4. Обучены модели без учёта дисбаланса.  \n",
    "**Борьба с дисбалансом.**  \n",
    "Рассмотрено несколько вариантов баланса классов путём увеличения и уменьшения выборок с разными целевыми признаками.  \n",
    "Обучены модели по сбалансированным выборкам, найдена модель с высшими значениями f1 меры и roc-auc - это модель случайного леса при увеличении выборки ушедших клиентов в четыре раза.  \n",
    "**Тестирование модели.**  \n",
    "На тестовой выборке удалось достичь значение f1 меры 0.6357947434292867, что выше необходимого. Значение площади под кривой ошибок равно 0.8569987553038401. Значение roc-auc у случайной модели - 0.5, следовательно качество модели случайного леса выше."
   ]
  }
 ],
 "metadata": {
  "ExecuteTimeLog": [
   {
    "duration": 6814,
    "start_time": "2023-03-03T18:11:55.624Z"
   },
   {
    "duration": 908,
    "start_time": "2023-03-03T18:12:05.943Z"
   },
   {
    "duration": 2,
    "start_time": "2023-03-03T18:12:06.853Z"
   },
   {
    "duration": 302,
    "start_time": "2023-03-03T18:12:07.464Z"
   },
   {
    "duration": 304,
    "start_time": "2023-03-03T18:12:07.944Z"
   },
   {
    "duration": 15,
    "start_time": "2023-03-03T18:12:09.162Z"
   },
   {
    "duration": 2212,
    "start_time": "2023-03-04T08:43:38.908Z"
   },
   {
    "duration": 863,
    "start_time": "2023-03-04T08:43:41.123Z"
   },
   {
    "duration": 3,
    "start_time": "2023-03-04T08:43:41.987Z"
   },
   {
    "duration": 7,
    "start_time": "2023-03-04T08:43:41.992Z"
   },
   {
    "duration": 110,
    "start_time": "2023-03-04T08:43:42.000Z"
   },
   {
    "duration": 15,
    "start_time": "2023-03-04T08:43:42.112Z"
   },
   {
    "duration": 32,
    "start_time": "2023-03-04T08:43:42.129Z"
   },
   {
    "duration": 5,
    "start_time": "2023-03-04T08:43:42.163Z"
   },
   {
    "duration": 9,
    "start_time": "2023-03-04T08:43:42.169Z"
   },
   {
    "duration": 23,
    "start_time": "2023-03-04T08:43:42.181Z"
   },
   {
    "duration": 23,
    "start_time": "2023-03-04T08:43:42.206Z"
   },
   {
    "duration": 14,
    "start_time": "2023-03-04T08:43:42.230Z"
   },
   {
    "duration": 31,
    "start_time": "2023-03-04T08:43:42.245Z"
   },
   {
    "duration": 9,
    "start_time": "2023-03-04T08:43:42.277Z"
   },
   {
    "duration": 9,
    "start_time": "2023-03-04T08:43:42.287Z"
   },
   {
    "duration": 8,
    "start_time": "2023-03-04T08:43:42.297Z"
   },
   {
    "duration": 12,
    "start_time": "2023-03-04T08:43:42.307Z"
   },
   {
    "duration": 40,
    "start_time": "2023-03-04T08:43:42.320Z"
   },
   {
    "duration": 8,
    "start_time": "2023-03-04T08:43:42.362Z"
   },
   {
    "duration": 5,
    "start_time": "2023-03-04T08:43:42.372Z"
   },
   {
    "duration": 4,
    "start_time": "2023-03-04T08:43:42.379Z"
   },
   {
    "duration": 8,
    "start_time": "2023-03-04T08:43:42.385Z"
   },
   {
    "duration": 8,
    "start_time": "2023-03-04T08:43:42.394Z"
   },
   {
    "duration": 946,
    "start_time": "2023-03-04T08:43:42.404Z"
   },
   {
    "duration": 6878,
    "start_time": "2023-03-04T08:43:43.352Z"
   },
   {
    "duration": 127,
    "start_time": "2023-03-04T08:43:50.232Z"
   },
   {
    "duration": 98,
    "start_time": "2023-03-04T08:43:50.361Z"
   },
   {
    "duration": 15,
    "start_time": "2023-03-04T08:43:50.465Z"
   },
   {
    "duration": 18,
    "start_time": "2023-03-04T08:43:50.482Z"
   },
   {
    "duration": 1268,
    "start_time": "2023-03-04T08:43:50.502Z"
   },
   {
    "duration": 6269,
    "start_time": "2023-03-04T08:43:51.772Z"
   },
   {
    "duration": 37,
    "start_time": "2023-03-04T08:43:58.043Z"
   },
   {
    "duration": 96,
    "start_time": "2023-03-04T08:43:58.165Z"
   },
   {
    "duration": 466,
    "start_time": "2023-03-04T08:43:58.263Z"
   },
   {
    "duration": 1954,
    "start_time": "2023-03-04T08:43:58.731Z"
   },
   {
    "duration": 275,
    "start_time": "2023-03-04T08:44:00.687Z"
   },
   {
    "duration": 186,
    "start_time": "2023-03-04T08:44:00.964Z"
   },
   {
    "duration": 680,
    "start_time": "2023-03-04T08:44:01.151Z"
   },
   {
    "duration": 3130,
    "start_time": "2023-03-04T08:44:01.832Z"
   },
   {
    "duration": 298,
    "start_time": "2023-03-04T08:44:04.964Z"
   },
   {
    "duration": 997,
    "start_time": "2023-03-04T08:44:05.264Z"
   },
   {
    "duration": 4049,
    "start_time": "2023-03-04T08:44:06.263Z"
   },
   {
    "duration": 54,
    "start_time": "2023-03-04T08:44:10.313Z"
   },
   {
    "duration": 130,
    "start_time": "2023-03-04T08:44:10.449Z"
   },
   {
    "duration": 6,
    "start_time": "2023-03-04T08:44:10.580Z"
   }
  ],
  "kernelspec": {
   "display_name": "Python 3 (ipykernel)",
   "language": "python",
   "name": "python3"
  },
  "language_info": {
   "codemirror_mode": {
    "name": "ipython",
    "version": 3
   },
   "file_extension": ".py",
   "mimetype": "text/x-python",
   "name": "python",
   "nbconvert_exporter": "python",
   "pygments_lexer": "ipython3",
   "version": "3.10.9"
  },
  "toc": {
   "base_numbering": 1,
   "nav_menu": {},
   "number_sections": true,
   "sideBar": true,
   "skip_h1_title": true,
   "title_cell": "Содержание",
   "title_sidebar": "Contents",
   "toc_cell": true,
   "toc_position": {},
   "toc_section_display": true,
   "toc_window_display": true
  }
 },
 "nbformat": 4,
 "nbformat_minor": 2
}
