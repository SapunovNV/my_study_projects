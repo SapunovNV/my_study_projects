{
 "cells": [
  {
   "cell_type": "markdown",
   "metadata": {},
   "source": [
    "## Загрузка и подготовка данных"
   ]
  },
  {
   "cell_type": "code",
   "execution_count": 1,
   "metadata": {},
   "outputs": [],
   "source": [
    "# Импорт библиотек\n",
    "import pandas as pd\n",
    "\n",
    "from sklearn.model_selection import train_test_split\n",
    "from sklearn.preprocessing import StandardScaler\n",
    "from sklearn.linear_model import LinearRegression\n",
    "from sklearn.metrics import mean_squared_error\n",
    "\n",
    "import numpy as np\n",
    "\n",
    "import warnings"
   ]
  },
  {
   "cell_type": "code",
   "execution_count": 2,
   "metadata": {},
   "outputs": [],
   "source": [
    "# Устанавливаем необходимые настройки\n",
    "warnings.filterwarnings('ignore')\n",
    "pd.set_option('display.max_columns', None)\n",
    "pd.set_option('display.max_rows', None)"
   ]
  },
  {
   "cell_type": "code",
   "execution_count": 3,
   "metadata": {},
   "outputs": [],
   "source": [
    "RANDOM_STATE = 123\n",
    "STATE = np.random.RandomState(123)"
   ]
  },
  {
   "cell_type": "code",
   "execution_count": 5,
   "metadata": {},
   "outputs": [],
   "source": [
    "def df_info(data):\n",
    "    # Вывод первых 5 строк датасета\n",
    "    display(data.head())\n",
    "    # Таблица корреляции признаков\n",
    "    display(data[['f0', 'f1', 'f2']].corr())\n",
    "    # \n",
    "    print(data.info())\n",
    "    print(f'Пропущенных значений в таблице: {data.isna().sum().sum()}')"
   ]
  },
  {
   "cell_type": "code",
   "execution_count": 6,
   "metadata": {
    "scrolled": true
   },
   "outputs": [
    {
     "data": {
      "text/html": [
       "<div>\n",
       "<style scoped>\n",
       "    .dataframe tbody tr th:only-of-type {\n",
       "        vertical-align: middle;\n",
       "    }\n",
       "\n",
       "    .dataframe tbody tr th {\n",
       "        vertical-align: top;\n",
       "    }\n",
       "\n",
       "    .dataframe thead th {\n",
       "        text-align: right;\n",
       "    }\n",
       "</style>\n",
       "<table border=\"1\" class=\"dataframe\">\n",
       "  <thead>\n",
       "    <tr style=\"text-align: right;\">\n",
       "      <th></th>\n",
       "      <th>id</th>\n",
       "      <th>f0</th>\n",
       "      <th>f1</th>\n",
       "      <th>f2</th>\n",
       "      <th>product</th>\n",
       "    </tr>\n",
       "  </thead>\n",
       "  <tbody>\n",
       "    <tr>\n",
       "      <th>0</th>\n",
       "      <td>txEyH</td>\n",
       "      <td>0.705745</td>\n",
       "      <td>-0.497823</td>\n",
       "      <td>1.221170</td>\n",
       "      <td>105.280062</td>\n",
       "    </tr>\n",
       "    <tr>\n",
       "      <th>1</th>\n",
       "      <td>2acmU</td>\n",
       "      <td>1.334711</td>\n",
       "      <td>-0.340164</td>\n",
       "      <td>4.365080</td>\n",
       "      <td>73.037750</td>\n",
       "    </tr>\n",
       "    <tr>\n",
       "      <th>2</th>\n",
       "      <td>409Wp</td>\n",
       "      <td>1.022732</td>\n",
       "      <td>0.151990</td>\n",
       "      <td>1.419926</td>\n",
       "      <td>85.265647</td>\n",
       "    </tr>\n",
       "    <tr>\n",
       "      <th>3</th>\n",
       "      <td>iJLyR</td>\n",
       "      <td>-0.032172</td>\n",
       "      <td>0.139033</td>\n",
       "      <td>2.978566</td>\n",
       "      <td>168.620776</td>\n",
       "    </tr>\n",
       "    <tr>\n",
       "      <th>4</th>\n",
       "      <td>Xdl7t</td>\n",
       "      <td>1.988431</td>\n",
       "      <td>0.155413</td>\n",
       "      <td>4.751769</td>\n",
       "      <td>154.036647</td>\n",
       "    </tr>\n",
       "  </tbody>\n",
       "</table>\n",
       "</div>"
      ],
      "text/plain": [
       "      id        f0        f1        f2     product\n",
       "0  txEyH  0.705745 -0.497823  1.221170  105.280062\n",
       "1  2acmU  1.334711 -0.340164  4.365080   73.037750\n",
       "2  409Wp  1.022732  0.151990  1.419926   85.265647\n",
       "3  iJLyR -0.032172  0.139033  2.978566  168.620776\n",
       "4  Xdl7t  1.988431  0.155413  4.751769  154.036647"
      ]
     },
     "metadata": {},
     "output_type": "display_data"
    },
    {
     "data": {
      "text/html": [
       "<div>\n",
       "<style scoped>\n",
       "    .dataframe tbody tr th:only-of-type {\n",
       "        vertical-align: middle;\n",
       "    }\n",
       "\n",
       "    .dataframe tbody tr th {\n",
       "        vertical-align: top;\n",
       "    }\n",
       "\n",
       "    .dataframe thead th {\n",
       "        text-align: right;\n",
       "    }\n",
       "</style>\n",
       "<table border=\"1\" class=\"dataframe\">\n",
       "  <thead>\n",
       "    <tr style=\"text-align: right;\">\n",
       "      <th></th>\n",
       "      <th>f0</th>\n",
       "      <th>f1</th>\n",
       "      <th>f2</th>\n",
       "    </tr>\n",
       "  </thead>\n",
       "  <tbody>\n",
       "    <tr>\n",
       "      <th>f0</th>\n",
       "      <td>1.000000</td>\n",
       "      <td>-0.440723</td>\n",
       "      <td>-0.003153</td>\n",
       "    </tr>\n",
       "    <tr>\n",
       "      <th>f1</th>\n",
       "      <td>-0.440723</td>\n",
       "      <td>1.000000</td>\n",
       "      <td>0.001724</td>\n",
       "    </tr>\n",
       "    <tr>\n",
       "      <th>f2</th>\n",
       "      <td>-0.003153</td>\n",
       "      <td>0.001724</td>\n",
       "      <td>1.000000</td>\n",
       "    </tr>\n",
       "  </tbody>\n",
       "</table>\n",
       "</div>"
      ],
      "text/plain": [
       "          f0        f1        f2\n",
       "f0  1.000000 -0.440723 -0.003153\n",
       "f1 -0.440723  1.000000  0.001724\n",
       "f2 -0.003153  0.001724  1.000000"
      ]
     },
     "metadata": {},
     "output_type": "display_data"
    },
    {
     "name": "stdout",
     "output_type": "stream",
     "text": [
      "<class 'pandas.core.frame.DataFrame'>\n",
      "RangeIndex: 100000 entries, 0 to 99999\n",
      "Data columns (total 5 columns):\n",
      " #   Column   Non-Null Count   Dtype  \n",
      "---  ------   --------------   -----  \n",
      " 0   id       100000 non-null  object \n",
      " 1   f0       100000 non-null  float64\n",
      " 2   f1       100000 non-null  float64\n",
      " 3   f2       100000 non-null  float64\n",
      " 4   product  100000 non-null  float64\n",
      "dtypes: float64(4), object(1)\n",
      "memory usage: 3.8+ MB\n",
      "None\n",
      "Пропущенных значений в таблице: 0\n"
     ]
    }
   ],
   "source": [
    "df_info(first_region)"
   ]
  },
  {
   "cell_type": "code",
   "execution_count": 7,
   "metadata": {
    "scrolled": true
   },
   "outputs": [
    {
     "data": {
      "text/html": [
       "<div>\n",
       "<style scoped>\n",
       "    .dataframe tbody tr th:only-of-type {\n",
       "        vertical-align: middle;\n",
       "    }\n",
       "\n",
       "    .dataframe tbody tr th {\n",
       "        vertical-align: top;\n",
       "    }\n",
       "\n",
       "    .dataframe thead th {\n",
       "        text-align: right;\n",
       "    }\n",
       "</style>\n",
       "<table border=\"1\" class=\"dataframe\">\n",
       "  <thead>\n",
       "    <tr style=\"text-align: right;\">\n",
       "      <th></th>\n",
       "      <th>id</th>\n",
       "      <th>f0</th>\n",
       "      <th>f1</th>\n",
       "      <th>f2</th>\n",
       "      <th>product</th>\n",
       "    </tr>\n",
       "  </thead>\n",
       "  <tbody>\n",
       "    <tr>\n",
       "      <th>0</th>\n",
       "      <td>kBEdx</td>\n",
       "      <td>-15.001348</td>\n",
       "      <td>-8.276000</td>\n",
       "      <td>-0.005876</td>\n",
       "      <td>3.179103</td>\n",
       "    </tr>\n",
       "    <tr>\n",
       "      <th>1</th>\n",
       "      <td>62mP7</td>\n",
       "      <td>14.272088</td>\n",
       "      <td>-3.475083</td>\n",
       "      <td>0.999183</td>\n",
       "      <td>26.953261</td>\n",
       "    </tr>\n",
       "    <tr>\n",
       "      <th>2</th>\n",
       "      <td>vyE1P</td>\n",
       "      <td>6.263187</td>\n",
       "      <td>-5.948386</td>\n",
       "      <td>5.001160</td>\n",
       "      <td>134.766305</td>\n",
       "    </tr>\n",
       "    <tr>\n",
       "      <th>3</th>\n",
       "      <td>KcrkZ</td>\n",
       "      <td>-13.081196</td>\n",
       "      <td>-11.506057</td>\n",
       "      <td>4.999415</td>\n",
       "      <td>137.945408</td>\n",
       "    </tr>\n",
       "    <tr>\n",
       "      <th>4</th>\n",
       "      <td>AHL4O</td>\n",
       "      <td>12.702195</td>\n",
       "      <td>-8.147433</td>\n",
       "      <td>5.004363</td>\n",
       "      <td>134.766305</td>\n",
       "    </tr>\n",
       "  </tbody>\n",
       "</table>\n",
       "</div>"
      ],
      "text/plain": [
       "      id         f0         f1        f2     product\n",
       "0  kBEdx -15.001348  -8.276000 -0.005876    3.179103\n",
       "1  62mP7  14.272088  -3.475083  0.999183   26.953261\n",
       "2  vyE1P   6.263187  -5.948386  5.001160  134.766305\n",
       "3  KcrkZ -13.081196 -11.506057  4.999415  137.945408\n",
       "4  AHL4O  12.702195  -8.147433  5.004363  134.766305"
      ]
     },
     "metadata": {},
     "output_type": "display_data"
    },
    {
     "data": {
      "text/html": [
       "<div>\n",
       "<style scoped>\n",
       "    .dataframe tbody tr th:only-of-type {\n",
       "        vertical-align: middle;\n",
       "    }\n",
       "\n",
       "    .dataframe tbody tr th {\n",
       "        vertical-align: top;\n",
       "    }\n",
       "\n",
       "    .dataframe thead th {\n",
       "        text-align: right;\n",
       "    }\n",
       "</style>\n",
       "<table border=\"1\" class=\"dataframe\">\n",
       "  <thead>\n",
       "    <tr style=\"text-align: right;\">\n",
       "      <th></th>\n",
       "      <th>f0</th>\n",
       "      <th>f1</th>\n",
       "      <th>f2</th>\n",
       "    </tr>\n",
       "  </thead>\n",
       "  <tbody>\n",
       "    <tr>\n",
       "      <th>f0</th>\n",
       "      <td>1.000000</td>\n",
       "      <td>0.182287</td>\n",
       "      <td>-0.001777</td>\n",
       "    </tr>\n",
       "    <tr>\n",
       "      <th>f1</th>\n",
       "      <td>0.182287</td>\n",
       "      <td>1.000000</td>\n",
       "      <td>-0.002595</td>\n",
       "    </tr>\n",
       "    <tr>\n",
       "      <th>f2</th>\n",
       "      <td>-0.001777</td>\n",
       "      <td>-0.002595</td>\n",
       "      <td>1.000000</td>\n",
       "    </tr>\n",
       "  </tbody>\n",
       "</table>\n",
       "</div>"
      ],
      "text/plain": [
       "          f0        f1        f2\n",
       "f0  1.000000  0.182287 -0.001777\n",
       "f1  0.182287  1.000000 -0.002595\n",
       "f2 -0.001777 -0.002595  1.000000"
      ]
     },
     "metadata": {},
     "output_type": "display_data"
    },
    {
     "name": "stdout",
     "output_type": "stream",
     "text": [
      "<class 'pandas.core.frame.DataFrame'>\n",
      "RangeIndex: 100000 entries, 0 to 99999\n",
      "Data columns (total 5 columns):\n",
      " #   Column   Non-Null Count   Dtype  \n",
      "---  ------   --------------   -----  \n",
      " 0   id       100000 non-null  object \n",
      " 1   f0       100000 non-null  float64\n",
      " 2   f1       100000 non-null  float64\n",
      " 3   f2       100000 non-null  float64\n",
      " 4   product  100000 non-null  float64\n",
      "dtypes: float64(4), object(1)\n",
      "memory usage: 3.8+ MB\n",
      "None\n",
      "Пропущенных значений в таблице: 0\n"
     ]
    }
   ],
   "source": [
    "df_info(second_region)"
   ]
  },
  {
   "cell_type": "code",
   "execution_count": 8,
   "metadata": {
    "scrolled": true
   },
   "outputs": [
    {
     "data": {
      "text/html": [
       "<div>\n",
       "<style scoped>\n",
       "    .dataframe tbody tr th:only-of-type {\n",
       "        vertical-align: middle;\n",
       "    }\n",
       "\n",
       "    .dataframe tbody tr th {\n",
       "        vertical-align: top;\n",
       "    }\n",
       "\n",
       "    .dataframe thead th {\n",
       "        text-align: right;\n",
       "    }\n",
       "</style>\n",
       "<table border=\"1\" class=\"dataframe\">\n",
       "  <thead>\n",
       "    <tr style=\"text-align: right;\">\n",
       "      <th></th>\n",
       "      <th>id</th>\n",
       "      <th>f0</th>\n",
       "      <th>f1</th>\n",
       "      <th>f2</th>\n",
       "      <th>product</th>\n",
       "    </tr>\n",
       "  </thead>\n",
       "  <tbody>\n",
       "    <tr>\n",
       "      <th>0</th>\n",
       "      <td>fwXo0</td>\n",
       "      <td>-1.146987</td>\n",
       "      <td>0.963328</td>\n",
       "      <td>-0.828965</td>\n",
       "      <td>27.758673</td>\n",
       "    </tr>\n",
       "    <tr>\n",
       "      <th>1</th>\n",
       "      <td>WJtFt</td>\n",
       "      <td>0.262778</td>\n",
       "      <td>0.269839</td>\n",
       "      <td>-2.530187</td>\n",
       "      <td>56.069697</td>\n",
       "    </tr>\n",
       "    <tr>\n",
       "      <th>2</th>\n",
       "      <td>ovLUW</td>\n",
       "      <td>0.194587</td>\n",
       "      <td>0.289035</td>\n",
       "      <td>-5.586433</td>\n",
       "      <td>62.871910</td>\n",
       "    </tr>\n",
       "    <tr>\n",
       "      <th>3</th>\n",
       "      <td>q6cA6</td>\n",
       "      <td>2.236060</td>\n",
       "      <td>-0.553760</td>\n",
       "      <td>0.930038</td>\n",
       "      <td>114.572842</td>\n",
       "    </tr>\n",
       "    <tr>\n",
       "      <th>4</th>\n",
       "      <td>WPMUX</td>\n",
       "      <td>-0.515993</td>\n",
       "      <td>1.716266</td>\n",
       "      <td>5.899011</td>\n",
       "      <td>149.600746</td>\n",
       "    </tr>\n",
       "  </tbody>\n",
       "</table>\n",
       "</div>"
      ],
      "text/plain": [
       "      id        f0        f1        f2     product\n",
       "0  fwXo0 -1.146987  0.963328 -0.828965   27.758673\n",
       "1  WJtFt  0.262778  0.269839 -2.530187   56.069697\n",
       "2  ovLUW  0.194587  0.289035 -5.586433   62.871910\n",
       "3  q6cA6  2.236060 -0.553760  0.930038  114.572842\n",
       "4  WPMUX -0.515993  1.716266  5.899011  149.600746"
      ]
     },
     "metadata": {},
     "output_type": "display_data"
    },
    {
     "data": {
      "text/html": [
       "<div>\n",
       "<style scoped>\n",
       "    .dataframe tbody tr th:only-of-type {\n",
       "        vertical-align: middle;\n",
       "    }\n",
       "\n",
       "    .dataframe tbody tr th {\n",
       "        vertical-align: top;\n",
       "    }\n",
       "\n",
       "    .dataframe thead th {\n",
       "        text-align: right;\n",
       "    }\n",
       "</style>\n",
       "<table border=\"1\" class=\"dataframe\">\n",
       "  <thead>\n",
       "    <tr style=\"text-align: right;\">\n",
       "      <th></th>\n",
       "      <th>f0</th>\n",
       "      <th>f1</th>\n",
       "      <th>f2</th>\n",
       "    </tr>\n",
       "  </thead>\n",
       "  <tbody>\n",
       "    <tr>\n",
       "      <th>f0</th>\n",
       "      <td>1.000000</td>\n",
       "      <td>0.000528</td>\n",
       "      <td>-0.000448</td>\n",
       "    </tr>\n",
       "    <tr>\n",
       "      <th>f1</th>\n",
       "      <td>0.000528</td>\n",
       "      <td>1.000000</td>\n",
       "      <td>0.000779</td>\n",
       "    </tr>\n",
       "    <tr>\n",
       "      <th>f2</th>\n",
       "      <td>-0.000448</td>\n",
       "      <td>0.000779</td>\n",
       "      <td>1.000000</td>\n",
       "    </tr>\n",
       "  </tbody>\n",
       "</table>\n",
       "</div>"
      ],
      "text/plain": [
       "          f0        f1        f2\n",
       "f0  1.000000  0.000528 -0.000448\n",
       "f1  0.000528  1.000000  0.000779\n",
       "f2 -0.000448  0.000779  1.000000"
      ]
     },
     "metadata": {},
     "output_type": "display_data"
    },
    {
     "name": "stdout",
     "output_type": "stream",
     "text": [
      "<class 'pandas.core.frame.DataFrame'>\n",
      "RangeIndex: 100000 entries, 0 to 99999\n",
      "Data columns (total 5 columns):\n",
      " #   Column   Non-Null Count   Dtype  \n",
      "---  ------   --------------   -----  \n",
      " 0   id       100000 non-null  object \n",
      " 1   f0       100000 non-null  float64\n",
      " 2   f1       100000 non-null  float64\n",
      " 3   f2       100000 non-null  float64\n",
      " 4   product  100000 non-null  float64\n",
      "dtypes: float64(4), object(1)\n",
      "memory usage: 3.8+ MB\n",
      "None\n",
      "Пропущенных значений в таблице: 0\n"
     ]
    }
   ],
   "source": [
    "df_info(third_region)"
   ]
  },
  {
   "cell_type": "markdown",
   "metadata": {},
   "source": [
    "Избавимся от дубликатов по регионам."
   ]
  },
  {
   "cell_type": "code",
   "execution_count": 9,
   "metadata": {},
   "outputs": [],
   "source": [
    "first_region = first_region.drop_duplicates('id')\n",
    "second_region = second_region.drop_duplicates('id')\n",
    "third_region = third_region.drop_duplicates('id')"
   ]
  },
  {
   "cell_type": "code",
   "execution_count": 10,
   "metadata": {},
   "outputs": [],
   "source": [
    "# Функция разделяет входной датасет на выборки с признаками и целевым признаком.\n",
    "def features_target_split(region):\n",
    "    features = region.drop(['id', 'product'], axis=1)\n",
    "    target = region['product']\n",
    "    return(features, target)"
   ]
  },
  {
   "cell_type": "markdown",
   "metadata": {},
   "source": [
    "Применим функцию к таблице каждого региона."
   ]
  },
  {
   "cell_type": "code",
   "execution_count": 11,
   "metadata": {},
   "outputs": [],
   "source": [
    "fr_features, fr_target = features_target_split(first_region)\n",
    "sr_features, sr_target = features_target_split(second_region)\n",
    "tr_features, tr_target = features_target_split(third_region)"
   ]
  },
  {
   "cell_type": "markdown",
   "metadata": {},
   "source": [
    "**Вывод:** изучена исходная информация, выделены признаки и целевой признак по каждому региону."
   ]
  },
  {
   "cell_type": "markdown",
   "metadata": {},
   "source": [
    "## Обучение и проверка модели"
   ]
  },
  {
   "cell_type": "code",
   "execution_count": 12,
   "metadata": {},
   "outputs": [],
   "source": [
    "def lr_by_reg(features, target):\n",
    "    # Разделяем выборки с признаками и целевым признаком на обучающие и валидационные\n",
    "    features_train, features_valid, \\\n",
    "    target_train, target_valid = train_test_split(features, target, train_size=.75, \\\n",
    "                                                  random_state=RANDOM_STATE)\n",
    "    # Стандартизируем признаки в обучающей и валидационной выборках\n",
    "    scaler = StandardScaler()\n",
    "    scaler.fit(features_train)\n",
    "    columns = features_valid.columns\n",
    "    features_train[columns] = scaler.transform(features_train[columns])\n",
    "    features_valid[columns] = scaler.transform(features_valid[columns])\n",
    "    # Обучаем модель линейной регрессии\n",
    "    model = LinearRegression()\n",
    "    model.fit(features_train, target_train)\n",
    "    # Делаем предсказания, рассчитываем корень от среднеквадратичной ошибки\n",
    "    # рассчитываем среднее значение предсказанного запаса сырья.\n",
    "    predictions_valid = model.predict(features_valid)\n",
    "    mse = mean_squared_error(target_valid, predictions_valid)\n",
    "    print(f'Средний запас предсказанного сырья: {predictions_valid.mean()}')\n",
    "    print(f'RMSE модели: {mse ** .5}')\n",
    "    return(target_valid.reset_index(drop=True), pd.Series(predictions_valid))"
   ]
  },
  {
   "cell_type": "markdown",
   "metadata": {},
   "source": [
    "Применим функцию для каждого региона."
   ]
  },
  {
   "cell_type": "code",
   "execution_count": 13,
   "metadata": {},
   "outputs": [
    {
     "name": "stdout",
     "output_type": "stream",
     "text": [
      "Средний запас предсказанного сырья: 92.6806203637552\n",
      "RMSE модели: 37.595806572623616\n"
     ]
    }
   ],
   "source": [
    "fr_target_valid, fr_predictions_valid = lr_by_reg(fr_features, fr_target)"
   ]
  },
  {
   "cell_type": "code",
   "execution_count": 14,
   "metadata": {},
   "outputs": [
    {
     "name": "stdout",
     "output_type": "stream",
     "text": [
      "Средний запас предсказанного сырья: 69.31422919477679\n",
      "RMSE модели: 0.8944711936820202\n"
     ]
    }
   ],
   "source": [
    "sr_target_valid, sr_predictions_valid = lr_by_reg(sr_features, sr_target)"
   ]
  },
  {
   "cell_type": "code",
   "execution_count": 15,
   "metadata": {},
   "outputs": [
    {
     "name": "stdout",
     "output_type": "stream",
     "text": [
      "Средний запас предсказанного сырья: 94.93789877099006\n",
      "RMSE модели: 40.04908749269797\n"
     ]
    }
   ],
   "source": [
    "tr_target_valid, tr_predictions_valid = lr_by_reg(tr_features, tr_target)"
   ]
  },
  {
   "cell_type": "markdown",
   "metadata": {},
   "source": [
    "**Вывод:** наименьший средний запас предсказанного сырья наблюдается во втором регионе. Но также стоит отметить, что в этом районе корень среднеквадратичной ошибки значительно меньше, чем в других регионах. При предсказании объёма продукта в первом и третьем регионе разброс значения больше, следовательно модель может предсказать убыточную скважину, как прибыльную, либо прибыльную, как убыточную."
   ]
  },
  {
   "cell_type": "markdown",
   "metadata": {},
   "source": [
    "## Подготовка к расчёту прибыли"
   ]
  },
  {
   "cell_type": "markdown",
   "metadata": {},
   "source": [
    "Расчётные показатели для каждого региона."
   ]
  },
  {
   "cell_type": "code",
   "execution_count": 16,
   "metadata": {},
   "outputs": [],
   "source": [
    "# Кол-во исследуемых скважин\n",
    "POINTS_TO_EXPLORE = 500\n",
    "# Бюджет на разработку скважин\n",
    "BUDGET = 10000000000\n",
    "# Планируется разработать скважин на бюджет\n",
    "POINTS_PER_BUDGET = 200\n",
    "# Стоимость разработки скважины\n",
    "COST_PER_POINT = BUDGET / POINTS_PER_BUDGET\n",
    "# Доход с 1 тысячи баррелей продукта\n",
    "PRODUCT_PRICE = 450000\n",
    "# Минимальный объём продукта для покрытия расходов на разработку одной скважины\n",
    "zero_profit_product = COST_PER_POINT / PRODUCT_PRICE"
   ]
  },
  {
   "cell_type": "code",
   "execution_count": 17,
   "metadata": {},
   "outputs": [
    {
     "name": "stdout",
     "output_type": "stream",
     "text": [
      "Минимальный объём продукта в скважине для безубыточной разработки: 111.11111111111111\n"
     ]
    }
   ],
   "source": [
    "print(f'Минимальный объём продукта в скважине для безубыточной разработки: {zero_profit_product}')"
   ]
  },
  {
   "cell_type": "markdown",
   "metadata": {},
   "source": [
    "Средний запас предсказанного сырья по всем регионам ниже необходимого объёма для безубыточной разработки. Если рандомно бурить скважины, то можно предположить, что в среднем будет убыток."
   ]
  },
  {
   "cell_type": "code",
   "execution_count": 18,
   "metadata": {},
   "outputs": [],
   "source": [
    "# Функция выбирает скважины лучшие скважины по предсказаниям модели,\n",
    "# суммирует реальный объём продукта, считает прибыль.\n",
    "def revenue(predictions_valid, target_valid):\n",
    "    top_points = predictions_valid.sort_values(ascending=False)[:POINTS_PER_BUDGET].index\n",
    "    total_product_volume = sum(target_valid[top_points])\n",
    "    total_revenue = total_product_volume * PRODUCT_PRICE - BUDGET\n",
    "    return(total_revenue)"
   ]
  },
  {
   "cell_type": "markdown",
   "metadata": {},
   "source": [
    "**Вывод:** функция для расчёта прибыли по наиболее выгодным шахтам, предсказанным моделью, готова."
   ]
  },
  {
   "cell_type": "markdown",
   "metadata": {},
   "source": [
    "## Расчёт прибыли и рисков "
   ]
  },
  {
   "cell_type": "code",
   "execution_count": 19,
   "metadata": {},
   "outputs": [],
   "source": [
    "# Функция техникой Bootstrap создаёт 1000 выборок из 500 предсказаний по объёму продукта в скважинах\n",
    "# определённого региона. Затем функция revenue() отбирает 200 скважин с наибольшими предсказанными\n",
    "# значениями объёма продукта в скважинах, считает прибыль, после чего это значение заносится в список.\n",
    "# Расчитывается средняя прибыль, 95% доверительный интервал, риск убытков.\n",
    "def bootstrap(predictions_valid, target_valid):\n",
    "    total_revenue_values = []\n",
    "    for i in range(1000):\n",
    "        predcitions_subsample = predictions_valid.sample(n=POINTS_TO_EXPLORE, random_state=STATE)\n",
    "        total_revenue_values.append(revenue(predcitions_subsample, target_valid))\n",
    "    total_revenue_values = pd.Series(total_revenue_values)\n",
    "    mean_revenue = total_revenue_values.mean()\n",
    "    print('Средняя прибыль:', mean_revenue)\n",
    "    print('95%-ый доверительный интервал для распределения прибыли: ' + \\\n",
    "          f'({total_revenue_values.quantile(.025)}, {total_revenue_values.quantile(.975)})')\n",
    "    loss_risk = total_revenue_values[total_revenue_values < 0].count() / total_revenue_values.count()\n",
    "    print(f'Риск убытков: {loss_risk:.1%}')"
   ]
  },
  {
   "cell_type": "code",
   "execution_count": 20,
   "metadata": {
    "scrolled": true
   },
   "outputs": [
    {
     "name": "stdout",
     "output_type": "stream",
     "text": [
      "Средняя прибыль: 398677700.98736227\n",
      "95%-ый доверительный интервал для распределения прибыли: (-118269439.91199045, 890419901.0573281)\n",
      "Риск убытков: 6.3%\n"
     ]
    }
   ],
   "source": [
    "bootstrap(fr_predictions_valid, fr_target_valid)"
   ]
  },
  {
   "cell_type": "code",
   "execution_count": 21,
   "metadata": {},
   "outputs": [
    {
     "name": "stdout",
     "output_type": "stream",
     "text": [
      "Средняя прибыль: 479515031.02889526\n",
      "95%-ый доверительный интервал для распределения прибыли: (85925309.62850137, 848824923.1596311)\n",
      "Риск убытков: 0.4%\n"
     ]
    }
   ],
   "source": [
    "bootstrap(sr_predictions_valid, sr_target_valid)"
   ]
  },
  {
   "cell_type": "code",
   "execution_count": 22,
   "metadata": {},
   "outputs": [
    {
     "name": "stdout",
     "output_type": "stream",
     "text": [
      "Средняя прибыль: 346328543.7984845\n",
      "95%-ый доверительный интервал для распределения прибыли: (-175791253.7726245, 845653636.4892236)\n",
      "Риск убытков: 9.4%\n"
     ]
    }
   ],
   "source": [
    "bootstrap(tr_predictions_valid, tr_target_valid)"
   ]
  },
  {
   "cell_type": "markdown",
   "metadata": {},
   "source": [
    "**Вывод:** меньше 2.5% риск убытков наблюдается только во втором регионе, следовательно лучше разрабатывать скважины в нём."
   ]
  },
  {
   "cell_type": "markdown",
   "metadata": {},
   "source": [
    "## Общий вывод"
   ]
  },
  {
   "cell_type": "markdown",
   "metadata": {},
   "source": [
    "**Загрузка и подготовка данных**  \n",
    "На данном этапе была сделана предобработка данных, разделение исходных датасетов по регионам на выборки с признаками и целевым признаком.  \n",
    "**Обучение и проверка модели**  \n",
    "По каждому региону обучена модель линейной регрессии, вычислен средний запас предсказанного сырья, корень среднеквадратической ошибки. Самое низкое значение среднего запаса предсказнного сырья у второго региона, но также наименьшее значение корня среднеквадратической ошибки, что говорит о более точных предиктах модели по данному региону. Сохранены предсказания по валидационной выборке.  \n",
    "**Подготовка к расчёту прибыли**  \n",
    "Указаны константы по условию задачи. Написана функция для расчёта прибыли по скважинам, в которых наибольший объём продукта по предсказанию модели.  \n",
    "**Расчёт прибыли и рисков**  \n",
    "По каждому региону техникой Bootstrap из выборки с предсказаниями модели по валидационной выборке создано 1000 подвыборок, по каждой из которых расчитана прибыль. Далее рассчитывалась средняя прибыль, доверительный интервал и риск убытков.  \n",
    "**Заключение**  \n",
    "Риск убытков ниже 2.5% выявлен только во втором регионе, значит отдать предпочтение разработок скважин следует в данном регионе."
   ]
  }
 ],
 "metadata": {
  "ExecuteTimeLog": [
   {
    "duration": 1654,
    "start_time": "2023-03-11T18:54:34.697Z"
   },
   {
    "duration": 3,
    "start_time": "2023-03-11T18:54:36.353Z"
   },
   {
    "duration": 18,
    "start_time": "2023-03-11T18:54:36.358Z"
   },
   {
    "duration": 1080,
    "start_time": "2023-03-11T18:54:36.377Z"
   },
   {
    "duration": 3,
    "start_time": "2023-03-11T18:54:37.459Z"
   },
   {
    "duration": 56,
    "start_time": "2023-03-11T18:54:37.464Z"
   },
   {
    "duration": 32,
    "start_time": "2023-03-11T18:54:37.522Z"
   },
   {
    "duration": 52,
    "start_time": "2023-03-11T18:54:37.555Z"
   },
   {
    "duration": 91,
    "start_time": "2023-03-11T18:54:37.609Z"
   },
   {
    "duration": 3,
    "start_time": "2023-03-11T18:54:37.702Z"
   },
   {
    "duration": 11,
    "start_time": "2023-03-11T18:54:37.707Z"
   },
   {
    "duration": 8,
    "start_time": "2023-03-11T18:54:37.720Z"
   },
   {
    "duration": 92,
    "start_time": "2023-03-11T18:54:37.730Z"
   },
   {
    "duration": 99,
    "start_time": "2023-03-11T18:54:37.881Z"
   },
   {
    "duration": 120,
    "start_time": "2023-03-11T18:54:37.982Z"
   },
   {
    "duration": 10,
    "start_time": "2023-03-11T18:54:38.108Z"
   },
   {
    "duration": 118,
    "start_time": "2023-03-11T18:54:38.186Z"
   },
   {
    "duration": 5,
    "start_time": "2023-03-11T18:54:38.306Z"
   },
   {
    "duration": 7,
    "start_time": "2023-03-11T18:54:38.313Z"
   },
   {
    "duration": 944,
    "start_time": "2023-03-11T18:54:38.321Z"
   },
   {
    "duration": 909,
    "start_time": "2023-03-11T18:54:39.266Z"
   },
   {
    "duration": 943,
    "start_time": "2023-03-11T18:54:40.176Z"
   },
   {
    "duration": 3,
    "start_time": "2023-03-11T18:59:01.044Z"
   },
   {
    "duration": 1485,
    "start_time": "2023-03-11T18:59:05.123Z"
   },
   {
    "duration": 3,
    "start_time": "2023-03-11T18:59:11.539Z"
   },
   {
    "duration": 903,
    "start_time": "2023-03-11T18:59:15.448Z"
   },
   {
    "duration": 65,
    "start_time": "2023-03-12T01:56:12.140Z"
   },
   {
    "duration": 1033,
    "start_time": "2023-03-12T01:56:12.207Z"
   },
   {
    "duration": 3,
    "start_time": "2023-03-12T01:56:13.241Z"
   },
   {
    "duration": 7,
    "start_time": "2023-03-12T01:56:13.245Z"
   },
   {
    "duration": 1070,
    "start_time": "2023-03-12T01:56:13.253Z"
   },
   {
    "duration": 4,
    "start_time": "2023-03-12T01:56:14.324Z"
   },
   {
    "duration": 53,
    "start_time": "2023-03-12T01:56:14.329Z"
   },
   {
    "duration": 45,
    "start_time": "2023-03-12T01:56:14.386Z"
   },
   {
    "duration": 31,
    "start_time": "2023-03-12T01:56:14.433Z"
   },
   {
    "duration": 64,
    "start_time": "2023-03-12T01:56:14.468Z"
   },
   {
    "duration": 3,
    "start_time": "2023-03-12T01:56:14.533Z"
   },
   {
    "duration": 13,
    "start_time": "2023-03-12T01:56:14.538Z"
   },
   {
    "duration": 6,
    "start_time": "2023-03-12T01:56:14.553Z"
   },
   {
    "duration": 57,
    "start_time": "2023-03-12T01:56:14.561Z"
   },
   {
    "duration": 177,
    "start_time": "2023-03-12T01:56:14.620Z"
   },
   {
    "duration": 211,
    "start_time": "2023-03-12T01:56:14.799Z"
   },
   {
    "duration": 3,
    "start_time": "2023-03-12T01:56:15.012Z"
   },
   {
    "duration": 75,
    "start_time": "2023-03-12T01:56:15.016Z"
   },
   {
    "duration": 109,
    "start_time": "2023-03-12T01:56:15.093Z"
   },
   {
    "duration": 6,
    "start_time": "2023-03-12T01:56:15.204Z"
   },
   {
    "duration": 956,
    "start_time": "2023-03-12T01:56:15.212Z"
   },
   {
    "duration": 916,
    "start_time": "2023-03-12T01:56:16.169Z"
   },
   {
    "duration": 892,
    "start_time": "2023-03-12T01:56:17.089Z"
   }
  ],
  "kernelspec": {
   "display_name": "Python 3 (ipykernel)",
   "language": "python",
   "name": "python3"
  },
  "language_info": {
   "codemirror_mode": {
    "name": "ipython",
    "version": 3
   },
   "file_extension": ".py",
   "mimetype": "text/x-python",
   "name": "python",
   "nbconvert_exporter": "python",
   "pygments_lexer": "ipython3",
   "version": "3.10.9"
  },
  "toc": {
   "base_numbering": 1,
   "nav_menu": {},
   "number_sections": true,
   "sideBar": true,
   "skip_h1_title": true,
   "title_cell": "Table of Contents",
   "title_sidebar": "Contents",
   "toc_cell": false,
   "toc_position": {},
   "toc_section_display": true,
   "toc_window_display": false
  }
 },
 "nbformat": 4,
 "nbformat_minor": 2
}
