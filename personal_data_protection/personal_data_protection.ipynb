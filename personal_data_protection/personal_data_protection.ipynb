{
 "cells": [
  {
   "cell_type": "markdown",
   "metadata": {},
   "source": [
    "## Загрузка данных"
   ]
  },
  {
   "cell_type": "code",
   "execution_count": 1,
   "metadata": {},
   "outputs": [],
   "source": [
    "import pandas as pd\n",
    "\n",
    "import numpy as np\n",
    "\n",
    "from matplotlib import pyplot as plt\n",
    "\n",
    "import seaborn as sns\n",
    "\n",
    "from sklearn.metrics import r2_score"
   ]
  },
  {
   "cell_type": "code",
   "execution_count": 3,
   "metadata": {},
   "outputs": [
    {
     "name": "stdout",
     "output_type": "stream",
     "text": [
      "<class 'pandas.core.frame.DataFrame'>\n",
      "RangeIndex: 5000 entries, 0 to 4999\n",
      "Data columns (total 5 columns):\n",
      " #   Column             Non-Null Count  Dtype  \n",
      "---  ------             --------------  -----  \n",
      " 0   Пол                5000 non-null   int64  \n",
      " 1   Возраст            5000 non-null   float64\n",
      " 2   Зарплата           5000 non-null   float64\n",
      " 3   Члены семьи        5000 non-null   int64  \n",
      " 4   Страховые выплаты  5000 non-null   int64  \n",
      "dtypes: float64(2), int64(3)\n",
      "memory usage: 195.4 KB\n"
     ]
    }
   ],
   "source": [
    "data.info()"
   ]
  },
  {
   "cell_type": "code",
   "execution_count": 4,
   "metadata": {},
   "outputs": [
    {
     "data": {
      "text/html": [
       "<div>\n",
       "<style scoped>\n",
       "    .dataframe tbody tr th:only-of-type {\n",
       "        vertical-align: middle;\n",
       "    }\n",
       "\n",
       "    .dataframe tbody tr th {\n",
       "        vertical-align: top;\n",
       "    }\n",
       "\n",
       "    .dataframe thead th {\n",
       "        text-align: right;\n",
       "    }\n",
       "</style>\n",
       "<table border=\"1\" class=\"dataframe\">\n",
       "  <thead>\n",
       "    <tr style=\"text-align: right;\">\n",
       "      <th></th>\n",
       "      <th>Пол</th>\n",
       "      <th>Возраст</th>\n",
       "      <th>Зарплата</th>\n",
       "      <th>Члены семьи</th>\n",
       "      <th>Страховые выплаты</th>\n",
       "    </tr>\n",
       "  </thead>\n",
       "  <tbody>\n",
       "    <tr>\n",
       "      <th>0</th>\n",
       "      <td>1</td>\n",
       "      <td>41.0</td>\n",
       "      <td>49600.0</td>\n",
       "      <td>1</td>\n",
       "      <td>0</td>\n",
       "    </tr>\n",
       "    <tr>\n",
       "      <th>1</th>\n",
       "      <td>0</td>\n",
       "      <td>46.0</td>\n",
       "      <td>38000.0</td>\n",
       "      <td>1</td>\n",
       "      <td>1</td>\n",
       "    </tr>\n",
       "    <tr>\n",
       "      <th>2</th>\n",
       "      <td>0</td>\n",
       "      <td>29.0</td>\n",
       "      <td>21000.0</td>\n",
       "      <td>0</td>\n",
       "      <td>0</td>\n",
       "    </tr>\n",
       "    <tr>\n",
       "      <th>3</th>\n",
       "      <td>0</td>\n",
       "      <td>21.0</td>\n",
       "      <td>41700.0</td>\n",
       "      <td>2</td>\n",
       "      <td>0</td>\n",
       "    </tr>\n",
       "    <tr>\n",
       "      <th>4</th>\n",
       "      <td>1</td>\n",
       "      <td>28.0</td>\n",
       "      <td>26100.0</td>\n",
       "      <td>0</td>\n",
       "      <td>0</td>\n",
       "    </tr>\n",
       "  </tbody>\n",
       "</table>\n",
       "</div>"
      ],
      "text/plain": [
       "   Пол  Возраст  Зарплата  Члены семьи  Страховые выплаты\n",
       "0    1     41.0   49600.0            1                  0\n",
       "1    0     46.0   38000.0            1                  1\n",
       "2    0     29.0   21000.0            0                  0\n",
       "3    0     21.0   41700.0            2                  0\n",
       "4    1     28.0   26100.0            0                  0"
      ]
     },
     "execution_count": 4,
     "metadata": {},
     "output_type": "execute_result"
    }
   ],
   "source": [
    "data.head()"
   ]
  },
  {
   "cell_type": "code",
   "execution_count": 5,
   "metadata": {},
   "outputs": [
    {
     "data": {
      "text/html": [
       "<div>\n",
       "<style scoped>\n",
       "    .dataframe tbody tr th:only-of-type {\n",
       "        vertical-align: middle;\n",
       "    }\n",
       "\n",
       "    .dataframe tbody tr th {\n",
       "        vertical-align: top;\n",
       "    }\n",
       "\n",
       "    .dataframe thead th {\n",
       "        text-align: right;\n",
       "    }\n",
       "</style>\n",
       "<table border=\"1\" class=\"dataframe\">\n",
       "  <thead>\n",
       "    <tr style=\"text-align: right;\">\n",
       "      <th></th>\n",
       "      <th>Пол</th>\n",
       "      <th>Возраст</th>\n",
       "      <th>Зарплата</th>\n",
       "      <th>Члены семьи</th>\n",
       "      <th>Страховые выплаты</th>\n",
       "    </tr>\n",
       "  </thead>\n",
       "  <tbody>\n",
       "    <tr>\n",
       "      <th>count</th>\n",
       "      <td>5000.000000</td>\n",
       "      <td>5000.000000</td>\n",
       "      <td>5000.000000</td>\n",
       "      <td>5000.000000</td>\n",
       "      <td>5000.000000</td>\n",
       "    </tr>\n",
       "    <tr>\n",
       "      <th>mean</th>\n",
       "      <td>0.499000</td>\n",
       "      <td>30.952800</td>\n",
       "      <td>39916.360000</td>\n",
       "      <td>1.194200</td>\n",
       "      <td>0.148000</td>\n",
       "    </tr>\n",
       "    <tr>\n",
       "      <th>std</th>\n",
       "      <td>0.500049</td>\n",
       "      <td>8.440807</td>\n",
       "      <td>9900.083569</td>\n",
       "      <td>1.091387</td>\n",
       "      <td>0.463183</td>\n",
       "    </tr>\n",
       "    <tr>\n",
       "      <th>min</th>\n",
       "      <td>0.000000</td>\n",
       "      <td>18.000000</td>\n",
       "      <td>5300.000000</td>\n",
       "      <td>0.000000</td>\n",
       "      <td>0.000000</td>\n",
       "    </tr>\n",
       "    <tr>\n",
       "      <th>25%</th>\n",
       "      <td>0.000000</td>\n",
       "      <td>24.000000</td>\n",
       "      <td>33300.000000</td>\n",
       "      <td>0.000000</td>\n",
       "      <td>0.000000</td>\n",
       "    </tr>\n",
       "    <tr>\n",
       "      <th>50%</th>\n",
       "      <td>0.000000</td>\n",
       "      <td>30.000000</td>\n",
       "      <td>40200.000000</td>\n",
       "      <td>1.000000</td>\n",
       "      <td>0.000000</td>\n",
       "    </tr>\n",
       "    <tr>\n",
       "      <th>75%</th>\n",
       "      <td>1.000000</td>\n",
       "      <td>37.000000</td>\n",
       "      <td>46600.000000</td>\n",
       "      <td>2.000000</td>\n",
       "      <td>0.000000</td>\n",
       "    </tr>\n",
       "    <tr>\n",
       "      <th>max</th>\n",
       "      <td>1.000000</td>\n",
       "      <td>65.000000</td>\n",
       "      <td>79000.000000</td>\n",
       "      <td>6.000000</td>\n",
       "      <td>5.000000</td>\n",
       "    </tr>\n",
       "  </tbody>\n",
       "</table>\n",
       "</div>"
      ],
      "text/plain": [
       "               Пол      Возраст      Зарплата  Члены семьи  Страховые выплаты\n",
       "count  5000.000000  5000.000000   5000.000000  5000.000000        5000.000000\n",
       "mean      0.499000    30.952800  39916.360000     1.194200           0.148000\n",
       "std       0.500049     8.440807   9900.083569     1.091387           0.463183\n",
       "min       0.000000    18.000000   5300.000000     0.000000           0.000000\n",
       "25%       0.000000    24.000000  33300.000000     0.000000           0.000000\n",
       "50%       0.000000    30.000000  40200.000000     1.000000           0.000000\n",
       "75%       1.000000    37.000000  46600.000000     2.000000           0.000000\n",
       "max       1.000000    65.000000  79000.000000     6.000000           5.000000"
      ]
     },
     "execution_count": 5,
     "metadata": {},
     "output_type": "execute_result"
    }
   ],
   "source": [
    "data.describe()"
   ]
  },
  {
   "cell_type": "markdown",
   "metadata": {},
   "source": [
    "Исходный датасет состоит из 5000 строк и 5 столбцов с персональной информацией о клиентах. Пропусков и аномалий нет."
   ]
  },
  {
   "cell_type": "code",
   "execution_count": 6,
   "metadata": {
    "scrolled": false
   },
   "outputs": [
    {
     "data": {
      "image/png": "[encoded data removed]",
      "text/plain": [
       "<Figure size 640x480 with 1 Axes>"
      ]
     },
     "metadata": {},
     "output_type": "display_data"
    },
    {
     "data": {
      "image/png": "[encoded data removed]",
      "text/plain": [
       "<Figure size 640x480 with 1 Axes>"
      ]
     },
     "metadata": {},
     "output_type": "display_data"
    },
    {
     "data": {
      "image/png": "[encoded data removed]",
      "text/plain": [
       "<Figure size 640x480 with 1 Axes>"
      ]
     },
     "metadata": {},
     "output_type": "display_data"
    },
    {
     "data": {
      "image/png": "[encoded data removed]",
      "text/plain": [
       "<Figure size 640x480 with 1 Axes>"
      ]
     },
     "metadata": {},
     "output_type": "display_data"
    },
    {
     "data": {
      "image/png": "[encoded data removed]",
      "text/plain": [
       "<Figure size 640x480 with 1 Axes>"
      ]
     },
     "metadata": {},
     "output_type": "display_data"
    }
   ],
   "source": [
    "pd.plotting.boxplot(data['Возраст']).set_title('Распределение записей клиентов по возрасту')\n",
    "plt.show()\n",
    "\n",
    "pd.plotting.boxplot(data['Зарплата']).set_title('Распределение записей клиентов по зарплате')\n",
    "plt.show()\n",
    "\n",
    "sns.barplot(x=data['Пол'].value_counts().index, \\\n",
    "            y=data['Пол'].value_counts().values).set_title('Распределение записей клиентов по полу')\n",
    "plt.show()\n",
    "\n",
    "sns.barplot(x=data['Члены семьи'].value_counts().index, \\\n",
    "            y=data['Члены семьи'].value_counts().values).set_title('Распределение записей по количеству членов семьи')\n",
    "plt.show()\n",
    "\n",
    "sns.barplot(x=data['Страховые выплаты'].value_counts().index, \\\n",
    "            y=data['Страховые выплаты'].value_counts().values).set_title('Распределение записей по количеству страховых выплат')\n",
    "plt.show()"
   ]
  },
  {
   "cell_type": "markdown",
   "metadata": {},
   "source": [
    "## Умножение матриц"
   ]
  },
  {
   "cell_type": "markdown",
   "metadata": {},
   "source": [
    "Обозначения:\n",
    "\n",
    "- $X$ — матрица признаков (нулевой столбец состоит из единиц)\n",
    "\n",
    "- $y$ — вектор целевого признака\n",
    "\n",
    "- $P$ — матрица, на которую умножаются признаки\n",
    "\n",
    "- $w$ — вектор весов линейной регрессии (нулевой элемент равен сдвигу)"
   ]
  },
  {
   "cell_type": "markdown",
   "metadata": {},
   "source": [
    "Предсказания:\n",
    "\n",
    "$$\n",
    "a = Xw\n",
    "$$\n",
    "\n",
    "Задача обучения:\n",
    "\n",
    "$$\n",
    "w = \\arg\\min_w MSE(Xw, y)\n",
    "$$\n",
    "\n",
    "Формула обучения:\n",
    "\n",
    "$$\n",
    "w = (X^T X)^{-1} X^T y\n",
    "$$"
   ]
  },
  {
   "cell_type": "markdown",
   "metadata": {},
   "source": [
    "Если\n",
    "$$\n",
    "w' = P^{-1} w\n",
    "$$\n",
    "То\n",
    "$$\n",
    "a = a'\n",
    "$$\n",
    "Так как\n",
    "$$\n",
    "a = Xw\n",
    "$$\n",
    "$$\n",
    "a' = X P w'\n",
    "$$\n",
    "$$\n",
    "a' = X P P^{-1} w\n",
    "$$\n",
    "$$\n",
    "a' = X w\n",
    "$$"
   ]
  },
  {
   "cell_type": "markdown",
   "metadata": {},
   "source": [
    "Доказательство\n",
    "$$\n",
    "w' = ((X P)^T X P)^{-1} (X P)^T y\n",
    "$$"
   ]
  },
  {
   "cell_type": "markdown",
   "metadata": {},
   "source": [
    "$$\n",
    "w' = (P^T X^T X P)^{-1} P^T X^T y\n",
    "$$"
   ]
  },
  {
   "cell_type": "markdown",
   "metadata": {},
   "source": [
    "$$\n",
    "w' = P^{-1} (X^T X)^{-1} (P^T)^{-1} P^T X^T y\n",
    "$$"
   ]
  },
  {
   "cell_type": "markdown",
   "metadata": {},
   "source": [
    "$$\n",
    "w' = P^{-1} (X^T X)^{-1} E X^T y\n",
    "$$"
   ]
  },
  {
   "cell_type": "markdown",
   "metadata": {},
   "source": [
    "$$\n",
    "w' = P^{-1}(X^T X)^{-1} X^T y\n",
    "$$"
   ]
  },
  {
   "cell_type": "markdown",
   "metadata": {},
   "source": [
    "$$\n",
    "w' = P^{-1} w\n",
    "$$"
   ]
  },
  {
   "cell_type": "markdown",
   "metadata": {},
   "source": [
    "**Ответ:** не изменится.\n",
    "\n",
    "**Обоснование:** обучение производится по преобразованным признакам, но предсказания производятся также по преобразованным признакам. Из-за этого в процессе предсказания обратимая матрица умножается на обратную, образуя единичную, тем самым предикт остаётся такой же, как в случае без преобразования признаков."
   ]
  },
  {
   "cell_type": "markdown",
   "metadata": {},
   "source": [
    "## Алгоритм преобразования"
   ]
  },
  {
   "cell_type": "markdown",
   "metadata": {},
   "source": [
    "**Алгоритм**\n",
    "\n",
    "Перед обучением исходные признаки умножим на случайную матрицу, которая является обратимой."
   ]
  },
  {
   "cell_type": "markdown",
   "metadata": {},
   "source": [
    "**Обоснование**\n",
    "\n",
    "Доказанное выше тождество подтверждает, что при умножении матрицы признаков на обратимую матрицу, качество линейной регрессии не изменяется."
   ]
  },
  {
   "cell_type": "markdown",
   "metadata": {},
   "source": [
    "## Проверка алгоритма"
   ]
  },
  {
   "cell_type": "code",
   "execution_count": 7,
   "metadata": {},
   "outputs": [],
   "source": [
    "# Подготавливаем матрицу с признаками\n",
    "X = data.drop('Страховые выплаты', axis=1).values\n",
    "X = np.concatenate((np.ones((X.shape[0], 1)), X), axis=1)\n",
    "\n",
    "# Создаём квадратную матрицу\n",
    "P = np.random.normal(size=(X.shape[1], X.shape[1]))\n",
    "\n",
    "# Проверяем обратимость матрицы\n",
    "while np.linalg.det(P) == 0:\n",
    "    P = np.random.normal(size=(X.shape[1], X.shape[1]))\n",
    "\n",
    "# Умножаем матрицу с признаками на обратимую матрицу\n",
    "X_converted = X @ P"
   ]
  },
  {
   "cell_type": "code",
   "execution_count": 8,
   "metadata": {},
   "outputs": [],
   "source": [
    "# Подготавливаем целевой признак\n",
    "y = data['Страховые выплаты']"
   ]
  },
  {
   "cell_type": "code",
   "execution_count": 9,
   "metadata": {},
   "outputs": [],
   "source": [
    "# Создаём класс линейной регрессии, в котором есть метод заполнения модели обучающими признаками и целевым признаком, \n",
    "# а также метод предсказания.\n",
    "class LinearRegression:\n",
    "    def fit(self, X, y):\n",
    "        w = np.linalg.inv(X.T @ X) @ X.T @ y\n",
    "        self.w = w\n",
    "    def predict(self, test_features):\n",
    "        return test_features.dot(self.w)"
   ]
  },
  {
   "cell_type": "code",
   "execution_count": 10,
   "metadata": {},
   "outputs": [],
   "source": [
    "model_converted = LinearRegression()\n",
    "model_converted.fit(X_converted, y)\n",
    "pred_converted = model_converted.predict(X_converted)"
   ]
  },
  {
   "cell_type": "code",
   "execution_count": 11,
   "metadata": {},
   "outputs": [],
   "source": [
    "model = LinearRegression()\n",
    "model.fit(X, y)\n",
    "pred = model.predict(X)"
   ]
  },
  {
   "cell_type": "code",
   "execution_count": 12,
   "metadata": {},
   "outputs": [
    {
     "name": "stdout",
     "output_type": "stream",
     "text": [
      "Значение метрики r2_score модели, обученной на преобразованных признаках: 0.4249\n"
     ]
    }
   ],
   "source": [
    "print('Значение метрики r2_score модели, обученной на преобразованных признаках:', round(r2_score(y, pred_converted), 4))"
   ]
  },
  {
   "cell_type": "code",
   "execution_count": 13,
   "metadata": {},
   "outputs": [
    {
     "name": "stdout",
     "output_type": "stream",
     "text": [
      "Значение метрики r2_score модели, обученной на исходных признаках: 0.4249\n"
     ]
    }
   ],
   "source": [
    "print('Значение метрики r2_score модели, обученной на исходных признаках:', round(r2_score(y, pred), 4))"
   ]
  },
  {
   "cell_type": "markdown",
   "metadata": {},
   "source": [
    "**Вывод:** преобразование признаков на качество модели линейной регрессии не влияет."
   ]
  }
 ],
 "metadata": {
  "ExecuteTimeLog": [
   {
    "duration": 3198,
    "start_time": "2023-04-01T13:40:02.150Z"
   },
   {
    "duration": 69,
    "start_time": "2023-04-01T13:40:05.352Z"
   },
   {
    "duration": 267,
    "start_time": "2023-04-01T13:40:05.423Z"
   },
   {
    "duration": 8,
    "start_time": "2023-04-01T13:47:57.640Z"
   },
   {
    "duration": 4,
    "start_time": "2023-04-01T13:47:59.568Z"
   },
   {
    "duration": 50,
    "start_time": "2023-04-01T13:47:59.579Z"
   },
   {
    "duration": 110,
    "start_time": "2023-04-01T13:48:00.630Z"
   },
   {
    "duration": 11,
    "start_time": "2023-04-01T13:48:01.483Z"
   },
   {
    "duration": 6,
    "start_time": "2023-04-01T13:48:02.342Z"
   },
   {
    "duration": 6,
    "start_time": "2023-04-01T13:48:02.666Z"
   },
   {
    "duration": 1596,
    "start_time": "2023-04-01T22:01:16.717Z"
   },
   {
    "duration": 25,
    "start_time": "2023-04-01T22:01:18.315Z"
   },
   {
    "duration": 166,
    "start_time": "2023-04-01T22:01:18.342Z"
   },
   {
    "duration": 14,
    "start_time": "2023-04-01T22:01:18.510Z"
   },
   {
    "duration": 12,
    "start_time": "2023-04-01T22:01:18.527Z"
   },
   {
    "duration": 25,
    "start_time": "2023-04-01T22:01:18.540Z"
   },
   {
    "duration": 711,
    "start_time": "2023-04-01T22:01:18.567Z"
   },
   {
    "duration": 6,
    "start_time": "2023-04-01T22:01:19.280Z"
   },
   {
    "duration": 3,
    "start_time": "2023-04-01T22:01:19.288Z"
   },
   {
    "duration": 4,
    "start_time": "2023-04-01T22:01:19.293Z"
   },
   {
    "duration": 27,
    "start_time": "2023-04-01T22:01:19.298Z"
   },
   {
    "duration": 4,
    "start_time": "2023-04-01T22:01:19.327Z"
   },
   {
    "duration": 5,
    "start_time": "2023-04-01T22:01:19.333Z"
   },
   {
    "duration": 84,
    "start_time": "2023-04-01T22:01:19.341Z"
   },
   {
    "duration": 1746,
    "start_time": "2023-10-18T05:45:06.609Z"
   },
   {
    "duration": 2,
    "start_time": "2023-10-18T05:45:08.357Z"
   },
   {
    "duration": 202,
    "start_time": "2023-10-18T05:45:08.361Z"
   },
   {
    "duration": 11,
    "start_time": "2023-10-18T05:45:08.564Z"
   },
   {
    "duration": 20,
    "start_time": "2023-10-18T05:45:08.577Z"
   },
   {
    "duration": 28,
    "start_time": "2023-10-18T05:45:08.598Z"
   },
   {
    "duration": 589,
    "start_time": "2023-10-18T05:45:08.628Z"
   },
   {
    "duration": 6,
    "start_time": "2023-10-18T05:45:09.219Z"
   },
   {
    "duration": 37,
    "start_time": "2023-10-18T05:45:09.227Z"
   },
   {
    "duration": 80,
    "start_time": "2023-10-18T05:45:09.266Z"
   },
   {
    "duration": 34,
    "start_time": "2023-10-18T05:45:09.348Z"
   },
   {
    "duration": 160,
    "start_time": "2023-10-18T05:45:09.384Z"
   },
   {
    "duration": 98,
    "start_time": "2023-10-18T05:45:09.548Z"
   },
   {
    "duration": 10,
    "start_time": "2023-10-18T05:45:09.648Z"
   }
  ],
  "kernelspec": {
   "display_name": "Python 3 (ipykernel)",
   "language": "python",
   "name": "python3"
  },
  "language_info": {
   "codemirror_mode": {
    "name": "ipython",
    "version": 3
   },
   "file_extension": ".py",
   "mimetype": "text/x-python",
   "name": "python",
   "nbconvert_exporter": "python",
   "pygments_lexer": "ipython3",
   "version": "3.10.9"
  },
  "toc": {
   "base_numbering": 1,
   "nav_menu": {},
   "number_sections": true,
   "sideBar": true,
   "skip_h1_title": true,
   "title_cell": "Содержание",
   "title_sidebar": "Contents",
   "toc_cell": true,
   "toc_position": {
    "height": "calc(100% - 180px)",
    "left": "10px",
    "top": "150px",
    "width": "165px"
   },
   "toc_section_display": true,
   "toc_window_display": true
  }
 },
 "nbformat": 4,
 "nbformat_minor": 2
}
