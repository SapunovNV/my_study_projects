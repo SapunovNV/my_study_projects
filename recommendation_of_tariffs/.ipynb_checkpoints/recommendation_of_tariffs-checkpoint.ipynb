{
 "cells": [
  {
   "cell_type": "markdown",
   "metadata": {},
   "source": [
    "## Откройте и изучите файл"
   ]
  },
  {
   "cell_type": "code",
   "execution_count": 1,
   "metadata": {},
   "outputs": [],
   "source": [
    "# Импортируем необходимые для проекта бибилотеки и их модули\n",
    "import pandas as pd\n",
    "\n",
    "import numpy as np\n",
    "\n",
    "from matplotlib import pyplot as plt\n",
    "\n",
    "from sklearn import tree\n",
    "from sklearn.model_selection import train_test_split\n",
    "from sklearn.metrics import accuracy_score, \\\n",
    "                            precision_score, \\\n",
    "                            recall_score, \\\n",
    "                            confusion_matrix, \\\n",
    "                            f1_score\n",
    "from sklearn.tree import DecisionTreeClassifier\n",
    "from sklearn.ensemble import RandomForestClassifier\n",
    "from sklearn.linear_model import LogisticRegression\n",
    "from sklearn.dummy import DummyClassifier"
   ]
  },
  {
   "cell_type": "code",
   "execution_count": 3,
   "metadata": {},
   "outputs": [],
   "source": [
    "RANDOM_STATE = 123"
   ]
  },
  {
   "cell_type": "code",
   "execution_count": 4,
   "metadata": {},
   "outputs": [
    {
     "data": {
      "text/html": [
       "<div>\n",
       "<style scoped>\n",
       "    .dataframe tbody tr th:only-of-type {\n",
       "        vertical-align: middle;\n",
       "    }\n",
       "\n",
       "    .dataframe tbody tr th {\n",
       "        vertical-align: top;\n",
       "    }\n",
       "\n",
       "    .dataframe thead th {\n",
       "        text-align: right;\n",
       "    }\n",
       "</style>\n",
       "<table border=\"1\" class=\"dataframe\">\n",
       "  <thead>\n",
       "    <tr style=\"text-align: right;\">\n",
       "      <th></th>\n",
       "      <th>calls</th>\n",
       "      <th>minutes</th>\n",
       "      <th>messages</th>\n",
       "      <th>mb_used</th>\n",
       "      <th>is_ultra</th>\n",
       "    </tr>\n",
       "  </thead>\n",
       "  <tbody>\n",
       "    <tr>\n",
       "      <th>0</th>\n",
       "      <td>40.0</td>\n",
       "      <td>311.90</td>\n",
       "      <td>83.0</td>\n",
       "      <td>19915.42</td>\n",
       "      <td>0</td>\n",
       "    </tr>\n",
       "    <tr>\n",
       "      <th>1</th>\n",
       "      <td>85.0</td>\n",
       "      <td>516.75</td>\n",
       "      <td>56.0</td>\n",
       "      <td>22696.96</td>\n",
       "      <td>0</td>\n",
       "    </tr>\n",
       "    <tr>\n",
       "      <th>2</th>\n",
       "      <td>77.0</td>\n",
       "      <td>467.66</td>\n",
       "      <td>86.0</td>\n",
       "      <td>21060.45</td>\n",
       "      <td>0</td>\n",
       "    </tr>\n",
       "    <tr>\n",
       "      <th>3</th>\n",
       "      <td>106.0</td>\n",
       "      <td>745.53</td>\n",
       "      <td>81.0</td>\n",
       "      <td>8437.39</td>\n",
       "      <td>1</td>\n",
       "    </tr>\n",
       "    <tr>\n",
       "      <th>4</th>\n",
       "      <td>66.0</td>\n",
       "      <td>418.74</td>\n",
       "      <td>1.0</td>\n",
       "      <td>14502.75</td>\n",
       "      <td>0</td>\n",
       "    </tr>\n",
       "  </tbody>\n",
       "</table>\n",
       "</div>"
      ],
      "text/plain": [
       "   calls  minutes  messages   mb_used  is_ultra\n",
       "0   40.0   311.90      83.0  19915.42         0\n",
       "1   85.0   516.75      56.0  22696.96         0\n",
       "2   77.0   467.66      86.0  21060.45         0\n",
       "3  106.0   745.53      81.0   8437.39         1\n",
       "4   66.0   418.74       1.0  14502.75         0"
      ]
     },
     "execution_count": 4,
     "metadata": {},
     "output_type": "execute_result"
    }
   ],
   "source": [
    "df.head()"
   ]
  },
  {
   "cell_type": "code",
   "execution_count": 5,
   "metadata": {},
   "outputs": [
    {
     "name": "stdout",
     "output_type": "stream",
     "text": [
      "<class 'pandas.core.frame.DataFrame'>\n",
      "RangeIndex: 3214 entries, 0 to 3213\n",
      "Data columns (total 5 columns):\n",
      " #   Column    Non-Null Count  Dtype  \n",
      "---  ------    --------------  -----  \n",
      " 0   calls     3214 non-null   float64\n",
      " 1   minutes   3214 non-null   float64\n",
      " 2   messages  3214 non-null   float64\n",
      " 3   mb_used   3214 non-null   float64\n",
      " 4   is_ultra  3214 non-null   int64  \n",
      "dtypes: float64(4), int64(1)\n",
      "memory usage: 125.7 KB\n"
     ]
    }
   ],
   "source": [
    "df.info()"
   ]
  },
  {
   "cell_type": "code",
   "execution_count": 6,
   "metadata": {},
   "outputs": [
    {
     "data": {
      "text/html": [
       "<div>\n",
       "<style scoped>\n",
       "    .dataframe tbody tr th:only-of-type {\n",
       "        vertical-align: middle;\n",
       "    }\n",
       "\n",
       "    .dataframe tbody tr th {\n",
       "        vertical-align: top;\n",
       "    }\n",
       "\n",
       "    .dataframe thead th {\n",
       "        text-align: right;\n",
       "    }\n",
       "</style>\n",
       "<table border=\"1\" class=\"dataframe\">\n",
       "  <thead>\n",
       "    <tr style=\"text-align: right;\">\n",
       "      <th></th>\n",
       "      <th>calls</th>\n",
       "    </tr>\n",
       "    <tr>\n",
       "      <th>is_ultra</th>\n",
       "      <th></th>\n",
       "    </tr>\n",
       "  </thead>\n",
       "  <tbody>\n",
       "    <tr>\n",
       "      <th>0</th>\n",
       "      <td>2229</td>\n",
       "    </tr>\n",
       "    <tr>\n",
       "      <th>1</th>\n",
       "      <td>985</td>\n",
       "    </tr>\n",
       "  </tbody>\n",
       "</table>\n",
       "</div>"
      ],
      "text/plain": [
       "          calls\n",
       "is_ultra       \n",
       "0          2229\n",
       "1           985"
      ]
     },
     "execution_count": 6,
     "metadata": {},
     "output_type": "execute_result"
    }
   ],
   "source": [
    "df.pivot_table(index='is_ultra', values='calls', aggfunc='count')"
   ]
  },
  {
   "cell_type": "markdown",
   "metadata": {},
   "source": [
    "Датасет состоит из 5 столбцов и 3214 строк, содержащих информацию о клиентах, которые уже перешли на тарифы \"ультра\" и \"смарт\":  \n",
    "`calls` - количество звонков;  \n",
    "`minutes` - суммарная длительность звонков в минутах;  \n",
    "`messages` - количество sms-сообщений;  \n",
    "`mb_used` - израсходованный интернет-трафик в Мб;  \n",
    "`is_ultra` -  каким тарифом пользовался в течение месяца.  \n",
    "\n",
    "Количество строк с тарифом \"смарт\" - 2229 (69% всех данных), с тарифом \"ультра\" - 985 (31% всех данных)."
   ]
  },
  {
   "cell_type": "markdown",
   "metadata": {},
   "source": [
    "## Подготовка к обучению"
   ]
  },
  {
   "cell_type": "markdown",
   "metadata": {},
   "source": [
    "Разделим исходные данные на обучающую, валидационную и тестовую выборки в соотношении 3:1:1"
   ]
  },
  {
   "cell_type": "code",
   "execution_count": 7,
   "metadata": {},
   "outputs": [
    {
     "name": "stdout",
     "output_type": "stream",
     "text": [
      "Количество строк в обучающей выборке по классам: [1337  591]\n",
      "Количество строк в валидационной выборке по классам: [446 197]\n",
      "Количество строк в тестовой выборке по классам: [446 197]\n"
     ]
    }
   ],
   "source": [
    "# В переменную features поместим признаки, а в переменную target - целевой признак\n",
    "features = df.drop('is_ultra', axis=1)\n",
    "target = df['is_ultra']\n",
    "\n",
    "# Для начала отделим тренировочную выборку\n",
    "features_train, features_valid_test, \\\n",
    "target_train, target_valid_test = train_test_split(features, target, \n",
    "                                                   test_size=.4, \n",
    "                                                   random_state=RANDOM_STATE, \n",
    "                                                   stratify=target)\n",
    "\n",
    "# Затем разделяем остаток данных на валидационную и тестовую выборки\n",
    "features_valid, features_test, \\\n",
    "target_valid, target_test = train_test_split(features_valid_test, target_valid_test, \n",
    "                                             test_size=.5, \n",
    "                                             random_state=RANDOM_STATE, \n",
    "                                             stratify=target_valid_test)\n",
    "print(f\"Количество строк в обучающей выборке по классам: {np.bincount(target_train)}\")\n",
    "print(f\"Количество строк в валидационной выборке по классам: {np.bincount(target_valid)}\")\n",
    "print(f\"Количество строк в тестовой выборке по классам: {np.bincount(target_test)}\")"
   ]
  },
  {
   "cell_type": "code",
   "execution_count": 8,
   "metadata": {},
   "outputs": [
    {
     "name": "stdout",
     "output_type": "stream",
     "text": [
      "Обучающая выборка содержит 1928, валидационная 643, тестовая 643 строк\n"
     ]
    }
   ],
   "source": [
    "# Проверим количество строк в каждой выборке\n",
    "print(f'Обучающая выборка содержит {features_train.shape[0]}, \\\n",
    "валидационная {features_valid.shape[0]}, \\\n",
    "тестовая {features_test.shape[0]} строк')"
   ]
  },
  {
   "cell_type": "markdown",
   "metadata": {},
   "source": [
    "## Обучение моделей"
   ]
  },
  {
   "cell_type": "markdown",
   "metadata": {},
   "source": [
    "**Модель классификации деревом решений.**"
   ]
  },
  {
   "cell_type": "code",
   "execution_count": 9,
   "metadata": {},
   "outputs": [],
   "source": [
    "# Цикл перебирает модели классификации деревом решений с разным значением максимальной глубины дерева,\n",
    "# условие сравнивает долю правильных ответов модели со значением предыдущей модели.\n",
    "# Суть цикла с условием в нахождении самой точной модели классификации деревом решений\n",
    "best_accuracy = 0\n",
    "train_accuracy = []\n",
    "valid_accuracy = []\n",
    "for depth in range(1, 31):\n",
    "    model = DecisionTreeClassifier(random_state=RANDOM_STATE, max_depth=depth)\n",
    "    model.fit(features_train, target_train)\n",
    "    answers = model.predict(features_valid)\n",
    "    accuracy = accuracy_score(answers, target_valid)\n",
    "    train_accuracy.append(model.score(features_train, target_train))\n",
    "    valid_accuracy.append(accuracy)\n",
    "    if accuracy > best_accuracy:\n",
    "        best_accuracy = accuracy\n",
    "        best_depth = depth\n",
    "        # Переменная, в которой хранится лучшая модель\n",
    "        model_decision_tree_classifier = model"
   ]
  },
  {
   "cell_type": "code",
   "execution_count": 10,
   "metadata": {},
   "outputs": [
    {
     "data": {
      "image/png": "[encoded data removed]",
      "text/plain": [
       "<Figure size 640x480 with 1 Axes>"
      ]
     },
     "metadata": {},
     "output_type": "display_data"
    },
    {
     "name": "stdout",
     "output_type": "stream",
     "text": [
      "\n",
      "Наиболее точная модель классификации деревом решений с гиперпараметрами: глубина дерева = 8.\n",
      "Доля правильных ответов составляет: 0.807153965785381.\n",
      "\n"
     ]
    }
   ],
   "source": [
    "# Построим зависимость точности от глубины дерева\n",
    "fig, ax = plt.subplots()\n",
    "ax.plot(range(1, 31), train_accuracy, '-xg')\n",
    "ax.plot(range(1, 31), valid_accuracy, '-xk')\n",
    "ax.grid()\n",
    "plt.title('Зависимость доли правильных ответов от глубины дерева')\n",
    "plt.xlabel('Глубина дерева')\n",
    "plt.ylabel('Доля правильных ответов')\n",
    "ax.legend(['обучающая', 'валидационная'], title='Выборка')\n",
    "ax.set_facecolor('cyan')\n",
    "plt.annotate(\"Макс. значение на валид. выборке\", \n",
    "             xy=(8, 0.807153965785381), xytext=(15, 0.82),\n",
    "             arrowprops=dict(facecolor='green', shrink=0.05))\n",
    "plt.show()\n",
    "print(f'''\n",
    "Наиболее точная модель классификации деревом решений с гиперпараметрами: глубина дерева = {best_depth}.\n",
    "Доля правильных ответов составляет: {best_accuracy}.\n",
    "''')"
   ]
  },
  {
   "cell_type": "markdown",
   "metadata": {},
   "source": [
    "**Классификационная модель \"случайный лес\".**"
   ]
  },
  {
   "cell_type": "code",
   "execution_count": 11,
   "metadata": {
    "scrolled": true
   },
   "outputs": [
    {
     "name": "stdout",
     "output_type": "stream",
     "text": [
      "\n",
      "Наиболее точная классификационная модель \"случайный лес\" с гиперпараметрами:\n",
      "глубина дерева = 8, число деревьев = 8\n",
      "Доля правильных ответов составляет: 0.807153965785381.\n",
      "\n",
      "CPU times: total: 984 ms\n",
      "Wall time: 980 ms\n"
     ]
    }
   ],
   "source": [
    "%%time\n",
    "# Аналогично предыдущей модели, находим наиболее точную классификационную модель \"случайный лес\",\n",
    "# перебираем гиперпараметры: максимальная глубина дерева, макисмальное число деревьев.\n",
    "best_accuracy = 0\n",
    "for est in range(1, 11):\n",
    "    for depth in range(1, 11):\n",
    "        model = RandomForestClassifier(random_state=RANDOM_STATE, max_depth=depth, n_estimators=est)\n",
    "        model.fit(features_train, target_train)\n",
    "        accuracy = model.score(features_valid, target_valid)\n",
    "        if accuracy > best_accuracy:\n",
    "            best_accuracy = accuracy\n",
    "            best_depth = depth\n",
    "            best_estimators = est\n",
    "            model_random_forest_classifier = model\n",
    "print(f'''\n",
    "Наиболее точная классификационная модель \"случайный лес\" с гиперпараметрами:\n",
    "глубина дерева = {best_depth}, число деревьев = {best_estimators}\n",
    "Доля правильных ответов составляет: {best_accuracy}.\n",
    "''')"
   ]
  },
  {
   "cell_type": "markdown",
   "metadata": {},
   "source": [
    "**Модель логистической регрессии.**"
   ]
  },
  {
   "cell_type": "code",
   "execution_count": 12,
   "metadata": {},
   "outputs": [
    {
     "name": "stdout",
     "output_type": "stream",
     "text": [
      "Доля правильных ответов при обработке моделью логистической регрессии валидационной выборки составляет: 0.6967340590979783\n"
     ]
    }
   ],
   "source": [
    "model_logistic_regression = LogisticRegression(random_state=RANDOM_STATE)\n",
    "model_logistic_regression.fit(features_train, target_train)\n",
    "accuracy = model_logistic_regression.score(features_valid, target_valid)\n",
    "print(f'Доля правильных ответов при обработке моделью \\\n",
    "логистической регрессии валидационной выборки составляет: {accuracy}')"
   ]
  },
  {
   "cell_type": "markdown",
   "metadata": {},
   "source": [
    "Из трёх моделей точность больше у модели \"случайный лес\" и модели классификации деревом решений, но скорость работы первой модели ниже, так как она состоит из 8 деревеьв, в то время как скорость второй выше, так как решающее дерево одно.    \n",
    "Точность модели логистической регрессии наименьшая. По валидационной выборке модель верно примерно 70% целевых признаков.\n",
    "\n",
    "На тестовой выборке проверим модель \"случайный лес\" и модель классификации деревом решений."
   ]
  },
  {
   "cell_type": "markdown",
   "metadata": {},
   "source": [
    "## Тестирование модели"
   ]
  },
  {
   "cell_type": "code",
   "execution_count": 13,
   "metadata": {},
   "outputs": [
    {
     "data": {
      "text/plain": [
       "0.8164852255054432"
      ]
     },
     "execution_count": 13,
     "metadata": {},
     "output_type": "execute_result"
    }
   ],
   "source": [
    "model_random_forest_classifier.score(features_test, target_test)"
   ]
  },
  {
   "cell_type": "code",
   "execution_count": 14,
   "metadata": {},
   "outputs": [
    {
     "data": {
      "text/plain": [
       "0.7931570762052877"
      ]
     },
     "execution_count": 14,
     "metadata": {},
     "output_type": "execute_result"
    }
   ],
   "source": [
    "model_decision_tree_classifier.score(features_test, target_test)"
   ]
  },
  {
   "cell_type": "markdown",
   "metadata": {},
   "source": [
    "Процент правильных ответов на тестовой выборке модели \"случайный лес\" составляет почти 82%, модели классификации деревом решений - 79%. Модель RF работает точнее.  \n",
    "\n",
    "Рассчитаем дополнительные метрики качества модели RF на основании выявленных целевых признаков по тестовой выборке."
   ]
  },
  {
   "cell_type": "code",
   "execution_count": 15,
   "metadata": {},
   "outputs": [
    {
     "name": "stdout",
     "output_type": "stream",
     "text": [
      "Доля правильно предугаданных тарифов \"ультра\": 0.8;\n",
      "Полнота правильно предугаданных тарифов \"ультра\": 0.54;\n",
      "Среднее гармоническое между долей и полнотой правильно предугаданных тарифов \"ультра\": 0.64;\n",
      "Модель правильно угадала тариф \"смарт\" 419 раз, тариф \"ультра\" 106. Неверно угадала тариф \"смарт\" 91 раз, тариф \"ультра\" 27.\n"
     ]
    }
   ],
   "source": [
    "answers = model_random_forest_classifier.predict(features_test)\n",
    "print(f'Доля правильно предугаданных тарифов \"ультра\": {precision_score(target_test, answers):.2};')\n",
    "print(f'Полнота правильно предугаданных тарифов \"ультра\": {recall_score(target_test, answers):.2};')\n",
    "print(f'Среднее гармоническое между долей и полнотой правильно предугаданных тарифов \"ультра\": {f1_score(target_test, answers):.2};')\n",
    "c_m = confusion_matrix(target_test, answers)\n",
    "print(f'Модель правильно угадала тариф \"смарт\" {c_m[0][0]} раз, тариф \"ультра\" {c_m[1][1]}. \\\n",
    "Неверно угадала тариф \"смарт\" {c_m[1][0]} раз, тариф \"ультра\" {c_m[0][1]}.')"
   ]
  },
  {
   "cell_type": "markdown",
   "metadata": {},
   "source": [
    "## Проверка на адекватность"
   ]
  },
  {
   "cell_type": "markdown",
   "metadata": {},
   "source": [
    "Известно, что в датасете 2229 строк с тарифом \"смарт\" и 985 с тарифом \"ультра\".  \n",
    "Посчитаем значение метрики accuracy, если модель будет заполнять целевой признак наибольшим из исходного датасета."
   ]
  },
  {
   "cell_type": "code",
   "execution_count": 16,
   "metadata": {},
   "outputs": [
    {
     "data": {
      "text/plain": [
       "0.693528313627878"
      ]
     },
     "execution_count": 16,
     "metadata": {},
     "output_type": "execute_result"
    }
   ],
   "source": [
    "dummy_clf = DummyClassifier()\n",
    "dummy_clf.fit(features, target)\n",
    "predictions = dummy_clf.predict(features)\n",
    "dummy_clf.score(features, target)"
   ]
  },
  {
   "cell_type": "markdown",
   "metadata": {},
   "source": [
    "Если модель везде будет указывать тариф \"смарт\", то в ~69.4% случаев будет права. Значение accuracy у модели логической регрессии по валидационной выборке ~69.7%. Это говорит о её невменяемости. модели RF и DT более точные, соответственно адекватные."
   ]
  },
  {
   "cell_type": "markdown",
   "metadata": {},
   "source": [
    "## Общий вывод"
   ]
  },
  {
   "cell_type": "markdown",
   "metadata": {},
   "source": [
    "Обучены ML-модели:  \n",
    "- деревом решений;  \n",
    "- случайный лес;  \n",
    "- логистическая регрессия.  \n",
    "\n",
    "Для финального тестирования выбраны первые две модели, так как доля верных ответов одинаковая.  \n",
    "На финальных данных лучший результат показала модель RF. Также модель прошла проверку на адекватность."
   ]
  }
 ],
 "metadata": {
  "ExecuteTimeLog": [
   {
    "duration": 2190,
    "start_time": "2023-02-02T10:58:00.400Z"
   },
   {
    "duration": 112,
    "start_time": "2023-02-02T10:58:02.592Z"
   },
   {
    "duration": 18,
    "start_time": "2023-02-02T10:58:02.706Z"
   },
   {
    "duration": 38,
    "start_time": "2023-02-02T10:58:02.727Z"
   },
   {
    "duration": 18,
    "start_time": "2023-02-02T10:58:02.767Z"
   },
   {
    "duration": 35,
    "start_time": "2023-02-02T10:58:02.787Z"
   },
   {
    "duration": 85,
    "start_time": "2023-02-02T10:58:02.829Z"
   },
   {
    "duration": 3343,
    "start_time": "2023-02-02T10:58:02.916Z"
   },
   {
    "duration": 32,
    "start_time": "2023-02-02T10:58:06.263Z"
   },
   {
    "duration": 28,
    "start_time": "2023-02-02T10:58:06.298Z"
   },
   {
    "duration": 9,
    "start_time": "2023-02-02T10:58:06.328Z"
   },
   {
    "duration": 1623,
    "start_time": "2023-02-03T10:41:23.113Z"
   },
   {
    "duration": 196,
    "start_time": "2023-02-03T10:41:24.739Z"
   },
   {
    "duration": 20,
    "start_time": "2023-02-03T10:41:24.937Z"
   },
   {
    "duration": 36,
    "start_time": "2023-02-03T10:41:24.959Z"
   },
   {
    "duration": 47,
    "start_time": "2023-02-03T10:41:24.997Z"
   },
   {
    "duration": 26,
    "start_time": "2023-02-03T10:41:25.046Z"
   },
   {
    "duration": 41,
    "start_time": "2023-02-03T10:41:25.073Z"
   },
   {
    "duration": 571,
    "start_time": "2023-02-03T10:41:25.116Z"
   },
   {
    "duration": 518,
    "start_time": "2023-02-03T10:41:25.689Z"
   },
   {
    "duration": 1711,
    "start_time": "2023-02-03T10:41:26.209Z"
   },
   {
    "duration": 27,
    "start_time": "2023-02-03T10:41:27.922Z"
   },
   {
    "duration": 9,
    "start_time": "2023-02-03T10:41:27.951Z"
   },
   {
    "duration": 36,
    "start_time": "2023-02-03T10:41:27.963Z"
   },
   {
    "duration": 30,
    "start_time": "2023-02-03T10:41:28.002Z"
   },
   {
    "duration": 9092,
    "start_time": "2023-02-03T10:41:28.034Z"
   },
   {
    "duration": 10,
    "start_time": "2023-02-03T10:41:37.127Z"
   },
   {
    "duration": 532,
    "start_time": "2023-02-03T10:42:37.086Z"
   },
   {
    "duration": 1309,
    "start_time": "2023-02-03T10:42:49.666Z"
   },
   {
    "duration": 85,
    "start_time": "2023-02-03T10:42:50.977Z"
   },
   {
    "duration": 13,
    "start_time": "2023-02-03T10:42:51.063Z"
   },
   {
    "duration": 24,
    "start_time": "2023-02-03T10:42:51.078Z"
   },
   {
    "duration": 43,
    "start_time": "2023-02-03T10:42:51.103Z"
   },
   {
    "duration": 14,
    "start_time": "2023-02-03T10:42:51.147Z"
   },
   {
    "duration": 34,
    "start_time": "2023-02-03T10:42:51.163Z"
   },
   {
    "duration": 581,
    "start_time": "2023-02-03T10:42:51.199Z"
   },
   {
    "duration": 544,
    "start_time": "2023-02-03T10:42:51.782Z"
   },
   {
    "duration": 1710,
    "start_time": "2023-02-03T10:42:52.329Z"
   },
   {
    "duration": 20,
    "start_time": "2023-02-03T10:42:54.041Z"
   },
   {
    "duration": 26,
    "start_time": "2023-02-03T10:42:54.063Z"
   },
   {
    "duration": 37,
    "start_time": "2023-02-03T10:42:54.091Z"
   },
   {
    "duration": 34,
    "start_time": "2023-02-03T10:42:54.129Z"
   },
   {
    "duration": 9017,
    "start_time": "2023-02-03T10:42:54.165Z"
   },
   {
    "duration": 6,
    "start_time": "2023-02-03T10:43:03.183Z"
   },
   {
    "duration": 1346,
    "start_time": "2023-02-03T10:43:51.099Z"
   },
   {
    "duration": 643,
    "start_time": "2023-02-03T10:44:08.791Z"
   },
   {
    "duration": 521,
    "start_time": "2023-02-03T10:44:22.107Z"
   },
   {
    "duration": 520,
    "start_time": "2023-02-03T10:45:40.366Z"
   },
   {
    "duration": 553,
    "start_time": "2023-02-03T10:45:55.405Z"
   },
   {
    "duration": 467,
    "start_time": "2023-02-03T10:47:16.183Z"
   },
   {
    "duration": 562,
    "start_time": "2023-02-03T10:47:40.417Z"
   },
   {
    "duration": 1472,
    "start_time": "2023-02-03T10:47:47.844Z"
   },
   {
    "duration": 105,
    "start_time": "2023-02-03T10:47:49.320Z"
   },
   {
    "duration": 20,
    "start_time": "2023-02-03T10:47:49.427Z"
   },
   {
    "duration": 16,
    "start_time": "2023-02-03T10:47:49.450Z"
   },
   {
    "duration": 13,
    "start_time": "2023-02-03T10:47:49.468Z"
   },
   {
    "duration": 14,
    "start_time": "2023-02-03T10:47:49.483Z"
   },
   {
    "duration": 5,
    "start_time": "2023-02-03T10:47:49.499Z"
   },
   {
    "duration": 589,
    "start_time": "2023-02-03T10:47:49.506Z"
   },
   {
    "duration": 573,
    "start_time": "2023-02-03T10:47:50.097Z"
   },
   {
    "duration": 1768,
    "start_time": "2023-02-03T10:47:50.673Z"
   },
   {
    "duration": 21,
    "start_time": "2023-02-03T10:47:52.443Z"
   },
   {
    "duration": 9,
    "start_time": "2023-02-03T10:47:52.465Z"
   },
   {
    "duration": 12,
    "start_time": "2023-02-03T10:47:52.475Z"
   },
   {
    "duration": 20,
    "start_time": "2023-02-03T10:47:52.488Z"
   },
   {
    "duration": 9362,
    "start_time": "2023-02-03T10:47:52.510Z"
   },
   {
    "duration": 7,
    "start_time": "2023-02-03T10:48:01.874Z"
   },
   {
    "duration": 1589,
    "start_time": "2023-02-06T17:52:51.613Z"
   },
   {
    "duration": 124,
    "start_time": "2023-02-06T17:52:53.204Z"
   },
   {
    "duration": 16,
    "start_time": "2023-02-06T17:52:53.331Z"
   },
   {
    "duration": 11,
    "start_time": "2023-02-06T17:52:53.350Z"
   },
   {
    "duration": 13,
    "start_time": "2023-02-06T17:52:53.363Z"
   },
   {
    "duration": 11,
    "start_time": "2023-02-06T17:52:53.378Z"
   },
   {
    "duration": 4,
    "start_time": "2023-02-06T17:52:53.391Z"
   },
   {
    "duration": 591,
    "start_time": "2023-02-06T17:52:53.397Z"
   },
   {
    "duration": 556,
    "start_time": "2023-02-06T17:52:53.990Z"
   },
   {
    "duration": 1754,
    "start_time": "2023-02-06T17:52:54.549Z"
   },
   {
    "duration": 21,
    "start_time": "2023-02-06T17:52:56.305Z"
   },
   {
    "duration": 8,
    "start_time": "2023-02-06T17:52:56.337Z"
   },
   {
    "duration": 35,
    "start_time": "2023-02-06T17:52:56.347Z"
   },
   {
    "duration": 19,
    "start_time": "2023-02-06T17:52:56.383Z"
   }
  ],
  "kernelspec": {
   "display_name": "Python 3 (ipykernel)",
   "language": "python",
   "name": "python3"
  },
  "language_info": {
   "codemirror_mode": {
    "name": "ipython",
    "version": 3
   },
   "file_extension": ".py",
   "mimetype": "text/x-python",
   "name": "python",
   "nbconvert_exporter": "python",
   "pygments_lexer": "ipython3",
   "version": "3.10.9"
  },
  "toc": {
   "base_numbering": 1,
   "nav_menu": {},
   "number_sections": true,
   "sideBar": true,
   "skip_h1_title": true,
   "title_cell": "Table of Contents",
   "title_sidebar": "Contents",
   "toc_cell": false,
   "toc_position": {},
   "toc_section_display": true,
   "toc_window_display": false
  }
 },
 "nbformat": 4,
 "nbformat_minor": 2
}
