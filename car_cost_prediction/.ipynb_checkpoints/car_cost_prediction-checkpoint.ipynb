{
 "cells": [
  {
   "cell_type": "markdown",
   "metadata": {},
   "source": [
    "## Подготовка данных"
   ]
  },
  {
   "cell_type": "code",
   "execution_count": 2,
   "metadata": {},
   "outputs": [],
   "source": [
    "import pandas as pd\n",
    "\n",
    "import numpy as np\n",
    "\n",
    "from matplotlib import pyplot as plt\n",
    "\n",
    "from sklearn.metrics import mean_squared_error\n",
    "from sklearn.preprocessing import StandardScaler, OrdinalEncoder\n",
    "from sklearn.model_selection import train_test_split, RandomizedSearchCV\n",
    "from sklearn.dummy import DummyRegressor\n",
    "from sklearn.ensemble import RandomForestRegressor\n",
    "\n",
    "from catboost import CatBoostRegressor\n",
    "\n",
    "from lightgbm import LGBMRegressor\n",
    "\n",
    "import warnings"
   ]
  },
  {
   "cell_type": "code",
   "execution_count": 3,
   "metadata": {},
   "outputs": [],
   "source": [
    "warnings.filterwarnings('ignore')\n",
    "pd.set_option('display.max_columns', None)\n",
    "pd.set_option('display.max_rows', None)"
   ]
  },
  {
   "cell_type": "code",
   "execution_count": 4,
   "metadata": {},
   "outputs": [],
   "source": [
    "RANDOM_STATE = 123"
   ]
  },
  {
   "cell_type": "code",
   "execution_count": 6,
   "metadata": {
    "scrolled": false
   },
   "outputs": [
    {
     "data": {
      "text/html": [
       "<div>\n",
       "<style scoped>\n",
       "    .dataframe tbody tr th:only-of-type {\n",
       "        vertical-align: middle;\n",
       "    }\n",
       "\n",
       "    .dataframe tbody tr th {\n",
       "        vertical-align: top;\n",
       "    }\n",
       "\n",
       "    .dataframe thead th {\n",
       "        text-align: right;\n",
       "    }\n",
       "</style>\n",
       "<table border=\"1\" class=\"dataframe\">\n",
       "  <thead>\n",
       "    <tr style=\"text-align: right;\">\n",
       "      <th></th>\n",
       "      <th>DateCrawled</th>\n",
       "      <th>Price</th>\n",
       "      <th>VehicleType</th>\n",
       "      <th>RegistrationYear</th>\n",
       "      <th>Gearbox</th>\n",
       "      <th>Power</th>\n",
       "      <th>Model</th>\n",
       "      <th>Kilometer</th>\n",
       "      <th>RegistrationMonth</th>\n",
       "      <th>FuelType</th>\n",
       "      <th>Brand</th>\n",
       "      <th>Repaired</th>\n",
       "      <th>DateCreated</th>\n",
       "      <th>NumberOfPictures</th>\n",
       "      <th>PostalCode</th>\n",
       "      <th>LastSeen</th>\n",
       "    </tr>\n",
       "  </thead>\n",
       "  <tbody>\n",
       "    <tr>\n",
       "      <th>0</th>\n",
       "      <td>2016-03-24 11:52:17</td>\n",
       "      <td>480</td>\n",
       "      <td>NaN</td>\n",
       "      <td>1993</td>\n",
       "      <td>manual</td>\n",
       "      <td>0</td>\n",
       "      <td>golf</td>\n",
       "      <td>150000</td>\n",
       "      <td>0</td>\n",
       "      <td>petrol</td>\n",
       "      <td>volkswagen</td>\n",
       "      <td>NaN</td>\n",
       "      <td>2016-03-24 00:00:00</td>\n",
       "      <td>0</td>\n",
       "      <td>70435</td>\n",
       "      <td>2016-04-07 03:16:57</td>\n",
       "    </tr>\n",
       "    <tr>\n",
       "      <th>1</th>\n",
       "      <td>2016-03-24 10:58:45</td>\n",
       "      <td>18300</td>\n",
       "      <td>coupe</td>\n",
       "      <td>2011</td>\n",
       "      <td>manual</td>\n",
       "      <td>190</td>\n",
       "      <td>NaN</td>\n",
       "      <td>125000</td>\n",
       "      <td>5</td>\n",
       "      <td>gasoline</td>\n",
       "      <td>audi</td>\n",
       "      <td>yes</td>\n",
       "      <td>2016-03-24 00:00:00</td>\n",
       "      <td>0</td>\n",
       "      <td>66954</td>\n",
       "      <td>2016-04-07 01:46:50</td>\n",
       "    </tr>\n",
       "    <tr>\n",
       "      <th>2</th>\n",
       "      <td>2016-03-14 12:52:21</td>\n",
       "      <td>9800</td>\n",
       "      <td>suv</td>\n",
       "      <td>2004</td>\n",
       "      <td>auto</td>\n",
       "      <td>163</td>\n",
       "      <td>grand</td>\n",
       "      <td>125000</td>\n",
       "      <td>8</td>\n",
       "      <td>gasoline</td>\n",
       "      <td>jeep</td>\n",
       "      <td>NaN</td>\n",
       "      <td>2016-03-14 00:00:00</td>\n",
       "      <td>0</td>\n",
       "      <td>90480</td>\n",
       "      <td>2016-04-05 12:47:46</td>\n",
       "    </tr>\n",
       "    <tr>\n",
       "      <th>3</th>\n",
       "      <td>2016-03-17 16:54:04</td>\n",
       "      <td>1500</td>\n",
       "      <td>small</td>\n",
       "      <td>2001</td>\n",
       "      <td>manual</td>\n",
       "      <td>75</td>\n",
       "      <td>golf</td>\n",
       "      <td>150000</td>\n",
       "      <td>6</td>\n",
       "      <td>petrol</td>\n",
       "      <td>volkswagen</td>\n",
       "      <td>no</td>\n",
       "      <td>2016-03-17 00:00:00</td>\n",
       "      <td>0</td>\n",
       "      <td>91074</td>\n",
       "      <td>2016-03-17 17:40:17</td>\n",
       "    </tr>\n",
       "    <tr>\n",
       "      <th>4</th>\n",
       "      <td>2016-03-31 17:25:20</td>\n",
       "      <td>3600</td>\n",
       "      <td>small</td>\n",
       "      <td>2008</td>\n",
       "      <td>manual</td>\n",
       "      <td>69</td>\n",
       "      <td>fabia</td>\n",
       "      <td>90000</td>\n",
       "      <td>7</td>\n",
       "      <td>gasoline</td>\n",
       "      <td>skoda</td>\n",
       "      <td>no</td>\n",
       "      <td>2016-03-31 00:00:00</td>\n",
       "      <td>0</td>\n",
       "      <td>60437</td>\n",
       "      <td>2016-04-06 10:17:21</td>\n",
       "    </tr>\n",
       "    <tr>\n",
       "      <th>5</th>\n",
       "      <td>2016-04-04 17:36:23</td>\n",
       "      <td>650</td>\n",
       "      <td>sedan</td>\n",
       "      <td>1995</td>\n",
       "      <td>manual</td>\n",
       "      <td>102</td>\n",
       "      <td>3er</td>\n",
       "      <td>150000</td>\n",
       "      <td>10</td>\n",
       "      <td>petrol</td>\n",
       "      <td>bmw</td>\n",
       "      <td>yes</td>\n",
       "      <td>2016-04-04 00:00:00</td>\n",
       "      <td>0</td>\n",
       "      <td>33775</td>\n",
       "      <td>2016-04-06 19:17:07</td>\n",
       "    </tr>\n",
       "    <tr>\n",
       "      <th>6</th>\n",
       "      <td>2016-04-01 20:48:51</td>\n",
       "      <td>2200</td>\n",
       "      <td>convertible</td>\n",
       "      <td>2004</td>\n",
       "      <td>manual</td>\n",
       "      <td>109</td>\n",
       "      <td>2_reihe</td>\n",
       "      <td>150000</td>\n",
       "      <td>8</td>\n",
       "      <td>petrol</td>\n",
       "      <td>peugeot</td>\n",
       "      <td>no</td>\n",
       "      <td>2016-04-01 00:00:00</td>\n",
       "      <td>0</td>\n",
       "      <td>67112</td>\n",
       "      <td>2016-04-05 18:18:39</td>\n",
       "    </tr>\n",
       "    <tr>\n",
       "      <th>7</th>\n",
       "      <td>2016-03-21 18:54:38</td>\n",
       "      <td>0</td>\n",
       "      <td>sedan</td>\n",
       "      <td>1980</td>\n",
       "      <td>manual</td>\n",
       "      <td>50</td>\n",
       "      <td>other</td>\n",
       "      <td>40000</td>\n",
       "      <td>7</td>\n",
       "      <td>petrol</td>\n",
       "      <td>volkswagen</td>\n",
       "      <td>no</td>\n",
       "      <td>2016-03-21 00:00:00</td>\n",
       "      <td>0</td>\n",
       "      <td>19348</td>\n",
       "      <td>2016-03-25 16:47:58</td>\n",
       "    </tr>\n",
       "    <tr>\n",
       "      <th>8</th>\n",
       "      <td>2016-04-04 23:42:13</td>\n",
       "      <td>14500</td>\n",
       "      <td>bus</td>\n",
       "      <td>2014</td>\n",
       "      <td>manual</td>\n",
       "      <td>125</td>\n",
       "      <td>c_max</td>\n",
       "      <td>30000</td>\n",
       "      <td>8</td>\n",
       "      <td>petrol</td>\n",
       "      <td>ford</td>\n",
       "      <td>NaN</td>\n",
       "      <td>2016-04-04 00:00:00</td>\n",
       "      <td>0</td>\n",
       "      <td>94505</td>\n",
       "      <td>2016-04-04 23:42:13</td>\n",
       "    </tr>\n",
       "    <tr>\n",
       "      <th>9</th>\n",
       "      <td>2016-03-17 10:53:50</td>\n",
       "      <td>999</td>\n",
       "      <td>small</td>\n",
       "      <td>1998</td>\n",
       "      <td>manual</td>\n",
       "      <td>101</td>\n",
       "      <td>golf</td>\n",
       "      <td>150000</td>\n",
       "      <td>0</td>\n",
       "      <td>NaN</td>\n",
       "      <td>volkswagen</td>\n",
       "      <td>NaN</td>\n",
       "      <td>2016-03-17 00:00:00</td>\n",
       "      <td>0</td>\n",
       "      <td>27472</td>\n",
       "      <td>2016-03-31 17:17:06</td>\n",
       "    </tr>\n",
       "  </tbody>\n",
       "</table>\n",
       "</div>"
      ],
      "text/plain": [
       "           DateCrawled  Price  VehicleType  RegistrationYear Gearbox  Power  \\\n",
       "0  2016-03-24 11:52:17    480          NaN              1993  manual      0   \n",
       "1  2016-03-24 10:58:45  18300        coupe              2011  manual    190   \n",
       "2  2016-03-14 12:52:21   9800          suv              2004    auto    163   \n",
       "3  2016-03-17 16:54:04   1500        small              2001  manual     75   \n",
       "4  2016-03-31 17:25:20   3600        small              2008  manual     69   \n",
       "5  2016-04-04 17:36:23    650        sedan              1995  manual    102   \n",
       "6  2016-04-01 20:48:51   2200  convertible              2004  manual    109   \n",
       "7  2016-03-21 18:54:38      0        sedan              1980  manual     50   \n",
       "8  2016-04-04 23:42:13  14500          bus              2014  manual    125   \n",
       "9  2016-03-17 10:53:50    999        small              1998  manual    101   \n",
       "\n",
       "     Model  Kilometer  RegistrationMonth  FuelType       Brand Repaired  \\\n",
       "0     golf     150000                  0    petrol  volkswagen      NaN   \n",
       "1      NaN     125000                  5  gasoline        audi      yes   \n",
       "2    grand     125000                  8  gasoline        jeep      NaN   \n",
       "3     golf     150000                  6    petrol  volkswagen       no   \n",
       "4    fabia      90000                  7  gasoline       skoda       no   \n",
       "5      3er     150000                 10    petrol         bmw      yes   \n",
       "6  2_reihe     150000                  8    petrol     peugeot       no   \n",
       "7    other      40000                  7    petrol  volkswagen       no   \n",
       "8    c_max      30000                  8    petrol        ford      NaN   \n",
       "9     golf     150000                  0       NaN  volkswagen      NaN   \n",
       "\n",
       "           DateCreated  NumberOfPictures  PostalCode             LastSeen  \n",
       "0  2016-03-24 00:00:00                 0       70435  2016-04-07 03:16:57  \n",
       "1  2016-03-24 00:00:00                 0       66954  2016-04-07 01:46:50  \n",
       "2  2016-03-14 00:00:00                 0       90480  2016-04-05 12:47:46  \n",
       "3  2016-03-17 00:00:00                 0       91074  2016-03-17 17:40:17  \n",
       "4  2016-03-31 00:00:00                 0       60437  2016-04-06 10:17:21  \n",
       "5  2016-04-04 00:00:00                 0       33775  2016-04-06 19:17:07  \n",
       "6  2016-04-01 00:00:00                 0       67112  2016-04-05 18:18:39  \n",
       "7  2016-03-21 00:00:00                 0       19348  2016-03-25 16:47:58  \n",
       "8  2016-04-04 00:00:00                 0       94505  2016-04-04 23:42:13  \n",
       "9  2016-03-17 00:00:00                 0       27472  2016-03-31 17:17:06  "
      ]
     },
     "execution_count": 6,
     "metadata": {},
     "output_type": "execute_result"
    }
   ],
   "source": [
    "data.head(10)"
   ]
  },
  {
   "cell_type": "code",
   "execution_count": 7,
   "metadata": {},
   "outputs": [
    {
     "name": "stdout",
     "output_type": "stream",
     "text": [
      "<class 'pandas.core.frame.DataFrame'>\n",
      "RangeIndex: 354369 entries, 0 to 354368\n",
      "Data columns (total 16 columns):\n",
      " #   Column             Non-Null Count   Dtype \n",
      "---  ------             --------------   ----- \n",
      " 0   DateCrawled        354369 non-null  object\n",
      " 1   Price              354369 non-null  int64 \n",
      " 2   VehicleType        316879 non-null  object\n",
      " 3   RegistrationYear   354369 non-null  int64 \n",
      " 4   Gearbox            334536 non-null  object\n",
      " 5   Power              354369 non-null  int64 \n",
      " 6   Model              334664 non-null  object\n",
      " 7   Kilometer          354369 non-null  int64 \n",
      " 8   RegistrationMonth  354369 non-null  int64 \n",
      " 9   FuelType           321474 non-null  object\n",
      " 10  Brand              354369 non-null  object\n",
      " 11  Repaired           283215 non-null  object\n",
      " 12  DateCreated        354369 non-null  object\n",
      " 13  NumberOfPictures   354369 non-null  int64 \n",
      " 14  PostalCode         354369 non-null  int64 \n",
      " 15  LastSeen           354369 non-null  object\n",
      "dtypes: int64(7), object(9)\n",
      "memory usage: 43.3+ MB\n"
     ]
    }
   ],
   "source": [
    "data.info()"
   ]
  },
  {
   "cell_type": "code",
   "execution_count": 8,
   "metadata": {},
   "outputs": [
    {
     "data": {
      "text/plain": [
       "DateCrawled              0\n",
       "Price                    0\n",
       "VehicleType          37490\n",
       "RegistrationYear         0\n",
       "Gearbox              19833\n",
       "Power                    0\n",
       "Model                19705\n",
       "Kilometer                0\n",
       "RegistrationMonth        0\n",
       "FuelType             32895\n",
       "Brand                    0\n",
       "Repaired             71154\n",
       "DateCreated              0\n",
       "NumberOfPictures         0\n",
       "PostalCode               0\n",
       "LastSeen                 0\n",
       "dtype: int64"
      ]
     },
     "execution_count": 8,
     "metadata": {},
     "output_type": "execute_result"
    }
   ],
   "source": [
    "data.isna().sum()"
   ]
  },
  {
   "cell_type": "markdown",
   "metadata": {},
   "source": [
    "Пропуски есть в пяти столбцах.  \n",
    "Поменяем тип данных столбца `DateCreated` на datetime, так как он пригодится в предобработке столбца `RegistrationYear`"
   ]
  },
  {
   "cell_type": "code",
   "execution_count": 9,
   "metadata": {},
   "outputs": [],
   "source": [
    "data['DateCreated'] = pd.to_datetime(data['DateCreated'], \\\n",
    "                                     format='%Y-%m-%d')"
   ]
  },
  {
   "cell_type": "markdown",
   "metadata": {},
   "source": [
    "Переименуем столбцы."
   ]
  },
  {
   "cell_type": "code",
   "execution_count": 10,
   "metadata": {},
   "outputs": [],
   "source": [
    "data.columns = ['date_crawled', 'price', 'vehicle_type', 'registration_year', \\\n",
    "                'gearbox', 'power', 'model', 'kilometers', \\\n",
    "                'registration_month', 'fuel_type', 'brand', \\\n",
    "                'repaired', 'date_created', 'number_of_pictures', 'postal_code', 'last_seen']"
   ]
  },
  {
   "cell_type": "code",
   "execution_count": 11,
   "metadata": {},
   "outputs": [
    {
     "data": {
      "text/html": [
       "<div>\n",
       "<style scoped>\n",
       "    .dataframe tbody tr th:only-of-type {\n",
       "        vertical-align: middle;\n",
       "    }\n",
       "\n",
       "    .dataframe tbody tr th {\n",
       "        vertical-align: top;\n",
       "    }\n",
       "\n",
       "    .dataframe thead th {\n",
       "        text-align: right;\n",
       "    }\n",
       "</style>\n",
       "<table border=\"1\" class=\"dataframe\">\n",
       "  <thead>\n",
       "    <tr style=\"text-align: right;\">\n",
       "      <th></th>\n",
       "      <th>date_crawled</th>\n",
       "      <th>price</th>\n",
       "      <th>vehicle_type</th>\n",
       "      <th>registration_year</th>\n",
       "      <th>gearbox</th>\n",
       "      <th>power</th>\n",
       "      <th>model</th>\n",
       "      <th>kilometers</th>\n",
       "      <th>registration_month</th>\n",
       "      <th>fuel_type</th>\n",
       "      <th>brand</th>\n",
       "      <th>repaired</th>\n",
       "      <th>date_created</th>\n",
       "      <th>number_of_pictures</th>\n",
       "      <th>postal_code</th>\n",
       "      <th>last_seen</th>\n",
       "    </tr>\n",
       "  </thead>\n",
       "  <tbody>\n",
       "    <tr>\n",
       "      <th>0</th>\n",
       "      <td>2016-03-24 11:52:17</td>\n",
       "      <td>480</td>\n",
       "      <td>NaN</td>\n",
       "      <td>1993</td>\n",
       "      <td>manual</td>\n",
       "      <td>0</td>\n",
       "      <td>golf</td>\n",
       "      <td>150000</td>\n",
       "      <td>0</td>\n",
       "      <td>petrol</td>\n",
       "      <td>volkswagen</td>\n",
       "      <td>NaN</td>\n",
       "      <td>2016-03-24</td>\n",
       "      <td>0</td>\n",
       "      <td>70435</td>\n",
       "      <td>2016-04-07 03:16:57</td>\n",
       "    </tr>\n",
       "    <tr>\n",
       "      <th>1</th>\n",
       "      <td>2016-03-24 10:58:45</td>\n",
       "      <td>18300</td>\n",
       "      <td>coupe</td>\n",
       "      <td>2011</td>\n",
       "      <td>manual</td>\n",
       "      <td>190</td>\n",
       "      <td>NaN</td>\n",
       "      <td>125000</td>\n",
       "      <td>5</td>\n",
       "      <td>gasoline</td>\n",
       "      <td>audi</td>\n",
       "      <td>yes</td>\n",
       "      <td>2016-03-24</td>\n",
       "      <td>0</td>\n",
       "      <td>66954</td>\n",
       "      <td>2016-04-07 01:46:50</td>\n",
       "    </tr>\n",
       "    <tr>\n",
       "      <th>2</th>\n",
       "      <td>2016-03-14 12:52:21</td>\n",
       "      <td>9800</td>\n",
       "      <td>suv</td>\n",
       "      <td>2004</td>\n",
       "      <td>auto</td>\n",
       "      <td>163</td>\n",
       "      <td>grand</td>\n",
       "      <td>125000</td>\n",
       "      <td>8</td>\n",
       "      <td>gasoline</td>\n",
       "      <td>jeep</td>\n",
       "      <td>NaN</td>\n",
       "      <td>2016-03-14</td>\n",
       "      <td>0</td>\n",
       "      <td>90480</td>\n",
       "      <td>2016-04-05 12:47:46</td>\n",
       "    </tr>\n",
       "    <tr>\n",
       "      <th>3</th>\n",
       "      <td>2016-03-17 16:54:04</td>\n",
       "      <td>1500</td>\n",
       "      <td>small</td>\n",
       "      <td>2001</td>\n",
       "      <td>manual</td>\n",
       "      <td>75</td>\n",
       "      <td>golf</td>\n",
       "      <td>150000</td>\n",
       "      <td>6</td>\n",
       "      <td>petrol</td>\n",
       "      <td>volkswagen</td>\n",
       "      <td>no</td>\n",
       "      <td>2016-03-17</td>\n",
       "      <td>0</td>\n",
       "      <td>91074</td>\n",
       "      <td>2016-03-17 17:40:17</td>\n",
       "    </tr>\n",
       "    <tr>\n",
       "      <th>4</th>\n",
       "      <td>2016-03-31 17:25:20</td>\n",
       "      <td>3600</td>\n",
       "      <td>small</td>\n",
       "      <td>2008</td>\n",
       "      <td>manual</td>\n",
       "      <td>69</td>\n",
       "      <td>fabia</td>\n",
       "      <td>90000</td>\n",
       "      <td>7</td>\n",
       "      <td>gasoline</td>\n",
       "      <td>skoda</td>\n",
       "      <td>no</td>\n",
       "      <td>2016-03-31</td>\n",
       "      <td>0</td>\n",
       "      <td>60437</td>\n",
       "      <td>2016-04-06 10:17:21</td>\n",
       "    </tr>\n",
       "  </tbody>\n",
       "</table>\n",
       "</div>"
      ],
      "text/plain": [
       "          date_crawled  price vehicle_type  registration_year gearbox  power  \\\n",
       "0  2016-03-24 11:52:17    480          NaN               1993  manual      0   \n",
       "1  2016-03-24 10:58:45  18300        coupe               2011  manual    190   \n",
       "2  2016-03-14 12:52:21   9800          suv               2004    auto    163   \n",
       "3  2016-03-17 16:54:04   1500        small               2001  manual     75   \n",
       "4  2016-03-31 17:25:20   3600        small               2008  manual     69   \n",
       "\n",
       "   model  kilometers  registration_month fuel_type       brand repaired  \\\n",
       "0   golf      150000                   0    petrol  volkswagen      NaN   \n",
       "1    NaN      125000                   5  gasoline        audi      yes   \n",
       "2  grand      125000                   8  gasoline        jeep      NaN   \n",
       "3   golf      150000                   6    petrol  volkswagen       no   \n",
       "4  fabia       90000                   7  gasoline       skoda       no   \n",
       "\n",
       "  date_created  number_of_pictures  postal_code            last_seen  \n",
       "0   2016-03-24                   0        70435  2016-04-07 03:16:57  \n",
       "1   2016-03-24                   0        66954  2016-04-07 01:46:50  \n",
       "2   2016-03-14                   0        90480  2016-04-05 12:47:46  \n",
       "3   2016-03-17                   0        91074  2016-03-17 17:40:17  \n",
       "4   2016-03-31                   0        60437  2016-04-06 10:17:21  "
      ]
     },
     "execution_count": 11,
     "metadata": {},
     "output_type": "execute_result"
    }
   ],
   "source": [
    "data.head()"
   ]
  },
  {
   "cell_type": "markdown",
   "metadata": {},
   "source": [
    "### Предобработка данных"
   ]
  },
  {
   "cell_type": "markdown",
   "metadata": {},
   "source": [
    "#### Целевой признак - столбец `price`"
   ]
  },
  {
   "cell_type": "code",
   "execution_count": 12,
   "metadata": {},
   "outputs": [
    {
     "data": {
      "image/png": "[encoded data removed]",
      "text/plain": [
       "<Figure size 432x288 with 1 Axes>"
      ]
     },
     "metadata": {
      "needs_background": "light"
     },
     "output_type": "display_data"
    }
   ],
   "source": [
    "plot = data['price'].hist(bins=100)\n",
    "plot.set_title('Распределение автомобилей по цене')\n",
    "plot.set_xlabel('Цена автомобиля, евро')\n",
    "plot.set_ylabel('Количество автомобилей')\n",
    "plt.show()"
   ]
  },
  {
   "cell_type": "code",
   "execution_count": 13,
   "metadata": {},
   "outputs": [
    {
     "data": {
      "image/png": "[encoded data removed]",
      "text/plain": [
       "<Figure size 432x288 with 1 Axes>"
      ]
     },
     "metadata": {
      "needs_background": "light"
     },
     "output_type": "display_data"
    }
   ],
   "source": [
    "plot = data[data['price'] <= 1000]['price'].hist(bins=20)\n",
    "plot.set_title('Распределение автомобилей по цене до 1000 евро')\n",
    "plot.set_xlabel('Цена автомобиля, евро')\n",
    "plot.set_ylabel('Количество автомобилей')\n",
    "plt.show()"
   ]
  },
  {
   "cell_type": "markdown",
   "metadata": {},
   "source": [
    "Строки с ценой автомобиля ниже 100 евро удалим, так как это аномальные значения."
   ]
  },
  {
   "cell_type": "code",
   "execution_count": 14,
   "metadata": {},
   "outputs": [],
   "source": [
    "data = data.query('price >= 100')"
   ]
  },
  {
   "cell_type": "markdown",
   "metadata": {},
   "source": [
    "#### Тип кузова - столбец `vehicle_type`"
   ]
  },
  {
   "cell_type": "code",
   "execution_count": 15,
   "metadata": {},
   "outputs": [
    {
     "data": {
      "text/plain": [
       "array([nan, 'coupe', 'suv', 'small', 'sedan', 'convertible', 'bus',\n",
       "       'wagon', 'other'], dtype=object)"
      ]
     },
     "execution_count": 15,
     "metadata": {},
     "output_type": "execute_result"
    }
   ],
   "source": [
    "data['vehicle_type'].unique()"
   ]
  },
  {
   "cell_type": "markdown",
   "metadata": {},
   "source": [
    "Среди уникальных значений есть тип кузова `other` - другой. Но заполнять пропуски этим типом нельзя, так как вместо пропуска может быть любой тип кузова. Поэтому пропуски заполним заглушкой 'unknown'."
   ]
  },
  {
   "cell_type": "code",
   "execution_count": 16,
   "metadata": {},
   "outputs": [],
   "source": [
    "data['vehicle_type'] = data['vehicle_type'].fillna('unknown')"
   ]
  },
  {
   "cell_type": "markdown",
   "metadata": {},
   "source": [
    "#### Год регистрации автомобиля - столбец `registration_year`"
   ]
  },
  {
   "cell_type": "markdown",
   "metadata": {},
   "source": [
    "Посмотрим, как распределяются объявления о машинах по году регистрации."
   ]
  },
  {
   "cell_type": "code",
   "execution_count": 17,
   "metadata": {
    "scrolled": true
   },
   "outputs": [
    {
     "data": {
      "text/plain": [
       "1000       22\n",
       "1001        1\n",
       "1039        1\n",
       "1111        1\n",
       "1234        4\n",
       "1255        1\n",
       "1300        2\n",
       "1400        1\n",
       "1500        3\n",
       "1600        2\n",
       "1602        1\n",
       "1800        4\n",
       "1910       34\n",
       "1923        2\n",
       "1925        1\n",
       "1927        1\n",
       "1928        2\n",
       "1929        6\n",
       "1930        2\n",
       "1931        1\n",
       "1932        3\n",
       "1933        2\n",
       "1934        2\n",
       "1935        3\n",
       "1936        3\n",
       "1937       10\n",
       "1938        8\n",
       "1940        2\n",
       "1941        2\n",
       "1942        2\n",
       "1943        4\n",
       "1944        2\n",
       "1945        4\n",
       "1946        1\n",
       "1947        2\n",
       "1948        2\n",
       "1949        1\n",
       "1950       14\n",
       "1951       10\n",
       "1952        8\n",
       "1953       14\n",
       "1954        9\n",
       "1955       13\n",
       "1956       25\n",
       "1957       13\n",
       "1958       20\n",
       "1959       29\n",
       "1960      120\n",
       "1961       36\n",
       "1962       39\n",
       "1963       55\n",
       "1964       60\n",
       "1965       80\n",
       "1966      110\n",
       "1967       94\n",
       "1968      105\n",
       "1969      117\n",
       "1970      258\n",
       "1971      159\n",
       "1972      209\n",
       "1973      163\n",
       "1974      167\n",
       "1975      136\n",
       "1976      153\n",
       "1977      167\n",
       "1978      272\n",
       "1979      265\n",
       "1980      461\n",
       "1981      248\n",
       "1982      299\n",
       "1983      400\n",
       "1984      382\n",
       "1985      645\n",
       "1986      493\n",
       "1987      624\n",
       "1988      892\n",
       "1989     1222\n",
       "1990     2378\n",
       "1991     2586\n",
       "1992     2825\n",
       "1993     3207\n",
       "1994     4562\n",
       "1995     8706\n",
       "1996    10253\n",
       "1997    13848\n",
       "1998    17027\n",
       "1999    21846\n",
       "2000    22661\n",
       "2001    19574\n",
       "2002    18674\n",
       "2003    19453\n",
       "2004    19303\n",
       "2005    21363\n",
       "2006    19641\n",
       "2007    16976\n",
       "2008    15221\n",
       "2009    14372\n",
       "2010    10657\n",
       "2011     9814\n",
       "2012     7105\n",
       "2013     4078\n",
       "2014     2494\n",
       "2015     1166\n",
       "2016     8847\n",
       "2017     9834\n",
       "2018     3766\n",
       "2019       15\n",
       "2066        1\n",
       "2200        1\n",
       "2222        1\n",
       "2290        1\n",
       "2500        2\n",
       "2800        1\n",
       "2900        1\n",
       "3000        4\n",
       "3200        1\n",
       "3700        1\n",
       "3800        1\n",
       "4000        3\n",
       "4100        1\n",
       "4500        2\n",
       "4800        1\n",
       "5000       13\n",
       "5300        1\n",
       "5555        2\n",
       "5600        1\n",
       "5900        1\n",
       "5911        2\n",
       "6000        5\n",
       "7000        4\n",
       "7100        1\n",
       "7800        1\n",
       "8200        1\n",
       "8500        1\n",
       "8888        1\n",
       "9000        2\n",
       "9450        1\n",
       "9999       13\n",
       "Name: registration_year, dtype: int64"
      ]
     },
     "execution_count": 17,
     "metadata": {},
     "output_type": "execute_result"
    }
   ],
   "source": [
    "data['registration_year'].value_counts().sort_index()"
   ]
  },
  {
   "cell_type": "code",
   "execution_count": 18,
   "metadata": {},
   "outputs": [
    {
     "data": {
      "text/plain": [
       "Timestamp('2016-04-07 00:00:00')"
      ]
     },
     "execution_count": 18,
     "metadata": {},
     "output_type": "execute_result"
    }
   ],
   "source": [
    "data['date_created'].max()"
   ]
  },
  {
   "cell_type": "markdown",
   "metadata": {},
   "source": [
    "Есть аномальные значения, а также слишком старые года. По столбцу с датой публикации объявления видно, что последние объявления за 7 апреля 2016 год.  \n",
    "Возьмём данные с 1989 по 2016 год, с условием, что год и месяц регистрации не позднее года и месяца публикации объявления."
   ]
  },
  {
   "cell_type": "code",
   "execution_count": 19,
   "metadata": {},
   "outputs": [],
   "source": [
    "data['year_created'] = pd.DatetimeIndex(data['date_created']).year\n",
    "data['month_created'] = pd.DatetimeIndex(data['date_created']).month\n",
    "data = data.query('(1989 <= registration_year < year_created) or \\\n",
    "                   (registration_year == year_created and registration_month <= month_created)')"
   ]
  },
  {
   "cell_type": "markdown",
   "metadata": {},
   "source": [
    "На этом шаге уберём лишние столбцы из датасета."
   ]
  },
  {
   "cell_type": "code",
   "execution_count": 20,
   "metadata": {},
   "outputs": [],
   "source": [
    "data = data.drop(['date_crawled', 'date_created', 'last_seen', 'number_of_pictures', \\\n",
    "                  'year_created', 'month_created', 'registration_month'], axis=1)"
   ]
  },
  {
   "cell_type": "markdown",
   "metadata": {},
   "source": [
    "#### Коробка передачи - столбец `gearbox`"
   ]
  },
  {
   "cell_type": "code",
   "execution_count": 21,
   "metadata": {},
   "outputs": [
    {
     "data": {
      "text/plain": [
       "array(['manual', 'auto', nan], dtype=object)"
      ]
     },
     "execution_count": 21,
     "metadata": {},
     "output_type": "execute_result"
    }
   ],
   "source": [
    "data['gearbox'].unique()"
   ]
  },
  {
   "cell_type": "markdown",
   "metadata": {},
   "source": [
    "Пропуски заполним заглушкой 'unknown'."
   ]
  },
  {
   "cell_type": "code",
   "execution_count": 22,
   "metadata": {},
   "outputs": [],
   "source": [
    "data['gearbox'] = data['gearbox'].fillna('unknown')"
   ]
  },
  {
   "cell_type": "markdown",
   "metadata": {},
   "source": [
    "#### Мощность - столбец `power`"
   ]
  },
  {
   "cell_type": "code",
   "execution_count": 23,
   "metadata": {},
   "outputs": [
    {
     "data": {
      "text/plain": [
       "0        28786\n",
       "1           19\n",
       "2            8\n",
       "3            7\n",
       "4           30\n",
       "5           98\n",
       "6           10\n",
       "7           10\n",
       "8            6\n",
       "9            3\n",
       "10           7\n",
       "11          25\n",
       "12          10\n",
       "13           3\n",
       "14           9\n",
       "15          12\n",
       "16           5\n",
       "17           6\n",
       "18           5\n",
       "19           6\n",
       "20          10\n",
       "21           1\n",
       "22           1\n",
       "23           4\n",
       "24          10\n",
       "25           9\n",
       "26          76\n",
       "27          10\n",
       "28           1\n",
       "29           6\n",
       "30           9\n",
       "31           6\n",
       "32           2\n",
       "33          41\n",
       "34          17\n",
       "35           4\n",
       "36           3\n",
       "37          37\n",
       "38           4\n",
       "39          95\n",
       "40         253\n",
       "41         414\n",
       "42          40\n",
       "43          96\n",
       "44         280\n",
       "45        2538\n",
       "46          42\n",
       "47          26\n",
       "48          58\n",
       "49          14\n",
       "50        3893\n",
       "51          83\n",
       "52         273\n",
       "53         175\n",
       "54        5141\n",
       "55        1712\n",
       "56         237\n",
       "57         103\n",
       "58        3572\n",
       "59         208\n",
       "60       14136\n",
       "61         954\n",
       "62          84\n",
       "63         367\n",
       "64        1424\n",
       "65        1964\n",
       "66         155\n",
       "67         411\n",
       "68        2637\n",
       "69        3401\n",
       "70         828\n",
       "71        1364\n",
       "72         300\n",
       "73         709\n",
       "74         332\n",
       "75       21256\n",
       "76         227\n",
       "77         830\n",
       "78         180\n",
       "79         124\n",
       "80        3748\n",
       "81         109\n",
       "82        2163\n",
       "83         347\n",
       "84         906\n",
       "85         479\n",
       "86        2540\n",
       "87         738\n",
       "88        1343\n",
       "89          94\n",
       "90       11137\n",
       "91         112\n",
       "92         424\n",
       "93          26\n",
       "94         369\n",
       "95        2731\n",
       "96         114\n",
       "97         498\n",
       "98         926\n",
       "99         577\n",
       "100       1249\n",
       "101      12127\n",
       "102       5985\n",
       "103        873\n",
       "104        120\n",
       "105       9663\n",
       "106        379\n",
       "107       1207\n",
       "108        143\n",
       "109       4488\n",
       "110       4329\n",
       "111        502\n",
       "112        144\n",
       "113        848\n",
       "114        846\n",
       "115       2779\n",
       "116      11142\n",
       "117        196\n",
       "118       1118\n",
       "119         44\n",
       "120       3593\n",
       "121        346\n",
       "122       4849\n",
       "123         28\n",
       "124        206\n",
       "125       6291\n",
       "126        490\n",
       "127         24\n",
       "128        382\n",
       "129       1356\n",
       "130        752\n",
       "131       4857\n",
       "132        366\n",
       "133        595\n",
       "134         54\n",
       "135        798\n",
       "136       6161\n",
       "137         64\n",
       "138         43\n",
       "139        262\n",
       "140      12149\n",
       "141        689\n",
       "142         73\n",
       "143       5100\n",
       "144        646\n",
       "145        960\n",
       "146        124\n",
       "147       1101\n",
       "148         77\n",
       "149         57\n",
       "150      13482\n",
       "151        211\n",
       "152         97\n",
       "153          6\n",
       "154         59\n",
       "155        918\n",
       "156        773\n",
       "157         19\n",
       "158        187\n",
       "159         11\n",
       "160       2202\n",
       "161         29\n",
       "162         40\n",
       "163       5818\n",
       "164         52\n",
       "165        821\n",
       "166        226\n",
       "167         96\n",
       "168         28\n",
       "169        101\n",
       "170       9536\n",
       "171         86\n",
       "172         28\n",
       "173        192\n",
       "174       1202\n",
       "175        333\n",
       "176         47\n",
       "177       3258\n",
       "178         89\n",
       "179       2028\n",
       "180        594\n",
       "181         24\n",
       "182         86\n",
       "183         21\n",
       "184       1558\n",
       "185        463\n",
       "186         46\n",
       "187         11\n",
       "188         72\n",
       "189         37\n",
       "190       1297\n",
       "191         20\n",
       "192       1460\n",
       "193       2433\n",
       "194        141\n",
       "195         32\n",
       "196         69\n",
       "197       1091\n",
       "198         35\n",
       "199         39\n",
       "200       1836\n",
       "201         87\n",
       "202          5\n",
       "203        107\n",
       "204       1650\n",
       "205        159\n",
       "206          8\n",
       "207        191\n",
       "208         41\n",
       "209        162\n",
       "210         69\n",
       "211        882\n",
       "212         43\n",
       "213         36\n",
       "214         11\n",
       "215         60\n",
       "216         12\n",
       "217         11\n",
       "218       2137\n",
       "219         12\n",
       "220        609\n",
       "221          3\n",
       "222         22\n",
       "223         41\n",
       "224       1948\n",
       "225        117\n",
       "226        169\n",
       "227         11\n",
       "228         34\n",
       "229          3\n",
       "230        325\n",
       "231       1909\n",
       "232        689\n",
       "233         56\n",
       "234         39\n",
       "235        619\n",
       "236         10\n",
       "237         25\n",
       "238         98\n",
       "239        608\n",
       "240         90\n",
       "241        258\n",
       "242         10\n",
       "243         19\n",
       "244          2\n",
       "245        345\n",
       "246          7\n",
       "247         17\n",
       "248          1\n",
       "249         34\n",
       "250        702\n",
       "251          2\n",
       "252         62\n",
       "253         12\n",
       "254         23\n",
       "255          7\n",
       "256        151\n",
       "257          4\n",
       "258        176\n",
       "259          4\n",
       "260        220\n",
       "261          4\n",
       "262          7\n",
       "264         35\n",
       "265        418\n",
       "266          8\n",
       "267          2\n",
       "268         11\n",
       "269         10\n",
       "270         33\n",
       "271         35\n",
       "272        721\n",
       "273         20\n",
       "274          7\n",
       "275         85\n",
       "276         18\n",
       "277          9\n",
       "278         12\n",
       "279        189\n",
       "280        228\n",
       "281          7\n",
       "282          1\n",
       "283          7\n",
       "284         31\n",
       "285         14\n",
       "286        547\n",
       "287          6\n",
       "288          4\n",
       "289          7\n",
       "290         56\n",
       "292         59\n",
       "293          2\n",
       "294          2\n",
       "295          3\n",
       "296          3\n",
       "297          1\n",
       "298         18\n",
       "299        176\n",
       "300        170\n",
       "301          9\n",
       "303         11\n",
       "304          5\n",
       "305         71\n",
       "306        647\n",
       "307          3\n",
       "308          2\n",
       "309         13\n",
       "310         77\n",
       "311         11\n",
       "313        100\n",
       "314         14\n",
       "315         20\n",
       "316          2\n",
       "317          1\n",
       "318          6\n",
       "320         93\n",
       "321         14\n",
       "322         11\n",
       "324          4\n",
       "325         24\n",
       "326        139\n",
       "328          6\n",
       "329         24\n",
       "330         38\n",
       "331          1\n",
       "332          1\n",
       "333        168\n",
       "334         83\n",
       "335          9\n",
       "336          2\n",
       "337          1\n",
       "338          4\n",
       "339          1\n",
       "340        204\n",
       "341          4\n",
       "343         46\n",
       "344        103\n",
       "345         34\n",
       "346          3\n",
       "347         29\n",
       "348          2\n",
       "349         58\n",
       "350         23\n",
       "352          3\n",
       "353          1\n",
       "354         63\n",
       "355         12\n",
       "356          1\n",
       "357          1\n",
       "358          2\n",
       "360         37\n",
       "361          1\n",
       "362          3\n",
       "363         14\n",
       "364          3\n",
       "365          3\n",
       "367         75\n",
       "368          2\n",
       "370          5\n",
       "371          2\n",
       "374          3\n",
       "376          2\n",
       "377          1\n",
       "379          5\n",
       "380          7\n",
       "381          6\n",
       "382          2\n",
       "385         12\n",
       "386          4\n",
       "387         54\n",
       "388          6\n",
       "390          9\n",
       "392          2\n",
       "394         15\n",
       "396          8\n",
       "398          1\n",
       "399          4\n",
       "400         45\n",
       "401          4\n",
       "405          5\n",
       "408          9\n",
       "409          1\n",
       "411          2\n",
       "416          1\n",
       "420         22\n",
       "421          1\n",
       "426          2\n",
       "428          1\n",
       "430          4\n",
       "431          4\n",
       "435         34\n",
       "440          2\n",
       "442          1\n",
       "445         11\n",
       "449          1\n",
       "450         82\n",
       "454          1\n",
       "457          1\n",
       "459          1\n",
       "460          1\n",
       "475          1\n",
       "476         31\n",
       "487          2\n",
       "489          1\n",
       "490          1\n",
       "500         33\n",
       "504          2\n",
       "505          1\n",
       "507         10\n",
       "508          1\n",
       "510          4\n",
       "514          4\n",
       "515          3\n",
       "517          2\n",
       "519          1\n",
       "520          2\n",
       "521          5\n",
       "525          1\n",
       "540          1\n",
       "541          1\n",
       "544          1\n",
       "550          2\n",
       "551          2\n",
       "553          1\n",
       "560          1\n",
       "572          1\n",
       "579          3\n",
       "580          1\n",
       "584          1\n",
       "585          2\n",
       "600          8\n",
       "601          3\n",
       "602          1\n",
       "603          5\n",
       "604          1\n",
       "606          2\n",
       "610          1\n",
       "612          1\n",
       "620          2\n",
       "640          1\n",
       "650          2\n",
       "651          1\n",
       "671          1\n",
       "682          1\n",
       "685          1\n",
       "696          1\n",
       "700          1\n",
       "702          1\n",
       "703          1\n",
       "732          1\n",
       "743          1\n",
       "750          2\n",
       "751          1\n",
       "754          1\n",
       "771          1\n",
       "776          1\n",
       "800          2\n",
       "805          1\n",
       "850          1\n",
       "851          1\n",
       "871          1\n",
       "900          3\n",
       "902          1\n",
       "903          1\n",
       "907          1\n",
       "909          1\n",
       "950          3\n",
       "952          1\n",
       "953          1\n",
       "998          1\n",
       "999          3\n",
       "1000         2\n",
       "1001         6\n",
       "1002         1\n",
       "1003         2\n",
       "1004         1\n",
       "1005         1\n",
       "1011         3\n",
       "1012         1\n",
       "1016         2\n",
       "1017         1\n",
       "1021         2\n",
       "1024         1\n",
       "1054         1\n",
       "1055         1\n",
       "1056         1\n",
       "1062         1\n",
       "1079         1\n",
       "1082         1\n",
       "1090         1\n",
       "1100         1\n",
       "1103         2\n",
       "1105         1\n",
       "1115         1\n",
       "1120         1\n",
       "1149         1\n",
       "1151         1\n",
       "1158         1\n",
       "1160         1\n",
       "1162         1\n",
       "1164         1\n",
       "1199         1\n",
       "1200         1\n",
       "1202         1\n",
       "1221         1\n",
       "1223         1\n",
       "1230         1\n",
       "1239         1\n",
       "1240         1\n",
       "1241         1\n",
       "1250         2\n",
       "1256         1\n",
       "1275         1\n",
       "1288         1\n",
       "1299         1\n",
       "1312         1\n",
       "1317         1\n",
       "1339         1\n",
       "1360         1\n",
       "1362         1\n",
       "1363         2\n",
       "1367         1\n",
       "1390         2\n",
       "1398         1\n",
       "1399         2\n",
       "1400         5\n",
       "1401         1\n",
       "1403         2\n",
       "1405         1\n",
       "1416         1\n",
       "1432         1\n",
       "1433         1\n",
       "1436         1\n",
       "1500         4\n",
       "1501         1\n",
       "1502         1\n",
       "1503         2\n",
       "1506         1\n",
       "1521         1\n",
       "1548         1\n",
       "1595         2\n",
       "1596         1\n",
       "1597         1\n",
       "1598         7\n",
       "1600         3\n",
       "1625         1\n",
       "1631         1\n",
       "1653         1\n",
       "1689         1\n",
       "1700         1\n",
       "1701         1\n",
       "1703         1\n",
       "1704         1\n",
       "1707         1\n",
       "1753         2\n",
       "1771         1\n",
       "1779         2\n",
       "1780         1\n",
       "1781         2\n",
       "1783         1\n",
       "1793         1\n",
       "1796         1\n",
       "1799         1\n",
       "1800         6\n",
       "1801         1\n",
       "1870         1\n",
       "1895         1\n",
       "1896         1\n",
       "1900         2\n",
       "1920         1\n",
       "1922         1\n",
       "1933         1\n",
       "1937         1\n",
       "1968         1\n",
       "1988         1\n",
       "1992         1\n",
       "1993         1\n",
       "1995         2\n",
       "1998         2\n",
       "1999         1\n",
       "2000         2\n",
       "2004         1\n",
       "2005         1\n",
       "2007         1\n",
       "2009         1\n",
       "2016         1\n",
       "2017         2\n",
       "2018         2\n",
       "2172         1\n",
       "2331         1\n",
       "2340         1\n",
       "2389         1\n",
       "2402         1\n",
       "2461         1\n",
       "2598         1\n",
       "2729         1\n",
       "2789         1\n",
       "2792         1\n",
       "2799         1\n",
       "3199         1\n",
       "3454         1\n",
       "3500         2\n",
       "3750         1\n",
       "4400         1\n",
       "4507         1\n",
       "4700         2\n",
       "5411         1\n",
       "5420         1\n",
       "5575         1\n",
       "5809         1\n",
       "5815         1\n",
       "5867         1\n",
       "6006         1\n",
       "6010         1\n",
       "6012         1\n",
       "6045         1\n",
       "6062         1\n",
       "6226         1\n",
       "6512         1\n",
       "6920         1\n",
       "7508         1\n",
       "7511         2\n",
       "7512         1\n",
       "7515         1\n",
       "7518         1\n",
       "7529         1\n",
       "7544         1\n",
       "8259         1\n",
       "8404         1\n",
       "8500         1\n",
       "9007         1\n",
       "9012         1\n",
       "9013         1\n",
       "10000        1\n",
       "10110        1\n",
       "10218        1\n",
       "10520        1\n",
       "10522        2\n",
       "10710        1\n",
       "10910        1\n",
       "10912        1\n",
       "11011        1\n",
       "11025        1\n",
       "11111        1\n",
       "11509        1\n",
       "11530        1\n",
       "11635        1\n",
       "12012        1\n",
       "12510        2\n",
       "12512        2\n",
       "12684        1\n",
       "13636        1\n",
       "14009        1\n",
       "15001        1\n",
       "15017        1\n",
       "15020        1\n",
       "15033        1\n",
       "16311        1\n",
       "16312        1\n",
       "17011        1\n",
       "17019        1\n",
       "17410        1\n",
       "17700        1\n",
       "17932        1\n",
       "19208        1\n",
       "19211        1\n",
       "19312        1\n",
       "20000        1\n",
       "Name: power, dtype: int64"
      ]
     },
     "execution_count": 23,
     "metadata": {},
     "output_type": "execute_result"
    }
   ],
   "source": [
    "data['power'].value_counts().sort_index()"
   ]
  },
  {
   "cell_type": "markdown",
   "metadata": {},
   "source": [
    "Оставим мощность в пределах от 15 до 600 л. с. Остальные данные будем считать аномальными."
   ]
  },
  {
   "cell_type": "code",
   "execution_count": 24,
   "metadata": {},
   "outputs": [],
   "source": [
    "data = data.query('15 <= power <= 600')"
   ]
  },
  {
   "cell_type": "markdown",
   "metadata": {},
   "source": [
    "#### Модель автомобиля - столбец `model`"
   ]
  },
  {
   "cell_type": "code",
   "execution_count": 25,
   "metadata": {
    "scrolled": true
   },
   "outputs": [
    {
     "data": {
      "text/plain": [
       "array([nan, 'grand', 'golf', 'fabia', '3er', '2_reihe', 'c_max',\n",
       "       '3_reihe', 'passat', 'navara', 'polo', 'twingo', 'a_klasse',\n",
       "       'scirocco', '5er', 'arosa', 'other', 'civic', 'punto', 'e_klasse',\n",
       "       'kadett', 'one', 'fortwo', 'clio', '1er', 'b_klasse', 'a8',\n",
       "       'jetta', 'fiesta', 'c_klasse', 'micra', 'vito', 'sprinter',\n",
       "       'astra', '156', 'escort', 'forester', 'xc_reihe', 'scenic', 'ka',\n",
       "       'a1', 'transporter', 'focus', 'a4', 'tt', 'a6', 'jazz', 'omega',\n",
       "       'slk', '7er', 'combo', 'corsa', '80', '147', 'z_reihe', 'sorento',\n",
       "       'ibiza', 'mustang', 'eos', 'touran', 'getz', 'insignia', 'megane',\n",
       "       'a3', 'lupo', 'r19', 'mondeo', 'cordoba', 'colt', 'impreza',\n",
       "       'vectra', 'berlingo', 'tiguan', '6_reihe', 'c4', 'panda', 'up',\n",
       "       'i_reihe', 'ceed', 'kangoo', '5_reihe', 'yeti', 'octavia',\n",
       "       'zafira', 'mii', 'rx_reihe', 'modus', 'fox', 'matiz', 'beetle',\n",
       "       'rio', 'touareg', 'logan', 'caddy', 'spider', 'cuore', 's_max',\n",
       "       'a2', 'galaxy', 'c3', 'viano', 's_klasse', '1_reihe', 'sharan',\n",
       "       'avensis', 'roomster', 'santa', 'leon', 'cooper', '4_reihe', 'a5',\n",
       "       'sportage', 'laguna', 'ptcruiser', 'clk', 'primera', 'espace',\n",
       "       'exeo', '159', 'transit', 'juke', 'x_reihe', 'v40', 'carisma',\n",
       "       'accord', 'corolla', 'lanos', 'phaeton', 'verso', 'swift', 'rav',\n",
       "       'qashqai', 'picanto', 'boxster', 'superb', 'stilo', 'alhambra',\n",
       "       'roadster', 'ypsilon', 'galant', 'justy', '90', 'sirion', 'signum',\n",
       "       'crossfire', 'agila', 'duster', 'v50', 'mx_reihe', 'meriva',\n",
       "       'c_reihe', 'v_klasse', 'm_klasse', 'yaris', 'c5', 'aygo', 'almera',\n",
       "       'seicento', 'cc', 'fusion', '911', 'bora', 'forfour', 'cl',\n",
       "       'tigra', '300c', '500', '100', 'cr_reihe', 'spark', 'kuga',\n",
       "       'x_type', 'ducato', 's_type', 'x_trail', 'toledo', 'altea',\n",
       "       'voyager', 'calibra', 'carnival', 'v70', 'bravo', 'tucson', 'c1',\n",
       "       'citigo', 'jimny', 'cayenne', 'wrangler', 'lybra', 'lancer',\n",
       "       'captiva', 'sl', 'discovery', 'freelander', 'sandero', 'q7',\n",
       "       'note', 'antara', '900', 'cherokee', 'clubman', 'cx_reihe',\n",
       "       'legacy', 'pajero', 'auris', 'c2', 'niva', 's60', 'm_reihe',\n",
       "       'nubira', 'vivaro', 'g_klasse', 'lodgy', 'range_rover', '850',\n",
       "       'q3', 'glk', 'charade', 'croma', 'outlander', 'kaefer', 'doblo',\n",
       "       'musa', '9000', 'kalos', 'v60', '6er', '145', '601', 'defender',\n",
       "       'b_max', 'range_rover_sport', 'aveo', 'move', 'rangerover', 'q5',\n",
       "       'range_rover_evoque', 'materia', 'delta', 'terios', 'gl', 'kalina',\n",
       "       'elefantino', '200', 'i3', 'samara', 'amarok', 'kappa'],\n",
       "      dtype=object)"
      ]
     },
     "execution_count": 25,
     "metadata": {},
     "output_type": "execute_result"
    }
   ],
   "source": [
    "data['model'].unique()"
   ]
  },
  {
   "cell_type": "markdown",
   "metadata": {},
   "source": [
    "Пропущенные значения заполним заглушкой 'unknown'."
   ]
  },
  {
   "cell_type": "code",
   "execution_count": 26,
   "metadata": {},
   "outputs": [],
   "source": [
    "data['model'] = data['model'].fillna('unknown')"
   ]
  },
  {
   "cell_type": "markdown",
   "metadata": {},
   "source": [
    "#### Тип топлива - столбец `fuel_type`"
   ]
  },
  {
   "cell_type": "code",
   "execution_count": 27,
   "metadata": {},
   "outputs": [
    {
     "data": {
      "text/plain": [
       "array(['gasoline', 'petrol', nan, 'lpg', 'other', 'hybrid', 'cng',\n",
       "       'electric'], dtype=object)"
      ]
     },
     "execution_count": 27,
     "metadata": {},
     "output_type": "execute_result"
    }
   ],
   "source": [
    "data['fuel_type'].unique()"
   ]
  },
  {
   "cell_type": "markdown",
   "metadata": {},
   "source": [
    "Пропущенные значения заполним заглушкой 'unknown'."
   ]
  },
  {
   "cell_type": "code",
   "execution_count": 28,
   "metadata": {},
   "outputs": [],
   "source": [
    "data['fuel_type'] = data['fuel_type'].fillna('unknown')"
   ]
  },
  {
   "cell_type": "markdown",
   "metadata": {},
   "source": [
    "#### Факт ремонта - столбец `repaired`"
   ]
  },
  {
   "cell_type": "code",
   "execution_count": 29,
   "metadata": {
    "scrolled": false
   },
   "outputs": [
    {
     "data": {
      "text/plain": [
       "array(['yes', nan, 'no'], dtype=object)"
      ]
     },
     "execution_count": 29,
     "metadata": {},
     "output_type": "execute_result"
    }
   ],
   "source": [
    "data['repaired'].unique()"
   ]
  },
  {
   "cell_type": "markdown",
   "metadata": {},
   "source": [
    "Пропущенные значения заполним заглушкой 'unknown'."
   ]
  },
  {
   "cell_type": "code",
   "execution_count": 30,
   "metadata": {},
   "outputs": [],
   "source": [
    "data['repaired'] = data['repaired'].fillna('unknown')"
   ]
  },
  {
   "cell_type": "markdown",
   "metadata": {},
   "source": [
    "### Обработка дублиткатов"
   ]
  },
  {
   "cell_type": "code",
   "execution_count": 31,
   "metadata": {},
   "outputs": [
    {
     "data": {
      "text/plain": [
       "20000"
      ]
     },
     "execution_count": 31,
     "metadata": {},
     "output_type": "execute_result"
    }
   ],
   "source": [
    "data.duplicated().sum()"
   ]
  },
  {
   "cell_type": "code",
   "execution_count": 32,
   "metadata": {},
   "outputs": [],
   "source": [
    "data = data.drop_duplicates()"
   ]
  },
  {
   "cell_type": "code",
   "execution_count": 33,
   "metadata": {
    "scrolled": true
   },
   "outputs": [
    {
     "name": "stdout",
     "output_type": "stream",
     "text": [
      "<class 'pandas.core.frame.DataFrame'>\n",
      "Int64Index: 265603 entries, 1 to 354368\n",
      "Data columns (total 11 columns):\n",
      " #   Column             Non-Null Count   Dtype \n",
      "---  ------             --------------   ----- \n",
      " 0   price              265603 non-null  int64 \n",
      " 1   vehicle_type       265603 non-null  object\n",
      " 2   registration_year  265603 non-null  int64 \n",
      " 3   gearbox            265603 non-null  object\n",
      " 4   power              265603 non-null  int64 \n",
      " 5   model              265603 non-null  object\n",
      " 6   kilometers         265603 non-null  int64 \n",
      " 7   fuel_type          265603 non-null  object\n",
      " 8   brand              265603 non-null  object\n",
      " 9   repaired           265603 non-null  object\n",
      " 10  postal_code        265603 non-null  int64 \n",
      "dtypes: int64(5), object(6)\n",
      "memory usage: 24.3+ MB\n"
     ]
    }
   ],
   "source": [
    "data.info()"
   ]
  },
  {
   "cell_type": "markdown",
   "metadata": {},
   "source": [
    "### Разделение датасета на выборки"
   ]
  },
  {
   "cell_type": "markdown",
   "metadata": {},
   "source": [
    "Выделим признаки и целевой признак."
   ]
  },
  {
   "cell_type": "code",
   "execution_count": 34,
   "metadata": {},
   "outputs": [],
   "source": [
    "features = data.drop('price', axis=1)\n",
    "target = data['price']"
   ]
  },
  {
   "cell_type": "markdown",
   "metadata": {},
   "source": [
    "Разделим данные на обучающую и тестовую выборки."
   ]
  },
  {
   "cell_type": "code",
   "execution_count": 35,
   "metadata": {},
   "outputs": [],
   "source": [
    "# Делим выборки в соотношении 3:1\n",
    "features_train, features_test, \\\n",
    "target_train, target_test = train_test_split(features, target, \\\n",
    "                                             train_size=.75, \\\n",
    "                                             random_state=RANDOM_STATE)"
   ]
  },
  {
   "cell_type": "markdown",
   "metadata": {},
   "source": [
    "### Кодирование и масштабирование признаков"
   ]
  },
  {
   "cell_type": "markdown",
   "metadata": {},
   "source": [
    "Методом порядкового кодирования преобразуем категориальные признаки. "
   ]
  },
  {
   "cell_type": "code",
   "execution_count": 36,
   "metadata": {},
   "outputs": [],
   "source": [
    "cat_columns = ['vehicle_type', 'gearbox', 'model', \\\n",
    "               'fuel_type', 'brand', 'repaired']\n",
    "encoder = OrdinalEncoder()\n",
    "features_train[cat_columns] = encoder.fit_transform(features_train[cat_columns])\n",
    "features_test[cat_columns] = encoder.transform(features_test[cat_columns])"
   ]
  },
  {
   "cell_type": "markdown",
   "metadata": {},
   "source": [
    "Масштабируем признаки."
   ]
  },
  {
   "cell_type": "code",
   "execution_count": 37,
   "metadata": {},
   "outputs": [],
   "source": [
    "scaler = StandardScaler()\n",
    "features_train = pd.DataFrame(scaler.fit_transform(features_train), \\\n",
    "                              columns=features_train.columns)\n",
    "features_test = pd.DataFrame(scaler.transform(features_test), \\\n",
    "                             columns=features_test.columns)"
   ]
  },
  {
   "cell_type": "markdown",
   "metadata": {},
   "source": [
    "## Обучение моделей"
   ]
  },
  {
   "cell_type": "markdown",
   "metadata": {},
   "source": [
    "Методом RandomizedSearchCV произведём перебор гиперпараметров и обучим модель случайного леса, а также модели градиентоного бустинга catboost и lightgbm."
   ]
  },
  {
   "cell_type": "code",
   "execution_count": 38,
   "metadata": {},
   "outputs": [],
   "source": [
    "# В данном списке будут храниться метрики качества модели\n",
    "results = []"
   ]
  },
  {
   "cell_type": "code",
   "execution_count": 39,
   "metadata": {},
   "outputs": [],
   "source": [
    "rf_parameters = {\n",
    "    'n_estimators': np.arange(5, 51, 5),\n",
    "    'max_depth': np.arange(2, 31, 3),\n",
    "    'min_samples_leaf': np.arange(1, 501, 50)\n",
    "}\n",
    "model = RandomForestRegressor(random_state=RANDOM_STATE)\n",
    "rscv = RandomizedSearchCV(model, rf_parameters, cv=3, scoring='neg_root_mean_squared_error', n_iter=20, n_jobs=-1, random_state=RANDOM_STATE)"
   ]
  },
  {
   "cell_type": "code",
   "execution_count": 40,
   "metadata": {
    "scrolled": true
   },
   "outputs": [
    {
     "name": "stdout",
     "output_type": "stream",
     "text": [
      "CPU times: user 5min 43s, sys: 48.4 ms, total: 5min 43s\n",
      "Wall time: 5min 44s\n"
     ]
    },
    {
     "data": {
      "text/plain": [
       "RandomizedSearchCV(cv=3, estimator=RandomForestRegressor(random_state=123),\n",
       "                   n_iter=20, n_jobs=-1,\n",
       "                   param_distributions={'max_depth': array([ 2,  5,  8, 11, 14, 17, 20, 23, 26, 29]),\n",
       "                                        'min_samples_leaf': array([  1,  51, 101, 151, 201, 251, 301, 351, 401, 451]),\n",
       "                                        'n_estimators': array([ 5, 10, 15, 20, 25, 30, 35, 40, 45, 50])},\n",
       "                   random_state=123, scoring='neg_root_mean_squared_error')"
      ]
     },
     "execution_count": 40,
     "metadata": {},
     "output_type": "execute_result"
    }
   ],
   "source": [
    "%%time\n",
    "rscv.fit(features_train, target_train)"
   ]
  },
  {
   "cell_type": "code",
   "execution_count": 41,
   "metadata": {},
   "outputs": [
    {
     "name": "stdout",
     "output_type": "stream",
     "text": [
      "\n",
      "Показатель RMSE у модели случайного леса: 1784.3285563508598\n",
      "при гиперпараметрах {'n_estimators': 40, 'min_samples_leaf': 51, 'max_depth': 14}.\n",
      "Среднее время обучения: 10.568480571111044 секунд.\n",
      "Среднее время предсказания: 0.2994816303253174 секунд.\n",
      "\n"
     ]
    }
   ],
   "source": [
    "best_id = np.argmax(rscv.cv_results_['mean_test_score'])\n",
    "print(f'''\n",
    "Показатель RMSE у модели случайного леса: {(-rscv.cv_results_['mean_test_score'][best_id])}\n",
    "при гиперпараметрах {rscv.cv_results_['params'][best_id]}.\n",
    "Среднее время обучения: {rscv.cv_results_['mean_fit_time'][best_id]} секунд.\n",
    "Среднее время предсказания: {rscv.cv_results_['mean_score_time'][best_id]} секунд.\n",
    "''')\n",
    "results.append([(-rscv.cv_results_['mean_test_score'][best_id]), rscv.cv_results_['mean_fit_time'][best_id], \\\n",
    "                rscv.cv_results_['mean_score_time'][best_id]])"
   ]
  },
  {
   "cell_type": "code",
   "execution_count": 42,
   "metadata": {},
   "outputs": [],
   "source": [
    "model_rf = rscv.best_estimator_"
   ]
  },
  {
   "cell_type": "code",
   "execution_count": 43,
   "metadata": {
    "scrolled": true
   },
   "outputs": [],
   "source": [
    "ct_parameters = {\n",
    "    'depth' : [6, 8, 10],\n",
    "    'learning_rate': [0.01, 0.05, 0.1],\n",
    "    'iterations': np.arange(5, 151, 5)\n",
    "}\n",
    "model = CatBoostRegressor()\n",
    "rscv = RandomizedSearchCV(model, ct_parameters, cv=3, scoring='neg_root_mean_squared_error', n_iter=20, n_jobs=-1, random_state=RANDOM_STATE)"
   ]
  },
  {
   "cell_type": "code",
   "execution_count": 44,
   "metadata": {
    "scrolled": true
   },
   "outputs": [
    {
     "name": "stdout",
     "output_type": "stream",
     "text": [
      "CPU times: user 2min 30s, sys: 397 ms, total: 2min 31s\n",
      "Wall time: 3min 26s\n"
     ]
    },
    {
     "data": {
      "text/plain": [
       "RandomizedSearchCV(cv=3,\n",
       "                   estimator=<catboost.core.CatBoostRegressor object at 0x7fb50972e370>,\n",
       "                   n_iter=20, n_jobs=-1,\n",
       "                   param_distributions={'depth': [6, 8, 10],\n",
       "                                        'iterations': array([  5,  10,  15,  20,  25,  30,  35,  40,  45,  50,  55,  60,  65,\n",
       "        70,  75,  80,  85,  90,  95, 100, 105, 110, 115, 120, 125, 130,\n",
       "       135, 140, 145, 150]),\n",
       "                                        'learning_rate': [0.01, 0.05, 0.1]},\n",
       "                   random_state=123, scoring='neg_root_mean_squared_error')"
      ]
     },
     "execution_count": 44,
     "metadata": {},
     "output_type": "execute_result"
    }
   ],
   "source": [
    "%%time\n",
    "rscv.fit(features_train, target_train, verbose=0)"
   ]
  },
  {
   "cell_type": "code",
   "execution_count": 45,
   "metadata": {},
   "outputs": [
    {
     "name": "stdout",
     "output_type": "stream",
     "text": [
      "\n",
      "Показатель RMSE у модели градиентного бустинга - CatBoost: 1574.1089200930467\n",
      "при гиперпараметрах {'learning_rate': 0.1, 'iterations': 120, 'depth': 10}.\n",
      "Среднее время обучения: 5.462068637212117 секунд.\n",
      "Среднее время предсказания: 0.0290072758992513 секунд.\n",
      "\n"
     ]
    }
   ],
   "source": [
    "best_id = np.argmax(rscv.cv_results_['mean_test_score'])\n",
    "print(f'''\n",
    "Показатель RMSE у модели градиентного бустинга - CatBoost: {(-rscv.cv_results_['mean_test_score'][best_id])}\n",
    "при гиперпараметрах {rscv.cv_results_['params'][best_id]}.\n",
    "Среднее время обучения: {rscv.cv_results_['mean_fit_time'][best_id]} секунд.\n",
    "Среднее время предсказания: {rscv.cv_results_['mean_score_time'][best_id]} секунд.\n",
    "''')\n",
    "results.append([(-rscv.cv_results_['mean_test_score'][best_id]), rscv.cv_results_['mean_fit_time'][best_id], \\\n",
    "                rscv.cv_results_['mean_score_time'][best_id]])"
   ]
  },
  {
   "cell_type": "code",
   "execution_count": 46,
   "metadata": {},
   "outputs": [],
   "source": [
    "model_cb = rscv.best_estimator_"
   ]
  },
  {
   "cell_type": "code",
   "execution_count": 47,
   "metadata": {},
   "outputs": [],
   "source": [
    "lgbm_parameters = {\n",
    "    'max_depth' : np.arange(2, 31, 3),\n",
    "    'learning_rate': [0.01, 0.05, 0.1],\n",
    "    'n_estimators': np.arange(5, 151, 5)\n",
    "}\n",
    "model = LGBMRegressor()\n",
    "rscv = RandomizedSearchCV(model, lgbm_parameters, cv=3, scoring='neg_root_mean_squared_error', n_iter=20, n_jobs=-1, random_state=RANDOM_STATE)"
   ]
  },
  {
   "cell_type": "code",
   "execution_count": 48,
   "metadata": {
    "scrolled": true
   },
   "outputs": [
    {
     "name": "stdout",
     "output_type": "stream",
     "text": [
      "CPU times: user 3min 37s, sys: 525 ms, total: 3min 38s\n",
      "Wall time: 3min 38s\n"
     ]
    },
    {
     "data": {
      "text/plain": [
       "RandomizedSearchCV(cv=3, estimator=LGBMRegressor(), n_iter=20, n_jobs=-1,\n",
       "                   param_distributions={'learning_rate': [0.01, 0.05, 0.1],\n",
       "                                        'max_depth': array([ 2,  5,  8, 11, 14, 17, 20, 23, 26, 29]),\n",
       "                                        'n_estimators': array([  5,  10,  15,  20,  25,  30,  35,  40,  45,  50,  55,  60,  65,\n",
       "        70,  75,  80,  85,  90,  95, 100, 105, 110, 115, 120, 125, 130,\n",
       "       135, 140, 145, 150])},\n",
       "                   random_state=123, scoring='neg_root_mean_squared_error')"
      ]
     },
     "execution_count": 48,
     "metadata": {},
     "output_type": "execute_result"
    }
   ],
   "source": [
    "%%time\n",
    "rscv.fit(features_train, target_train)"
   ]
  },
  {
   "cell_type": "code",
   "execution_count": 49,
   "metadata": {},
   "outputs": [
    {
     "name": "stdout",
     "output_type": "stream",
     "text": [
      "\n",
      "Показатель RMSE у модели градиентного бустинга - LightGBM: 1575.7615863255285\n",
      "при гиперпараметрах {'n_estimators': 125, 'max_depth': 29, 'learning_rate': 0.1}.\n",
      "Среднее время обучения: 4.395722548166911 секунд.\n",
      "Среднее время предсказания: 0.7088420391082764 секунд.\n",
      "\n"
     ]
    }
   ],
   "source": [
    "best_id = np.argmax(rscv.cv_results_['mean_test_score'])\n",
    "print(f'''\n",
    "Показатель RMSE у модели градиентного бустинга - LightGBM: {(-rscv.cv_results_['mean_test_score'][best_id])}\n",
    "при гиперпараметрах {rscv.cv_results_['params'][best_id]}.\n",
    "Среднее время обучения: {rscv.cv_results_['mean_fit_time'][best_id]} секунд.\n",
    "Среднее время предсказания: {rscv.cv_results_['mean_score_time'][best_id]} секунд.\n",
    "''')\n",
    "results.append([(-rscv.cv_results_['mean_test_score'][best_id]), rscv.cv_results_['mean_fit_time'][best_id], \\\n",
    "                rscv.cv_results_['mean_score_time'][best_id]])"
   ]
  },
  {
   "cell_type": "code",
   "execution_count": 50,
   "metadata": {},
   "outputs": [],
   "source": [
    "model_lgbm = rscv.best_estimator_"
   ]
  },
  {
   "cell_type": "markdown",
   "metadata": {},
   "source": [
    "## Анализ моделей"
   ]
  },
  {
   "cell_type": "markdown",
   "metadata": {},
   "source": [
    "Посмотрим метрики качества по обученным моделям."
   ]
  },
  {
   "cell_type": "code",
   "execution_count": 51,
   "metadata": {},
   "outputs": [
    {
     "data": {
      "text/html": [
       "<div>\n",
       "<style scoped>\n",
       "    .dataframe tbody tr th:only-of-type {\n",
       "        vertical-align: middle;\n",
       "    }\n",
       "\n",
       "    .dataframe tbody tr th {\n",
       "        vertical-align: top;\n",
       "    }\n",
       "\n",
       "    .dataframe thead th {\n",
       "        text-align: right;\n",
       "    }\n",
       "</style>\n",
       "<table border=\"1\" class=\"dataframe\">\n",
       "  <thead>\n",
       "    <tr style=\"text-align: right;\">\n",
       "      <th></th>\n",
       "      <th>rmse</th>\n",
       "      <th>fit_time</th>\n",
       "      <th>score_time</th>\n",
       "    </tr>\n",
       "  </thead>\n",
       "  <tbody>\n",
       "    <tr>\n",
       "      <th>random_forest</th>\n",
       "      <td>1784.328556</td>\n",
       "      <td>10.568481</td>\n",
       "      <td>0.299482</td>\n",
       "    </tr>\n",
       "    <tr>\n",
       "      <th>catboost</th>\n",
       "      <td>1574.108920</td>\n",
       "      <td>5.462069</td>\n",
       "      <td>0.029007</td>\n",
       "    </tr>\n",
       "    <tr>\n",
       "      <th>lightgbm</th>\n",
       "      <td>1575.761586</td>\n",
       "      <td>4.395723</td>\n",
       "      <td>0.708842</td>\n",
       "    </tr>\n",
       "  </tbody>\n",
       "</table>\n",
       "</div>"
      ],
      "text/plain": [
       "                      rmse   fit_time  score_time\n",
       "random_forest  1784.328556  10.568481    0.299482\n",
       "catboost       1574.108920   5.462069    0.029007\n",
       "lightgbm       1575.761586   4.395723    0.708842"
      ]
     },
     "execution_count": 51,
     "metadata": {},
     "output_type": "execute_result"
    }
   ],
   "source": [
    "results = pd.DataFrame(results, columns=['rmse', 'fit_time', 'score_time'], \\\n",
    "                      index=['random_forest', 'catboost', 'lightgbm'])\n",
    "results"
   ]
  },
  {
   "cell_type": "markdown",
   "metadata": {},
   "source": [
    "Наименьший показатель RMSE у модели градиентного бустинга catboost, на втором месте модель lightgbm. По времени обучения лидирует модель lightgbm. По времени предсказания модель catboost на первом месте, модель случайного леса занимает второе место.  \n",
    "Учитывая маленькую разницу по метрике качества RMSE у моделей градиентного бустинга, а также значительный выигрыш модели lightgbm по времени обучения, выберем модель lightgbm для финального тестирования."
   ]
  },
  {
   "cell_type": "markdown",
   "metadata": {},
   "source": [
    "## Тестирование лучшей модели"
   ]
  },
  {
   "cell_type": "code",
   "execution_count": 52,
   "metadata": {},
   "outputs": [
    {
     "name": "stdout",
     "output_type": "stream",
     "text": [
      "RMSE модели на тестовых данных: 1553.3694947284812\n",
      "CPU times: user 677 ms, sys: 0 ns, total: 677 ms\n",
      "Wall time: 677 ms\n"
     ]
    }
   ],
   "source": [
    "%%time\n",
    "pred = model_lgbm.predict(features_test)\n",
    "rmse = mean_squared_error(target_test, pred) ** .5\n",
    "print('RMSE модели на тестовых данных:', rmse)"
   ]
  },
  {
   "cell_type": "code",
   "execution_count": 53,
   "metadata": {},
   "outputs": [
    {
     "name": "stdout",
     "output_type": "stream",
     "text": [
      "RMSE модели: 4603.328749398268\n"
     ]
    }
   ],
   "source": [
    "# Проверим адекватность модели.\n",
    "dummy = DummyRegressor()\n",
    "dummy.fit(features_test, target_test)\n",
    "dummy_pred = dummy.predict(features_test)\n",
    "dummy_rmse = mean_squared_error(target_test, dummy_pred) ** .5\n",
    "print('RMSE модели:', dummy_rmse)"
   ]
  },
  {
   "cell_type": "markdown",
   "metadata": {},
   "source": [
    "Модель адекватная."
   ]
  },
  {
   "cell_type": "markdown",
   "metadata": {},
   "source": [
    "## Общий вывод\n",
    "**Подготовка**  \n",
    "Обработаны пропуски и дубликаты в исходных данных.  \n",
    "Датасет разделён на обучающую и тестовую выборки в соотношении 3:1.  \n",
    "Данные закодированы и масштабированы.\n",
    "\n",
    "**Обучение**  \n",
    "Модели градиентного бустинга показали лучший результат. Финальное тестирование прошла модель LightGBM."
   ]
  }
 ],
 "metadata": {
  "ExecuteTimeLog": [
   {
    "duration": 2590,
    "start_time": "2023-04-23T17:44:44.154Z"
   },
   {
    "duration": 1601,
    "start_time": "2023-04-23T17:44:46.746Z"
   },
   {
    "duration": 44,
    "start_time": "2023-04-23T17:44:48.348Z"
   },
   {
    "duration": 3,
    "start_time": "2023-04-23T17:44:48.395Z"
   },
   {
    "duration": 1392,
    "start_time": "2023-04-23T17:44:48.400Z"
   },
   {
    "duration": 17,
    "start_time": "2023-04-23T17:44:49.794Z"
   },
   {
    "duration": 142,
    "start_time": "2023-04-23T17:44:49.812Z"
   },
   {
    "duration": 137,
    "start_time": "2023-04-23T17:44:49.956Z"
   },
   {
    "duration": 104,
    "start_time": "2023-04-23T17:44:50.094Z"
   },
   {
    "duration": 3,
    "start_time": "2023-04-23T17:44:50.201Z"
   },
   {
    "duration": 27,
    "start_time": "2023-04-23T17:44:50.206Z"
   },
   {
    "duration": 379,
    "start_time": "2023-04-23T17:44:50.235Z"
   },
   {
    "duration": 217,
    "start_time": "2023-04-23T17:44:50.616Z"
   },
   {
    "duration": 58,
    "start_time": "2023-04-23T17:44:50.835Z"
   },
   {
    "duration": 23,
    "start_time": "2023-04-23T17:44:50.895Z"
   },
   {
    "duration": 49,
    "start_time": "2023-04-23T17:44:50.920Z"
   },
   {
    "duration": 14,
    "start_time": "2023-04-23T17:44:50.971Z"
   },
   {
    "duration": 5,
    "start_time": "2023-04-23T17:44:50.987Z"
   },
   {
    "duration": 243,
    "start_time": "2023-04-23T17:44:50.993Z"
   },
   {
    "duration": 39,
    "start_time": "2023-04-23T17:44:51.237Z"
   },
   {
    "duration": 29,
    "start_time": "2023-04-23T17:44:51.279Z"
   },
   {
    "duration": 22,
    "start_time": "2023-04-23T17:44:51.310Z"
   },
   {
    "duration": 19,
    "start_time": "2023-04-23T17:44:51.334Z"
   },
   {
    "duration": 38,
    "start_time": "2023-04-23T17:44:51.355Z"
   },
   {
    "duration": 21,
    "start_time": "2023-04-23T17:44:51.395Z"
   },
   {
    "duration": 34,
    "start_time": "2023-04-23T17:44:51.418Z"
   },
   {
    "duration": 29,
    "start_time": "2023-04-23T17:44:51.454Z"
   },
   {
    "duration": 25,
    "start_time": "2023-04-23T17:44:51.487Z"
   },
   {
    "duration": 21,
    "start_time": "2023-04-23T17:44:51.513Z"
   },
   {
    "duration": 21,
    "start_time": "2023-04-23T17:44:51.536Z"
   },
   {
    "duration": 173,
    "start_time": "2023-04-23T17:44:51.559Z"
   },
   {
    "duration": 194,
    "start_time": "2023-04-23T17:44:51.733Z"
   },
   {
    "duration": 77,
    "start_time": "2023-04-23T17:44:51.928Z"
   },
   {
    "duration": 13,
    "start_time": "2023-04-23T17:44:52.007Z"
   },
   {
    "duration": 76,
    "start_time": "2023-04-23T17:44:52.022Z"
   },
   {
    "duration": 870,
    "start_time": "2023-04-23T17:44:52.100Z"
   },
   {
    "duration": 78,
    "start_time": "2023-04-23T17:44:52.972Z"
   },
   {
    "duration": 4,
    "start_time": "2023-04-23T17:44:53.051Z"
   },
   {
    "duration": 11,
    "start_time": "2023-04-23T17:44:53.056Z"
   },
   {
    "duration": 379817,
    "start_time": "2023-04-23T17:44:53.069Z"
   },
   {
    "duration": 5,
    "start_time": "2023-04-23T17:51:12.889Z"
   },
   {
    "duration": 7,
    "start_time": "2023-04-23T17:51:12.896Z"
   },
   {
    "duration": 16,
    "start_time": "2023-04-23T17:51:12.904Z"
   },
   {
    "duration": 214811,
    "start_time": "2023-04-23T17:51:12.921Z"
   },
   {
    "duration": 5,
    "start_time": "2023-04-23T17:54:47.733Z"
   },
   {
    "duration": 32,
    "start_time": "2023-04-23T17:54:47.739Z"
   },
   {
    "duration": 24,
    "start_time": "2023-04-23T17:54:47.773Z"
   },
   {
    "duration": 248101,
    "start_time": "2023-04-23T17:54:47.799Z"
   },
   {
    "duration": 5,
    "start_time": "2023-04-23T17:58:55.901Z"
   },
   {
    "duration": 3,
    "start_time": "2023-04-23T17:58:55.987Z"
   },
   {
    "duration": 12,
    "start_time": "2023-04-23T17:58:55.992Z"
   },
   {
    "duration": 683,
    "start_time": "2023-04-23T17:58:56.006Z"
   },
   {
    "duration": 5,
    "start_time": "2023-04-23T17:58:56.691Z"
   },
   {
    "duration": 2273,
    "start_time": "2023-10-11T03:28:08.487Z"
   },
   {
    "duration": 1509,
    "start_time": "2023-10-11T03:28:10.762Z"
   },
   {
    "duration": 2,
    "start_time": "2023-10-11T03:28:12.272Z"
   },
   {
    "duration": 3,
    "start_time": "2023-10-11T03:28:12.276Z"
   },
   {
    "duration": 1385,
    "start_time": "2023-10-11T03:28:12.280Z"
   },
   {
    "duration": 15,
    "start_time": "2023-10-11T03:28:13.666Z"
   },
   {
    "duration": 116,
    "start_time": "2023-10-11T03:28:13.682Z"
   },
   {
    "duration": 108,
    "start_time": "2023-10-11T03:28:13.799Z"
   },
   {
    "duration": 79,
    "start_time": "2023-10-11T03:28:13.908Z"
   },
   {
    "duration": 2,
    "start_time": "2023-10-11T03:28:13.989Z"
   },
   {
    "duration": 40,
    "start_time": "2023-10-11T03:28:13.993Z"
   },
   {
    "duration": 251,
    "start_time": "2023-10-11T03:28:14.034Z"
   },
   {
    "duration": 154,
    "start_time": "2023-10-11T03:28:14.287Z"
   },
   {
    "duration": 41,
    "start_time": "2023-10-11T03:28:14.442Z"
   },
   {
    "duration": 18,
    "start_time": "2023-10-11T03:28:14.484Z"
   },
   {
    "duration": 53,
    "start_time": "2023-10-11T03:28:14.503Z"
   },
   {
    "duration": 8,
    "start_time": "2023-10-11T03:28:14.558Z"
   },
   {
    "duration": 64,
    "start_time": "2023-10-11T03:28:14.567Z"
   },
   {
    "duration": 144,
    "start_time": "2023-10-11T03:28:14.632Z"
   },
   {
    "duration": 28,
    "start_time": "2023-10-11T03:28:14.777Z"
   },
   {
    "duration": 18,
    "start_time": "2023-10-11T03:28:14.806Z"
   },
   {
    "duration": 33,
    "start_time": "2023-10-11T03:28:14.825Z"
   },
   {
    "duration": 19,
    "start_time": "2023-10-11T03:28:14.859Z"
   },
   {
    "duration": 23,
    "start_time": "2023-10-11T03:28:14.879Z"
   },
   {
    "duration": 16,
    "start_time": "2023-10-11T03:28:14.904Z"
   },
   {
    "duration": 17,
    "start_time": "2023-10-11T03:28:14.921Z"
   },
   {
    "duration": 15,
    "start_time": "2023-10-11T03:28:14.940Z"
   },
   {
    "duration": 37,
    "start_time": "2023-10-11T03:28:14.958Z"
   },
   {
    "duration": 16,
    "start_time": "2023-10-11T03:28:14.997Z"
   },
   {
    "duration": 16,
    "start_time": "2023-10-11T03:28:15.014Z"
   },
   {
    "duration": 177,
    "start_time": "2023-10-11T03:28:15.031Z"
   },
   {
    "duration": 145,
    "start_time": "2023-10-11T03:28:15.209Z"
   },
   {
    "duration": 53,
    "start_time": "2023-10-11T03:28:15.355Z"
   },
   {
    "duration": 11,
    "start_time": "2023-10-11T03:28:15.409Z"
   },
   {
    "duration": 48,
    "start_time": "2023-10-11T03:28:15.422Z"
   },
   {
    "duration": 609,
    "start_time": "2023-10-11T03:28:15.471Z"
   },
   {
    "duration": 47,
    "start_time": "2023-10-11T03:28:16.081Z"
   },
   {
    "duration": 10,
    "start_time": "2023-10-11T03:28:16.129Z"
   },
   {
    "duration": 3,
    "start_time": "2023-10-11T03:28:16.141Z"
   },
   {
    "duration": 342729,
    "start_time": "2023-10-11T03:28:16.145Z"
   },
   {
    "duration": 5,
    "start_time": "2023-10-11T03:33:58.876Z"
   },
   {
    "duration": 5,
    "start_time": "2023-10-11T03:33:58.882Z"
   },
   {
    "duration": 4,
    "start_time": "2023-10-11T03:33:58.889Z"
   },
   {
    "duration": 117937,
    "start_time": "2023-10-11T03:33:58.894Z"
   },
   {
    "duration": 10,
    "start_time": "2023-10-11T03:35:56.832Z"
   },
   {
    "duration": 0,
    "start_time": "2023-10-11T03:35:56.844Z"
   },
   {
    "duration": 0,
    "start_time": "2023-10-11T03:35:56.845Z"
   },
   {
    "duration": 0,
    "start_time": "2023-10-11T03:35:56.846Z"
   },
   {
    "duration": 0,
    "start_time": "2023-10-11T03:35:56.847Z"
   },
   {
    "duration": 0,
    "start_time": "2023-10-11T03:35:56.848Z"
   },
   {
    "duration": 0,
    "start_time": "2023-10-11T03:35:56.849Z"
   },
   {
    "duration": 0,
    "start_time": "2023-10-11T03:35:56.850Z"
   },
   {
    "duration": 0,
    "start_time": "2023-10-11T03:35:56.851Z"
   },
   {
    "duration": 1856,
    "start_time": "2023-10-11T03:36:21.118Z"
   },
   {
    "duration": 1276,
    "start_time": "2023-10-11T03:36:22.975Z"
   },
   {
    "duration": 2,
    "start_time": "2023-10-11T03:36:24.253Z"
   },
   {
    "duration": 5,
    "start_time": "2023-10-11T03:36:24.256Z"
   },
   {
    "duration": 1272,
    "start_time": "2023-10-11T03:36:24.263Z"
   },
   {
    "duration": 14,
    "start_time": "2023-10-11T03:36:25.536Z"
   },
   {
    "duration": 115,
    "start_time": "2023-10-11T03:36:25.552Z"
   },
   {
    "duration": 106,
    "start_time": "2023-10-11T03:36:25.668Z"
   },
   {
    "duration": 82,
    "start_time": "2023-10-11T03:36:25.775Z"
   },
   {
    "duration": 2,
    "start_time": "2023-10-11T03:36:25.858Z"
   },
   {
    "duration": 13,
    "start_time": "2023-10-11T03:36:25.861Z"
   },
   {
    "duration": 243,
    "start_time": "2023-10-11T03:36:25.875Z"
   },
   {
    "duration": 158,
    "start_time": "2023-10-11T03:36:26.119Z"
   },
   {
    "duration": 105,
    "start_time": "2023-10-11T03:36:26.280Z"
   },
   {
    "duration": 17,
    "start_time": "2023-10-11T03:36:26.386Z"
   },
   {
    "duration": 19,
    "start_time": "2023-10-11T03:36:26.404Z"
   },
   {
    "duration": 19,
    "start_time": "2023-10-11T03:36:26.424Z"
   },
   {
    "duration": 3,
    "start_time": "2023-10-11T03:36:26.444Z"
   },
   {
    "duration": 102,
    "start_time": "2023-10-11T03:36:26.449Z"
   },
   {
    "duration": 28,
    "start_time": "2023-10-11T03:36:26.553Z"
   },
   {
    "duration": 18,
    "start_time": "2023-10-11T03:36:26.582Z"
   },
   {
    "duration": 18,
    "start_time": "2023-10-11T03:36:26.601Z"
   },
   {
    "duration": 20,
    "start_time": "2023-10-11T03:36:26.621Z"
   },
   {
    "duration": 23,
    "start_time": "2023-10-11T03:36:26.642Z"
   },
   {
    "duration": 17,
    "start_time": "2023-10-11T03:36:26.666Z"
   },
   {
    "duration": 24,
    "start_time": "2023-10-11T03:36:26.684Z"
   },
   {
    "duration": 17,
    "start_time": "2023-10-11T03:36:26.710Z"
   },
   {
    "duration": 24,
    "start_time": "2023-10-11T03:36:26.728Z"
   },
   {
    "duration": 14,
    "start_time": "2023-10-11T03:36:26.753Z"
   },
   {
    "duration": 26,
    "start_time": "2023-10-11T03:36:26.768Z"
   },
   {
    "duration": 146,
    "start_time": "2023-10-11T03:36:26.795Z"
   },
   {
    "duration": 142,
    "start_time": "2023-10-11T03:36:26.943Z"
   },
   {
    "duration": 55,
    "start_time": "2023-10-11T03:36:27.087Z"
   },
   {
    "duration": 11,
    "start_time": "2023-10-11T03:36:27.143Z"
   },
   {
    "duration": 37,
    "start_time": "2023-10-11T03:36:27.155Z"
   },
   {
    "duration": 607,
    "start_time": "2023-10-11T03:36:27.193Z"
   },
   {
    "duration": 50,
    "start_time": "2023-10-11T03:36:27.801Z"
   },
   {
    "duration": 2,
    "start_time": "2023-10-11T03:36:27.852Z"
   },
   {
    "duration": 27,
    "start_time": "2023-10-11T03:36:27.855Z"
   },
   {
    "duration": 344126,
    "start_time": "2023-10-11T03:36:27.883Z"
   },
   {
    "duration": 3,
    "start_time": "2023-10-11T03:42:12.013Z"
   },
   {
    "duration": 21,
    "start_time": "2023-10-11T03:42:12.017Z"
   },
   {
    "duration": 15,
    "start_time": "2023-10-11T03:42:12.039Z"
   },
   {
    "duration": 206417,
    "start_time": "2023-10-11T03:42:12.055Z"
   },
   {
    "duration": 4,
    "start_time": "2023-10-11T03:45:38.473Z"
   },
   {
    "duration": 5,
    "start_time": "2023-10-11T03:45:38.478Z"
   },
   {
    "duration": 4,
    "start_time": "2023-10-11T03:45:38.484Z"
   },
   {
    "duration": 218559,
    "start_time": "2023-10-11T03:45:38.489Z"
   },
   {
    "duration": 4,
    "start_time": "2023-10-11T03:49:17.049Z"
   },
   {
    "duration": 86,
    "start_time": "2023-10-11T03:49:17.054Z"
   },
   {
    "duration": 16,
    "start_time": "2023-10-11T03:49:17.141Z"
   },
   {
    "duration": 685,
    "start_time": "2023-10-11T03:49:17.158Z"
   },
   {
    "duration": 4,
    "start_time": "2023-10-11T03:49:17.844Z"
   }
  ],
  "kernelspec": {
   "display_name": "Python 3 (ipykernel)",
   "language": "python",
   "name": "python3"
  },
  "language_info": {
   "codemirror_mode": {
    "name": "ipython",
    "version": 3
   },
   "file_extension": ".py",
   "mimetype": "text/x-python",
   "name": "python",
   "nbconvert_exporter": "python",
   "pygments_lexer": "ipython3",
   "version": "3.10.9"
  },
  "toc": {
   "base_numbering": 1,
   "nav_menu": {},
   "number_sections": true,
   "sideBar": true,
   "skip_h1_title": true,
   "title_cell": "Table of Contents",
   "title_sidebar": "Contents",
   "toc_cell": false,
   "toc_position": {},
   "toc_section_display": true,
   "toc_window_display": false
  }
 },
 "nbformat": 4,
 "nbformat_minor": 2
}
